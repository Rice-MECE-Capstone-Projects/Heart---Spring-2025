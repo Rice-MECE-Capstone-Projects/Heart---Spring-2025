{
 "cells": [
  {
   "cell_type": "markdown",
   "id": "5ae1a482",
   "metadata": {},
   "source": [
    "## Exploring Physionet 2022 Dataset"
   ]
  },
  {
   "cell_type": "code",
   "execution_count": 1,
   "id": "51a4cebe",
   "metadata": {},
   "outputs": [],
   "source": [
    "import pandas as pd\n",
    "import numpy as np"
   ]
  },
  {
   "cell_type": "code",
   "execution_count": 2,
   "id": "7ce56d5e",
   "metadata": {},
   "outputs": [],
   "source": [
    "physio22_path = '/Users/donu/Desktop/S25/ELEC 594/datasets/physio22/'\n",
    "physio_train_anno_path = physio22_path +'annotations/Online_Appendix_training_set.csv'"
   ]
  },
  {
   "cell_type": "markdown",
   "id": "8f8825b6",
   "metadata": {},
   "source": [
    "### 1. Preprocessing"
   ]
  },
  {
   "cell_type": "code",
   "execution_count": null,
   "id": "a4c80514",
   "metadata": {},
   "outputs": [],
   "source": []
  }
 ],
 "metadata": {
  "kernelspec": {
   "display_name": "base",
   "language": "python",
   "name": "python3"
  },
  "language_info": {
   "codemirror_mode": {
    "name": "ipython",
    "version": 3
   },
   "file_extension": ".py",
   "mimetype": "text/x-python",
   "name": "python",
   "nbconvert_exporter": "python",
   "pygments_lexer": "ipython3",
   "version": "3.11.8"
  }
 },
 "nbformat": 4,
 "nbformat_minor": 5
}
