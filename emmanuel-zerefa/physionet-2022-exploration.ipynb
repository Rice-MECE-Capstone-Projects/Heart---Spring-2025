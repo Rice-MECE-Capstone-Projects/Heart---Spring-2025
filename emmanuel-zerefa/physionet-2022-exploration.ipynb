{
 "cells": [
  {
   "cell_type": "markdown",
   "id": "5ae1a482",
   "metadata": {},
   "source": [
    "## Exploring Physionet 2022 Dataset"
   ]
  },
  {
   "cell_type": "code",
   "execution_count": 160,
   "id": "51a4cebe",
   "metadata": {},
   "outputs": [],
   "source": [
    "import pandas as pd\n",
    "import numpy as np\n",
    "import os"
   ]
  },
  {
   "cell_type": "code",
   "execution_count": null,
   "id": "7ce56d5e",
   "metadata": {},
   "outputs": [],
   "source": [
    "physio22_path = '/Users/donu/Desktop/semesters/S25/ELEC 594/datasets/physio22/'\n",
    "physio_train_anno_path = physio22_path +'training_data.csv'\n",
    "train_path = physio22_path+'training_data/'\n",
    "val_path = physio22_path+'validation_data/'\n",
    "test_path = physio22_path+'test_data/'"
   ]
  },
  {
   "cell_type": "markdown",
   "id": "8f8825b6",
   "metadata": {},
   "source": [
    "### 1. Exploring Training Data"
   ]
  },
  {
   "cell_type": "code",
   "execution_count": 328,
   "id": "c2a01de7",
   "metadata": {},
   "outputs": [
    {
     "data": {
      "text/plain": [
       "'/Users/donu/Desktop/S25/ELEC 594/datasets/physio22/training_data.csv'"
      ]
     },
     "execution_count": 328,
     "metadata": {},
     "output_type": "execute_result"
    }
   ],
   "source": [
    "physio_train_anno_path"
   ]
  },
  {
   "cell_type": "code",
   "execution_count": 330,
   "id": "a4c80514",
   "metadata": {},
   "outputs": [],
   "source": [
    "train_data  = pd.read_csv(physio_train_anno_path)\n",
    "num_recordings = train_data.shape[0]"
   ]
  },
  {
   "cell_type": "code",
   "execution_count": null,
   "id": "6ed758ec",
   "metadata": {},
   "outputs": [],
   "source": []
  },
  {
   "cell_type": "code",
   "execution_count": 163,
   "id": "4502187b",
   "metadata": {},
   "outputs": [
    {
     "name": "stdout",
     "output_type": "stream",
     "text": [
      "3163 wavs from 942 patients\n"
     ]
    }
   ],
   "source": [
    "# how many sounds are in the training dset\n",
    "training_sounds = list(filter(lambda x: x.endswith('.wav'), os.listdir(physio22_path+'training_data/')))\n",
    "print(f\"{len(training_sounds)} wavs from {num_recordings} patients\")"
   ]
  },
  {
   "cell_type": "code",
   "execution_count": 164,
   "id": "e2c11b24",
   "metadata": {},
   "outputs": [
    {
     "data": {
      "application/vnd.microsoft.datawrangler.viewer.v0+json": {
       "columns": [
        {
         "name": "index",
         "rawType": "int64",
         "type": "integer"
        },
        {
         "name": "Patient ID",
         "rawType": "int64",
         "type": "integer"
        },
        {
         "name": "Recording locations:",
         "rawType": "object",
         "type": "string"
        },
        {
         "name": "Age",
         "rawType": "object",
         "type": "string"
        },
        {
         "name": "Sex",
         "rawType": "object",
         "type": "string"
        },
        {
         "name": "Height",
         "rawType": "float64",
         "type": "float"
        },
        {
         "name": "Weight",
         "rawType": "float64",
         "type": "float"
        },
        {
         "name": "Pregnancy status",
         "rawType": "bool",
         "type": "boolean"
        },
        {
         "name": "Murmur",
         "rawType": "object",
         "type": "string"
        },
        {
         "name": "Murmur locations",
         "rawType": "object",
         "type": "unknown"
        },
        {
         "name": "Most audible location",
         "rawType": "object",
         "type": "unknown"
        },
        {
         "name": "Systolic murmur timing",
         "rawType": "object",
         "type": "unknown"
        },
        {
         "name": "Systolic murmur shape",
         "rawType": "object",
         "type": "unknown"
        },
        {
         "name": "Systolic murmur grading",
         "rawType": "object",
         "type": "unknown"
        },
        {
         "name": "Systolic murmur pitch",
         "rawType": "object",
         "type": "unknown"
        },
        {
         "name": "Systolic murmur quality",
         "rawType": "object",
         "type": "unknown"
        },
        {
         "name": "Diastolic murmur timing",
         "rawType": "object",
         "type": "unknown"
        },
        {
         "name": "Diastolic murmur shape",
         "rawType": "object",
         "type": "unknown"
        },
        {
         "name": "Diastolic murmur grading",
         "rawType": "object",
         "type": "unknown"
        },
        {
         "name": "Diastolic murmur pitch",
         "rawType": "object",
         "type": "unknown"
        },
        {
         "name": "Diastolic murmur quality",
         "rawType": "object",
         "type": "unknown"
        },
        {
         "name": "Outcome",
         "rawType": "object",
         "type": "string"
        },
        {
         "name": "Campaign",
         "rawType": "object",
         "type": "string"
        },
        {
         "name": "Additional ID",
         "rawType": "float64",
         "type": "float"
        }
       ],
       "ref": "a0e11d0a-732c-4d34-ace6-a03146d7e933",
       "rows": [
        [
         "0",
         "2530",
         "AV+PV+TV+MV",
         "Child",
         "Female",
         "98.0",
         "15.9",
         "False",
         "Absent",
         null,
         null,
         null,
         null,
         null,
         null,
         null,
         null,
         null,
         null,
         null,
         null,
         "Abnormal",
         "CC2015",
         null
        ],
        [
         "1",
         "9979",
         "AV+PV+TV+MV",
         "Child",
         "Female",
         "103.0",
         "13.1",
         "False",
         "Present",
         "AV+MV+PV+TV",
         "TV",
         "Holosystolic",
         "Diamond",
         "III/VI",
         "High",
         "Harsh",
         null,
         null,
         null,
         null,
         null,
         "Abnormal",
         "CC2015",
         null
        ],
        [
         "2",
         "9983",
         "AV+PV+TV+MV",
         "Child",
         "Male",
         "115.0",
         "19.1",
         "False",
         "Unknown",
         null,
         null,
         null,
         null,
         null,
         null,
         null,
         null,
         null,
         null,
         null,
         null,
         "Abnormal",
         "CC2015",
         null
        ],
        [
         "3",
         "13918",
         "AV+PV+TV+MV",
         "Child",
         "Male",
         "98.0",
         "15.9",
         "False",
         "Present",
         "TV",
         "TV",
         "Holosystolic",
         "Plateau",
         "I/VI",
         "Low",
         "Blowing",
         null,
         null,
         null,
         null,
         null,
         "Abnormal",
         "CC2015",
         null
        ],
        [
         "4",
         "14241",
         "AV+PV+TV+MV",
         "Child",
         "Male",
         "87.0",
         "11.2",
         "False",
         "Present",
         "AV+MV+PV+TV",
         "PV",
         "Early-systolic",
         "Plateau",
         "II/VI",
         "Low",
         "Harsh",
         null,
         null,
         null,
         null,
         null,
         "Abnormal",
         "CC2015",
         null
        ]
       ],
       "shape": {
        "columns": 23,
        "rows": 5
       }
      },
      "text/html": [
       "<div>\n",
       "<style scoped>\n",
       "    .dataframe tbody tr th:only-of-type {\n",
       "        vertical-align: middle;\n",
       "    }\n",
       "\n",
       "    .dataframe tbody tr th {\n",
       "        vertical-align: top;\n",
       "    }\n",
       "\n",
       "    .dataframe thead th {\n",
       "        text-align: right;\n",
       "    }\n",
       "</style>\n",
       "<table border=\"1\" class=\"dataframe\">\n",
       "  <thead>\n",
       "    <tr style=\"text-align: right;\">\n",
       "      <th></th>\n",
       "      <th>Patient ID</th>\n",
       "      <th>Recording locations:</th>\n",
       "      <th>Age</th>\n",
       "      <th>Sex</th>\n",
       "      <th>Height</th>\n",
       "      <th>Weight</th>\n",
       "      <th>Pregnancy status</th>\n",
       "      <th>Murmur</th>\n",
       "      <th>Murmur locations</th>\n",
       "      <th>Most audible location</th>\n",
       "      <th>...</th>\n",
       "      <th>Systolic murmur pitch</th>\n",
       "      <th>Systolic murmur quality</th>\n",
       "      <th>Diastolic murmur timing</th>\n",
       "      <th>Diastolic murmur shape</th>\n",
       "      <th>Diastolic murmur grading</th>\n",
       "      <th>Diastolic murmur pitch</th>\n",
       "      <th>Diastolic murmur quality</th>\n",
       "      <th>Outcome</th>\n",
       "      <th>Campaign</th>\n",
       "      <th>Additional ID</th>\n",
       "    </tr>\n",
       "  </thead>\n",
       "  <tbody>\n",
       "    <tr>\n",
       "      <th>0</th>\n",
       "      <td>2530</td>\n",
       "      <td>AV+PV+TV+MV</td>\n",
       "      <td>Child</td>\n",
       "      <td>Female</td>\n",
       "      <td>98.0</td>\n",
       "      <td>15.9</td>\n",
       "      <td>False</td>\n",
       "      <td>Absent</td>\n",
       "      <td>NaN</td>\n",
       "      <td>NaN</td>\n",
       "      <td>...</td>\n",
       "      <td>NaN</td>\n",
       "      <td>NaN</td>\n",
       "      <td>NaN</td>\n",
       "      <td>NaN</td>\n",
       "      <td>NaN</td>\n",
       "      <td>NaN</td>\n",
       "      <td>NaN</td>\n",
       "      <td>Abnormal</td>\n",
       "      <td>CC2015</td>\n",
       "      <td>NaN</td>\n",
       "    </tr>\n",
       "    <tr>\n",
       "      <th>1</th>\n",
       "      <td>9979</td>\n",
       "      <td>AV+PV+TV+MV</td>\n",
       "      <td>Child</td>\n",
       "      <td>Female</td>\n",
       "      <td>103.0</td>\n",
       "      <td>13.1</td>\n",
       "      <td>False</td>\n",
       "      <td>Present</td>\n",
       "      <td>AV+MV+PV+TV</td>\n",
       "      <td>TV</td>\n",
       "      <td>...</td>\n",
       "      <td>High</td>\n",
       "      <td>Harsh</td>\n",
       "      <td>NaN</td>\n",
       "      <td>NaN</td>\n",
       "      <td>NaN</td>\n",
       "      <td>NaN</td>\n",
       "      <td>NaN</td>\n",
       "      <td>Abnormal</td>\n",
       "      <td>CC2015</td>\n",
       "      <td>NaN</td>\n",
       "    </tr>\n",
       "    <tr>\n",
       "      <th>2</th>\n",
       "      <td>9983</td>\n",
       "      <td>AV+PV+TV+MV</td>\n",
       "      <td>Child</td>\n",
       "      <td>Male</td>\n",
       "      <td>115.0</td>\n",
       "      <td>19.1</td>\n",
       "      <td>False</td>\n",
       "      <td>Unknown</td>\n",
       "      <td>NaN</td>\n",
       "      <td>NaN</td>\n",
       "      <td>...</td>\n",
       "      <td>NaN</td>\n",
       "      <td>NaN</td>\n",
       "      <td>NaN</td>\n",
       "      <td>NaN</td>\n",
       "      <td>NaN</td>\n",
       "      <td>NaN</td>\n",
       "      <td>NaN</td>\n",
       "      <td>Abnormal</td>\n",
       "      <td>CC2015</td>\n",
       "      <td>NaN</td>\n",
       "    </tr>\n",
       "    <tr>\n",
       "      <th>3</th>\n",
       "      <td>13918</td>\n",
       "      <td>AV+PV+TV+MV</td>\n",
       "      <td>Child</td>\n",
       "      <td>Male</td>\n",
       "      <td>98.0</td>\n",
       "      <td>15.9</td>\n",
       "      <td>False</td>\n",
       "      <td>Present</td>\n",
       "      <td>TV</td>\n",
       "      <td>TV</td>\n",
       "      <td>...</td>\n",
       "      <td>Low</td>\n",
       "      <td>Blowing</td>\n",
       "      <td>NaN</td>\n",
       "      <td>NaN</td>\n",
       "      <td>NaN</td>\n",
       "      <td>NaN</td>\n",
       "      <td>NaN</td>\n",
       "      <td>Abnormal</td>\n",
       "      <td>CC2015</td>\n",
       "      <td>NaN</td>\n",
       "    </tr>\n",
       "    <tr>\n",
       "      <th>4</th>\n",
       "      <td>14241</td>\n",
       "      <td>AV+PV+TV+MV</td>\n",
       "      <td>Child</td>\n",
       "      <td>Male</td>\n",
       "      <td>87.0</td>\n",
       "      <td>11.2</td>\n",
       "      <td>False</td>\n",
       "      <td>Present</td>\n",
       "      <td>AV+MV+PV+TV</td>\n",
       "      <td>PV</td>\n",
       "      <td>...</td>\n",
       "      <td>Low</td>\n",
       "      <td>Harsh</td>\n",
       "      <td>NaN</td>\n",
       "      <td>NaN</td>\n",
       "      <td>NaN</td>\n",
       "      <td>NaN</td>\n",
       "      <td>NaN</td>\n",
       "      <td>Abnormal</td>\n",
       "      <td>CC2015</td>\n",
       "      <td>NaN</td>\n",
       "    </tr>\n",
       "  </tbody>\n",
       "</table>\n",
       "<p>5 rows × 23 columns</p>\n",
       "</div>"
      ],
      "text/plain": [
       "   Patient ID Recording locations:    Age     Sex  Height  Weight  \\\n",
       "0        2530          AV+PV+TV+MV  Child  Female    98.0    15.9   \n",
       "1        9979          AV+PV+TV+MV  Child  Female   103.0    13.1   \n",
       "2        9983          AV+PV+TV+MV  Child    Male   115.0    19.1   \n",
       "3       13918          AV+PV+TV+MV  Child    Male    98.0    15.9   \n",
       "4       14241          AV+PV+TV+MV  Child    Male    87.0    11.2   \n",
       "\n",
       "   Pregnancy status   Murmur Murmur locations Most audible location  ...  \\\n",
       "0             False   Absent              NaN                   NaN  ...   \n",
       "1             False  Present      AV+MV+PV+TV                    TV  ...   \n",
       "2             False  Unknown              NaN                   NaN  ...   \n",
       "3             False  Present               TV                    TV  ...   \n",
       "4             False  Present      AV+MV+PV+TV                    PV  ...   \n",
       "\n",
       "  Systolic murmur pitch Systolic murmur quality Diastolic murmur timing  \\\n",
       "0                   NaN                     NaN                     NaN   \n",
       "1                  High                   Harsh                     NaN   \n",
       "2                   NaN                     NaN                     NaN   \n",
       "3                   Low                 Blowing                     NaN   \n",
       "4                   Low                   Harsh                     NaN   \n",
       "\n",
       "  Diastolic murmur shape Diastolic murmur grading Diastolic murmur pitch  \\\n",
       "0                    NaN                      NaN                    NaN   \n",
       "1                    NaN                      NaN                    NaN   \n",
       "2                    NaN                      NaN                    NaN   \n",
       "3                    NaN                      NaN                    NaN   \n",
       "4                    NaN                      NaN                    NaN   \n",
       "\n",
       "  Diastolic murmur quality   Outcome Campaign Additional ID  \n",
       "0                      NaN  Abnormal   CC2015           NaN  \n",
       "1                      NaN  Abnormal   CC2015           NaN  \n",
       "2                      NaN  Abnormal   CC2015           NaN  \n",
       "3                      NaN  Abnormal   CC2015           NaN  \n",
       "4                      NaN  Abnormal   CC2015           NaN  \n",
       "\n",
       "[5 rows x 23 columns]"
      ]
     },
     "execution_count": 164,
     "metadata": {},
     "output_type": "execute_result"
    }
   ],
   "source": [
    "train_data.head()"
   ]
  },
  {
   "cell_type": "code",
   "execution_count": 165,
   "id": "393d3a09",
   "metadata": {},
   "outputs": [
    {
     "data": {
      "text/plain": [
       "array(['Child', 'Adolescent', 'Infant', nan, 'Neonate'], dtype=object)"
      ]
     },
     "execution_count": 165,
     "metadata": {},
     "output_type": "execute_result"
    }
   ],
   "source": [
    "# neonate means < 28 days old\n",
    "train_data[\"Age\"].unique()"
   ]
  },
  {
   "cell_type": "code",
   "execution_count": 166,
   "id": "43a61e0e",
   "metadata": {},
   "outputs": [
    {
     "data": {
      "text/plain": [
       "868"
      ]
     },
     "execution_count": 166,
     "metadata": {},
     "output_type": "execute_result"
    }
   ],
   "source": [
    "sum(train_data[\"Age\"].isin(['Child', 'Adolescent', 'Infant', 'Neonate']))"
   ]
  },
  {
   "cell_type": "code",
   "execution_count": 167,
   "id": "8e834f5a",
   "metadata": {},
   "outputs": [],
   "source": [
    "find_murmur_rows = lambda x: x['Murmur'] == 'Present'\n",
    "find_normal_rows = lambda x: x['Murmur'] == 'Absent'\n",
    "find_unknown_rows = lambda x: x['Murmur'] == 'Unknown'"
   ]
  },
  {
   "cell_type": "code",
   "execution_count": 168,
   "id": "72095647",
   "metadata": {},
   "outputs": [],
   "source": [
    "no_murmur = find_normal_rows(train_data)\n",
    "has_murmur = find_murmur_rows(train_data)\n",
    "unknown_murmur = find_unknown_rows(train_data)\n",
    "\n",
    "physio22_murmurs = train_data[has_murmur]\n",
    "physio22_normal = train_data[no_murmur]\n",
    "physio22_unknown = train_data[unknown_murmur]\n",
    "# !impt: it's possible to use severity classification to futher evaluate denoising performance"
   ]
  },
  {
   "cell_type": "code",
   "execution_count": 180,
   "id": "c1046d9a",
   "metadata": {},
   "outputs": [
    {
     "name": "stdout",
     "output_type": "stream",
     "text": [
      "Murmur counts 179\n",
      "Normal counts 695\n"
     ]
    }
   ],
   "source": [
    "print(\"Murmur counts\", len(physio22_murmurs))\n",
    "print(\"Normal counts\", len(physio22_normal))"
   ]
  },
  {
   "cell_type": "code",
   "execution_count": null,
   "id": "14bfeb69",
   "metadata": {},
   "outputs": [],
   "source": []
  },
  {
   "cell_type": "code",
   "execution_count": 169,
   "id": "b84a74eb",
   "metadata": {},
   "outputs": [
    {
     "data": {
      "text/plain": [
       "456"
      ]
     },
     "execution_count": 169,
     "metadata": {},
     "output_type": "execute_result"
    }
   ],
   "source": [
    "np.sum(train_data[\"Outcome\"]== \"Abnormal\")\n",
    "# interesting how number of abnormal outcomes far exceeds number of murmurs\n",
    "# can be useful for detecting benign murmurs later?"
   ]
  },
  {
   "cell_type": "code",
   "execution_count": 170,
   "id": "2a8df01a",
   "metadata": {},
   "outputs": [
    {
     "data": {
      "application/vnd.microsoft.datawrangler.viewer.v0+json": {
       "columns": [
        {
         "name": "index",
         "rawType": "int64",
         "type": "integer"
        },
        {
         "name": "Patient ID",
         "rawType": "int64",
         "type": "integer"
        },
        {
         "name": "Recording locations:",
         "rawType": "object",
         "type": "string"
        },
        {
         "name": "Age",
         "rawType": "object",
         "type": "string"
        },
        {
         "name": "Sex",
         "rawType": "object",
         "type": "string"
        },
        {
         "name": "Height",
         "rawType": "float64",
         "type": "float"
        },
        {
         "name": "Weight",
         "rawType": "float64",
         "type": "float"
        },
        {
         "name": "Pregnancy status",
         "rawType": "bool",
         "type": "boolean"
        },
        {
         "name": "Murmur",
         "rawType": "object",
         "type": "string"
        },
        {
         "name": "Murmur locations",
         "rawType": "object",
         "type": "string"
        },
        {
         "name": "Most audible location",
         "rawType": "object",
         "type": "string"
        },
        {
         "name": "Systolic murmur timing",
         "rawType": "object",
         "type": "string"
        },
        {
         "name": "Systolic murmur shape",
         "rawType": "object",
         "type": "string"
        },
        {
         "name": "Systolic murmur grading",
         "rawType": "object",
         "type": "string"
        },
        {
         "name": "Systolic murmur pitch",
         "rawType": "object",
         "type": "string"
        },
        {
         "name": "Systolic murmur quality",
         "rawType": "object",
         "type": "string"
        },
        {
         "name": "Diastolic murmur timing",
         "rawType": "object",
         "type": "unknown"
        },
        {
         "name": "Diastolic murmur shape",
         "rawType": "object",
         "type": "unknown"
        },
        {
         "name": "Diastolic murmur grading",
         "rawType": "object",
         "type": "unknown"
        },
        {
         "name": "Diastolic murmur pitch",
         "rawType": "object",
         "type": "unknown"
        },
        {
         "name": "Diastolic murmur quality",
         "rawType": "object",
         "type": "unknown"
        },
        {
         "name": "Outcome",
         "rawType": "object",
         "type": "string"
        },
        {
         "name": "Campaign",
         "rawType": "object",
         "type": "string"
        },
        {
         "name": "Additional ID",
         "rawType": "float64",
         "type": "float"
        }
       ],
       "ref": "a356aa34-d655-4e6f-83f6-74b183793b65",
       "rows": [
        [
         "1",
         "9979",
         "AV+PV+TV+MV",
         "Child",
         "Female",
         "103.0",
         "13.1",
         "False",
         "Present",
         "AV+MV+PV+TV",
         "TV",
         "Holosystolic",
         "Diamond",
         "III/VI",
         "High",
         "Harsh",
         null,
         null,
         null,
         null,
         null,
         "Abnormal",
         "CC2015",
         null
        ],
        [
         "3",
         "13918",
         "AV+PV+TV+MV",
         "Child",
         "Male",
         "98.0",
         "15.9",
         "False",
         "Present",
         "TV",
         "TV",
         "Holosystolic",
         "Plateau",
         "I/VI",
         "Low",
         "Blowing",
         null,
         null,
         null,
         null,
         null,
         "Abnormal",
         "CC2015",
         null
        ],
        [
         "4",
         "14241",
         "AV+PV+TV+MV",
         "Child",
         "Male",
         "87.0",
         "11.2",
         "False",
         "Present",
         "AV+MV+PV+TV",
         "PV",
         "Early-systolic",
         "Plateau",
         "II/VI",
         "Low",
         "Harsh",
         null,
         null,
         null,
         null,
         null,
         "Abnormal",
         "CC2015",
         null
        ],
        [
         "8",
         "29045",
         "AV+PV+TV+MV",
         "Child",
         "Female",
         "88.0",
         "12.5",
         "False",
         "Present",
         "AV+MV+PV+TV",
         "TV",
         "Holosystolic",
         "Plateau",
         "II/VI",
         "Low",
         "Blowing",
         null,
         null,
         null,
         null,
         null,
         "Abnormal",
         "CC2015",
         null
        ],
        [
         "11",
         "33151",
         "AV+PV+TV+MV",
         "Child",
         "Female",
         "141.0",
         "30.9",
         "False",
         "Present",
         "MV+TV",
         "TV",
         "Holosystolic",
         "Plateau",
         "I/VI",
         "Low",
         "Harsh",
         null,
         null,
         null,
         null,
         null,
         "Abnormal",
         "CC2015",
         null
        ]
       ],
       "shape": {
        "columns": 23,
        "rows": 5
       }
      },
      "text/html": [
       "<div>\n",
       "<style scoped>\n",
       "    .dataframe tbody tr th:only-of-type {\n",
       "        vertical-align: middle;\n",
       "    }\n",
       "\n",
       "    .dataframe tbody tr th {\n",
       "        vertical-align: top;\n",
       "    }\n",
       "\n",
       "    .dataframe thead th {\n",
       "        text-align: right;\n",
       "    }\n",
       "</style>\n",
       "<table border=\"1\" class=\"dataframe\">\n",
       "  <thead>\n",
       "    <tr style=\"text-align: right;\">\n",
       "      <th></th>\n",
       "      <th>Patient ID</th>\n",
       "      <th>Recording locations:</th>\n",
       "      <th>Age</th>\n",
       "      <th>Sex</th>\n",
       "      <th>Height</th>\n",
       "      <th>Weight</th>\n",
       "      <th>Pregnancy status</th>\n",
       "      <th>Murmur</th>\n",
       "      <th>Murmur locations</th>\n",
       "      <th>Most audible location</th>\n",
       "      <th>...</th>\n",
       "      <th>Systolic murmur pitch</th>\n",
       "      <th>Systolic murmur quality</th>\n",
       "      <th>Diastolic murmur timing</th>\n",
       "      <th>Diastolic murmur shape</th>\n",
       "      <th>Diastolic murmur grading</th>\n",
       "      <th>Diastolic murmur pitch</th>\n",
       "      <th>Diastolic murmur quality</th>\n",
       "      <th>Outcome</th>\n",
       "      <th>Campaign</th>\n",
       "      <th>Additional ID</th>\n",
       "    </tr>\n",
       "  </thead>\n",
       "  <tbody>\n",
       "    <tr>\n",
       "      <th>1</th>\n",
       "      <td>9979</td>\n",
       "      <td>AV+PV+TV+MV</td>\n",
       "      <td>Child</td>\n",
       "      <td>Female</td>\n",
       "      <td>103.0</td>\n",
       "      <td>13.1</td>\n",
       "      <td>False</td>\n",
       "      <td>Present</td>\n",
       "      <td>AV+MV+PV+TV</td>\n",
       "      <td>TV</td>\n",
       "      <td>...</td>\n",
       "      <td>High</td>\n",
       "      <td>Harsh</td>\n",
       "      <td>NaN</td>\n",
       "      <td>NaN</td>\n",
       "      <td>NaN</td>\n",
       "      <td>NaN</td>\n",
       "      <td>NaN</td>\n",
       "      <td>Abnormal</td>\n",
       "      <td>CC2015</td>\n",
       "      <td>NaN</td>\n",
       "    </tr>\n",
       "    <tr>\n",
       "      <th>3</th>\n",
       "      <td>13918</td>\n",
       "      <td>AV+PV+TV+MV</td>\n",
       "      <td>Child</td>\n",
       "      <td>Male</td>\n",
       "      <td>98.0</td>\n",
       "      <td>15.9</td>\n",
       "      <td>False</td>\n",
       "      <td>Present</td>\n",
       "      <td>TV</td>\n",
       "      <td>TV</td>\n",
       "      <td>...</td>\n",
       "      <td>Low</td>\n",
       "      <td>Blowing</td>\n",
       "      <td>NaN</td>\n",
       "      <td>NaN</td>\n",
       "      <td>NaN</td>\n",
       "      <td>NaN</td>\n",
       "      <td>NaN</td>\n",
       "      <td>Abnormal</td>\n",
       "      <td>CC2015</td>\n",
       "      <td>NaN</td>\n",
       "    </tr>\n",
       "    <tr>\n",
       "      <th>4</th>\n",
       "      <td>14241</td>\n",
       "      <td>AV+PV+TV+MV</td>\n",
       "      <td>Child</td>\n",
       "      <td>Male</td>\n",
       "      <td>87.0</td>\n",
       "      <td>11.2</td>\n",
       "      <td>False</td>\n",
       "      <td>Present</td>\n",
       "      <td>AV+MV+PV+TV</td>\n",
       "      <td>PV</td>\n",
       "      <td>...</td>\n",
       "      <td>Low</td>\n",
       "      <td>Harsh</td>\n",
       "      <td>NaN</td>\n",
       "      <td>NaN</td>\n",
       "      <td>NaN</td>\n",
       "      <td>NaN</td>\n",
       "      <td>NaN</td>\n",
       "      <td>Abnormal</td>\n",
       "      <td>CC2015</td>\n",
       "      <td>NaN</td>\n",
       "    </tr>\n",
       "    <tr>\n",
       "      <th>8</th>\n",
       "      <td>29045</td>\n",
       "      <td>AV+PV+TV+MV</td>\n",
       "      <td>Child</td>\n",
       "      <td>Female</td>\n",
       "      <td>88.0</td>\n",
       "      <td>12.5</td>\n",
       "      <td>False</td>\n",
       "      <td>Present</td>\n",
       "      <td>AV+MV+PV+TV</td>\n",
       "      <td>TV</td>\n",
       "      <td>...</td>\n",
       "      <td>Low</td>\n",
       "      <td>Blowing</td>\n",
       "      <td>NaN</td>\n",
       "      <td>NaN</td>\n",
       "      <td>NaN</td>\n",
       "      <td>NaN</td>\n",
       "      <td>NaN</td>\n",
       "      <td>Abnormal</td>\n",
       "      <td>CC2015</td>\n",
       "      <td>NaN</td>\n",
       "    </tr>\n",
       "    <tr>\n",
       "      <th>11</th>\n",
       "      <td>33151</td>\n",
       "      <td>AV+PV+TV+MV</td>\n",
       "      <td>Child</td>\n",
       "      <td>Female</td>\n",
       "      <td>141.0</td>\n",
       "      <td>30.9</td>\n",
       "      <td>False</td>\n",
       "      <td>Present</td>\n",
       "      <td>MV+TV</td>\n",
       "      <td>TV</td>\n",
       "      <td>...</td>\n",
       "      <td>Low</td>\n",
       "      <td>Harsh</td>\n",
       "      <td>NaN</td>\n",
       "      <td>NaN</td>\n",
       "      <td>NaN</td>\n",
       "      <td>NaN</td>\n",
       "      <td>NaN</td>\n",
       "      <td>Abnormal</td>\n",
       "      <td>CC2015</td>\n",
       "      <td>NaN</td>\n",
       "    </tr>\n",
       "  </tbody>\n",
       "</table>\n",
       "<p>5 rows × 23 columns</p>\n",
       "</div>"
      ],
      "text/plain": [
       "    Patient ID Recording locations:    Age     Sex  Height  Weight  \\\n",
       "1         9979          AV+PV+TV+MV  Child  Female   103.0    13.1   \n",
       "3        13918          AV+PV+TV+MV  Child    Male    98.0    15.9   \n",
       "4        14241          AV+PV+TV+MV  Child    Male    87.0    11.2   \n",
       "8        29045          AV+PV+TV+MV  Child  Female    88.0    12.5   \n",
       "11       33151          AV+PV+TV+MV  Child  Female   141.0    30.9   \n",
       "\n",
       "    Pregnancy status   Murmur Murmur locations Most audible location  ...  \\\n",
       "1              False  Present      AV+MV+PV+TV                    TV  ...   \n",
       "3              False  Present               TV                    TV  ...   \n",
       "4              False  Present      AV+MV+PV+TV                    PV  ...   \n",
       "8              False  Present      AV+MV+PV+TV                    TV  ...   \n",
       "11             False  Present            MV+TV                    TV  ...   \n",
       "\n",
       "   Systolic murmur pitch Systolic murmur quality Diastolic murmur timing  \\\n",
       "1                   High                   Harsh                     NaN   \n",
       "3                    Low                 Blowing                     NaN   \n",
       "4                    Low                   Harsh                     NaN   \n",
       "8                    Low                 Blowing                     NaN   \n",
       "11                   Low                   Harsh                     NaN   \n",
       "\n",
       "   Diastolic murmur shape Diastolic murmur grading Diastolic murmur pitch  \\\n",
       "1                     NaN                      NaN                    NaN   \n",
       "3                     NaN                      NaN                    NaN   \n",
       "4                     NaN                      NaN                    NaN   \n",
       "8                     NaN                      NaN                    NaN   \n",
       "11                    NaN                      NaN                    NaN   \n",
       "\n",
       "   Diastolic murmur quality   Outcome Campaign Additional ID  \n",
       "1                       NaN  Abnormal   CC2015           NaN  \n",
       "3                       NaN  Abnormal   CC2015           NaN  \n",
       "4                       NaN  Abnormal   CC2015           NaN  \n",
       "8                       NaN  Abnormal   CC2015           NaN  \n",
       "11                      NaN  Abnormal   CC2015           NaN  \n",
       "\n",
       "[5 rows x 23 columns]"
      ]
     },
     "execution_count": 170,
     "metadata": {},
     "output_type": "execute_result"
    }
   ],
   "source": [
    "physio22_murmurs.head()"
   ]
  },
  {
   "cell_type": "code",
   "execution_count": 171,
   "id": "46d6ee3a",
   "metadata": {},
   "outputs": [
    {
     "data": {
      "application/vnd.microsoft.datawrangler.viewer.v0+json": {
       "columns": [
        {
         "name": "index",
         "rawType": "int64",
         "type": "integer"
        },
        {
         "name": "Patient ID",
         "rawType": "int64",
         "type": "integer"
        },
        {
         "name": "Recording locations:",
         "rawType": "object",
         "type": "string"
        },
        {
         "name": "Age",
         "rawType": "object",
         "type": "string"
        },
        {
         "name": "Sex",
         "rawType": "object",
         "type": "string"
        },
        {
         "name": "Height",
         "rawType": "float64",
         "type": "float"
        },
        {
         "name": "Weight",
         "rawType": "float64",
         "type": "float"
        },
        {
         "name": "Pregnancy status",
         "rawType": "bool",
         "type": "boolean"
        },
        {
         "name": "Murmur",
         "rawType": "object",
         "type": "string"
        },
        {
         "name": "Murmur locations",
         "rawType": "object",
         "type": "unknown"
        },
        {
         "name": "Most audible location",
         "rawType": "object",
         "type": "unknown"
        },
        {
         "name": "Systolic murmur timing",
         "rawType": "object",
         "type": "unknown"
        },
        {
         "name": "Systolic murmur shape",
         "rawType": "object",
         "type": "unknown"
        },
        {
         "name": "Systolic murmur grading",
         "rawType": "object",
         "type": "unknown"
        },
        {
         "name": "Systolic murmur pitch",
         "rawType": "object",
         "type": "unknown"
        },
        {
         "name": "Systolic murmur quality",
         "rawType": "object",
         "type": "unknown"
        },
        {
         "name": "Diastolic murmur timing",
         "rawType": "object",
         "type": "unknown"
        },
        {
         "name": "Diastolic murmur shape",
         "rawType": "object",
         "type": "unknown"
        },
        {
         "name": "Diastolic murmur grading",
         "rawType": "object",
         "type": "unknown"
        },
        {
         "name": "Diastolic murmur pitch",
         "rawType": "object",
         "type": "unknown"
        },
        {
         "name": "Diastolic murmur quality",
         "rawType": "object",
         "type": "unknown"
        },
        {
         "name": "Outcome",
         "rawType": "object",
         "type": "string"
        },
        {
         "name": "Campaign",
         "rawType": "object",
         "type": "string"
        },
        {
         "name": "Additional ID",
         "rawType": "float64",
         "type": "float"
        }
       ],
       "ref": "69fba255-3c3e-4faa-ab21-a142fb1ae8cf",
       "rows": [
        [
         "0",
         "2530",
         "AV+PV+TV+MV",
         "Child",
         "Female",
         "98.0",
         "15.9",
         "False",
         "Absent",
         null,
         null,
         null,
         null,
         null,
         null,
         null,
         null,
         null,
         null,
         null,
         null,
         "Abnormal",
         "CC2015",
         null
        ],
        [
         "5",
         "14998",
         "AV+PV+TV+MV",
         "Child",
         "Male",
         null,
         null,
         "False",
         "Absent",
         null,
         null,
         null,
         null,
         null,
         null,
         null,
         null,
         null,
         null,
         null,
         null,
         "Abnormal",
         "CC2015",
         null
        ],
        [
         "6",
         "23625",
         "AV+PV+TV+MV",
         "Child",
         "Female",
         "92.0",
         "14.0",
         "False",
         "Absent",
         null,
         null,
         null,
         null,
         null,
         null,
         null,
         null,
         null,
         null,
         null,
         null,
         "Abnormal",
         "CC2015",
         "50379.0"
        ],
        [
         "7",
         "24160",
         "AV+PV+TV+MV",
         "Child",
         "Female",
         "98.0",
         "17.66",
         "False",
         "Absent",
         null,
         null,
         null,
         null,
         null,
         null,
         null,
         null,
         null,
         null,
         null,
         null,
         "Abnormal",
         "CC2015",
         null
        ],
        [
         "10",
         "31737",
         "AV+PV+TV+MV",
         "Child",
         "Female",
         "90.0",
         "14.4",
         "False",
         "Absent",
         null,
         null,
         null,
         null,
         null,
         null,
         null,
         null,
         null,
         null,
         null,
         null,
         "Abnormal",
         "CC2015",
         null
        ]
       ],
       "shape": {
        "columns": 23,
        "rows": 5
       }
      },
      "text/html": [
       "<div>\n",
       "<style scoped>\n",
       "    .dataframe tbody tr th:only-of-type {\n",
       "        vertical-align: middle;\n",
       "    }\n",
       "\n",
       "    .dataframe tbody tr th {\n",
       "        vertical-align: top;\n",
       "    }\n",
       "\n",
       "    .dataframe thead th {\n",
       "        text-align: right;\n",
       "    }\n",
       "</style>\n",
       "<table border=\"1\" class=\"dataframe\">\n",
       "  <thead>\n",
       "    <tr style=\"text-align: right;\">\n",
       "      <th></th>\n",
       "      <th>Patient ID</th>\n",
       "      <th>Recording locations:</th>\n",
       "      <th>Age</th>\n",
       "      <th>Sex</th>\n",
       "      <th>Height</th>\n",
       "      <th>Weight</th>\n",
       "      <th>Pregnancy status</th>\n",
       "      <th>Murmur</th>\n",
       "      <th>Murmur locations</th>\n",
       "      <th>Most audible location</th>\n",
       "      <th>...</th>\n",
       "      <th>Systolic murmur pitch</th>\n",
       "      <th>Systolic murmur quality</th>\n",
       "      <th>Diastolic murmur timing</th>\n",
       "      <th>Diastolic murmur shape</th>\n",
       "      <th>Diastolic murmur grading</th>\n",
       "      <th>Diastolic murmur pitch</th>\n",
       "      <th>Diastolic murmur quality</th>\n",
       "      <th>Outcome</th>\n",
       "      <th>Campaign</th>\n",
       "      <th>Additional ID</th>\n",
       "    </tr>\n",
       "  </thead>\n",
       "  <tbody>\n",
       "    <tr>\n",
       "      <th>0</th>\n",
       "      <td>2530</td>\n",
       "      <td>AV+PV+TV+MV</td>\n",
       "      <td>Child</td>\n",
       "      <td>Female</td>\n",
       "      <td>98.0</td>\n",
       "      <td>15.90</td>\n",
       "      <td>False</td>\n",
       "      <td>Absent</td>\n",
       "      <td>NaN</td>\n",
       "      <td>NaN</td>\n",
       "      <td>...</td>\n",
       "      <td>NaN</td>\n",
       "      <td>NaN</td>\n",
       "      <td>NaN</td>\n",
       "      <td>NaN</td>\n",
       "      <td>NaN</td>\n",
       "      <td>NaN</td>\n",
       "      <td>NaN</td>\n",
       "      <td>Abnormal</td>\n",
       "      <td>CC2015</td>\n",
       "      <td>NaN</td>\n",
       "    </tr>\n",
       "    <tr>\n",
       "      <th>5</th>\n",
       "      <td>14998</td>\n",
       "      <td>AV+PV+TV+MV</td>\n",
       "      <td>Child</td>\n",
       "      <td>Male</td>\n",
       "      <td>NaN</td>\n",
       "      <td>NaN</td>\n",
       "      <td>False</td>\n",
       "      <td>Absent</td>\n",
       "      <td>NaN</td>\n",
       "      <td>NaN</td>\n",
       "      <td>...</td>\n",
       "      <td>NaN</td>\n",
       "      <td>NaN</td>\n",
       "      <td>NaN</td>\n",
       "      <td>NaN</td>\n",
       "      <td>NaN</td>\n",
       "      <td>NaN</td>\n",
       "      <td>NaN</td>\n",
       "      <td>Abnormal</td>\n",
       "      <td>CC2015</td>\n",
       "      <td>NaN</td>\n",
       "    </tr>\n",
       "    <tr>\n",
       "      <th>6</th>\n",
       "      <td>23625</td>\n",
       "      <td>AV+PV+TV+MV</td>\n",
       "      <td>Child</td>\n",
       "      <td>Female</td>\n",
       "      <td>92.0</td>\n",
       "      <td>14.00</td>\n",
       "      <td>False</td>\n",
       "      <td>Absent</td>\n",
       "      <td>NaN</td>\n",
       "      <td>NaN</td>\n",
       "      <td>...</td>\n",
       "      <td>NaN</td>\n",
       "      <td>NaN</td>\n",
       "      <td>NaN</td>\n",
       "      <td>NaN</td>\n",
       "      <td>NaN</td>\n",
       "      <td>NaN</td>\n",
       "      <td>NaN</td>\n",
       "      <td>Abnormal</td>\n",
       "      <td>CC2015</td>\n",
       "      <td>50379.0</td>\n",
       "    </tr>\n",
       "    <tr>\n",
       "      <th>7</th>\n",
       "      <td>24160</td>\n",
       "      <td>AV+PV+TV+MV</td>\n",
       "      <td>Child</td>\n",
       "      <td>Female</td>\n",
       "      <td>98.0</td>\n",
       "      <td>17.66</td>\n",
       "      <td>False</td>\n",
       "      <td>Absent</td>\n",
       "      <td>NaN</td>\n",
       "      <td>NaN</td>\n",
       "      <td>...</td>\n",
       "      <td>NaN</td>\n",
       "      <td>NaN</td>\n",
       "      <td>NaN</td>\n",
       "      <td>NaN</td>\n",
       "      <td>NaN</td>\n",
       "      <td>NaN</td>\n",
       "      <td>NaN</td>\n",
       "      <td>Abnormal</td>\n",
       "      <td>CC2015</td>\n",
       "      <td>NaN</td>\n",
       "    </tr>\n",
       "    <tr>\n",
       "      <th>10</th>\n",
       "      <td>31737</td>\n",
       "      <td>AV+PV+TV+MV</td>\n",
       "      <td>Child</td>\n",
       "      <td>Female</td>\n",
       "      <td>90.0</td>\n",
       "      <td>14.40</td>\n",
       "      <td>False</td>\n",
       "      <td>Absent</td>\n",
       "      <td>NaN</td>\n",
       "      <td>NaN</td>\n",
       "      <td>...</td>\n",
       "      <td>NaN</td>\n",
       "      <td>NaN</td>\n",
       "      <td>NaN</td>\n",
       "      <td>NaN</td>\n",
       "      <td>NaN</td>\n",
       "      <td>NaN</td>\n",
       "      <td>NaN</td>\n",
       "      <td>Abnormal</td>\n",
       "      <td>CC2015</td>\n",
       "      <td>NaN</td>\n",
       "    </tr>\n",
       "  </tbody>\n",
       "</table>\n",
       "<p>5 rows × 23 columns</p>\n",
       "</div>"
      ],
      "text/plain": [
       "    Patient ID Recording locations:    Age     Sex  Height  Weight  \\\n",
       "0         2530          AV+PV+TV+MV  Child  Female    98.0   15.90   \n",
       "5        14998          AV+PV+TV+MV  Child    Male     NaN     NaN   \n",
       "6        23625          AV+PV+TV+MV  Child  Female    92.0   14.00   \n",
       "7        24160          AV+PV+TV+MV  Child  Female    98.0   17.66   \n",
       "10       31737          AV+PV+TV+MV  Child  Female    90.0   14.40   \n",
       "\n",
       "    Pregnancy status  Murmur Murmur locations Most audible location  ...  \\\n",
       "0              False  Absent              NaN                   NaN  ...   \n",
       "5              False  Absent              NaN                   NaN  ...   \n",
       "6              False  Absent              NaN                   NaN  ...   \n",
       "7              False  Absent              NaN                   NaN  ...   \n",
       "10             False  Absent              NaN                   NaN  ...   \n",
       "\n",
       "   Systolic murmur pitch Systolic murmur quality Diastolic murmur timing  \\\n",
       "0                    NaN                     NaN                     NaN   \n",
       "5                    NaN                     NaN                     NaN   \n",
       "6                    NaN                     NaN                     NaN   \n",
       "7                    NaN                     NaN                     NaN   \n",
       "10                   NaN                     NaN                     NaN   \n",
       "\n",
       "   Diastolic murmur shape Diastolic murmur grading Diastolic murmur pitch  \\\n",
       "0                     NaN                      NaN                    NaN   \n",
       "5                     NaN                      NaN                    NaN   \n",
       "6                     NaN                      NaN                    NaN   \n",
       "7                     NaN                      NaN                    NaN   \n",
       "10                    NaN                      NaN                    NaN   \n",
       "\n",
       "   Diastolic murmur quality   Outcome Campaign Additional ID  \n",
       "0                       NaN  Abnormal   CC2015           NaN  \n",
       "5                       NaN  Abnormal   CC2015           NaN  \n",
       "6                       NaN  Abnormal   CC2015       50379.0  \n",
       "7                       NaN  Abnormal   CC2015           NaN  \n",
       "10                      NaN  Abnormal   CC2015           NaN  \n",
       "\n",
       "[5 rows x 23 columns]"
      ]
     },
     "execution_count": 171,
     "metadata": {},
     "output_type": "execute_result"
    }
   ],
   "source": [
    "physio22_normal.head()"
   ]
  },
  {
   "cell_type": "code",
   "execution_count": null,
   "id": "57f994f7",
   "metadata": {},
   "outputs": [],
   "source": [
    "# it's pretty familiar then, to work with the training data\n",
    "# there's some work to be done for the test/val data though \n",
    "# preprocessing is familiar\n"
   ]
  },
  {
   "cell_type": "code",
   "execution_count": null,
   "id": "43e8236a",
   "metadata": {},
   "outputs": [
    {
     "data": {
      "text/plain": [
       "Index(['Patient ID', 'Recording locations:', 'Age', 'Sex', 'Height', 'Weight',\n",
       "       'Pregnancy status', 'Murmur', 'Murmur locations',\n",
       "       'Most audible location', 'Systolic murmur timing',\n",
       "       'Systolic murmur shape', 'Systolic murmur grading',\n",
       "       'Systolic murmur pitch', 'Systolic murmur quality',\n",
       "       'Diastolic murmur timing', 'Diastolic murmur shape',\n",
       "       'Diastolic murmur grading', 'Diastolic murmur pitch',\n",
       "       'Diastolic murmur quality', 'Outcome', 'Campaign', 'Additional ID'],\n",
       "      dtype='object')"
      ]
     },
     "execution_count": 55,
     "metadata": {},
     "output_type": "execute_result"
    }
   ],
   "source": [
    "train_data.columns"
   ]
  },
  {
   "cell_type": "markdown",
   "id": "e9dbf1c7",
   "metadata": {},
   "source": [
    "### 2. Creating Validation and Test Data"
   ]
  },
  {
   "cell_type": "code",
   "execution_count": 346,
   "id": "262d65c3",
   "metadata": {},
   "outputs": [],
   "source": [
    "def extract_fields(directory,text_file_name):\n",
    "    data = {}\n",
    "    with open(os.path.join(directory, text_file_name), \"r\") as f:\n",
    "        # special treatment for first lines\n",
    "        first_line = f.readline().strip()\n",
    "        parts = first_line.split()\n",
    "        if len(parts) == 3:\n",
    "            data[\"Patient ID\"] = parts[0]\n",
    "\n",
    "        # valve lines\n",
    "        valve_codes = []\n",
    "        for line in f:\n",
    "            line = line.strip()\n",
    "            if line.startswith(\"#Age\"):   # stop when metadata begins\n",
    "                # Push line back into processing loop\n",
    "                # We found metadata start, so break out of valve loop\n",
    "                # But keep the current line for metadata parsing\n",
    "                first_meta_line = line\n",
    "                break\n",
    "            if line[:2] in (\"AV\", \"PV\", \"TV\", \"MV\"):\n",
    "                valve_codes.append(line[:2])\n",
    "        \n",
    "        # Store valve codes as a comma-separated string (or list)\n",
    "        data[\"Recording locations\"] = \"+\".join(valve_codes)\n",
    "        if first_meta_line.startswith(\"#\"):\n",
    "            key, value = first_meta_line[1:].split(\":\", 1)\n",
    "            data[key.strip()] = value.strip()\n",
    "        # the other lines\n",
    "        for line in f:\n",
    "            line = line.strip()\n",
    "            if line.startswith(\"#\"):\n",
    "                line = line[1:]\n",
    "                if \":\" in line:\n",
    "                    key, value = line.split(\":\", 1)\n",
    "                    key = key.strip()\n",
    "                    value = value.strip()\n",
    "                    if value.lower() == \"nan\":\n",
    "                        value = None\n",
    "                    data[key] = value\n",
    "    return data"
   ]
  },
  {
   "cell_type": "code",
   "execution_count": 372,
   "id": "4e368bcb",
   "metadata": {},
   "outputs": [],
   "source": [
    "%%script false --no-raise-error \n",
    "val_texts = [f for f in os.listdir(val_path) if f.endswith(\".txt\")]\n",
    "test_texts = [f for f in os.listdir(test_path) if f.endswith(\".txt\")]\n",
    "\n",
    "val_rows = [extract_fields(val_path,val_text) for val_text in val_texts]\n",
    "test_rows = [extract_fields(test_path,test_text) for test_text in test_texts]\n",
    "\n",
    "val_df = pd.DataFrame(val_rows)\n",
    "test_df = pd.DataFrame(test_rows)\n",
    "\n",
    "val_df.to_csv(physio22_path+'val_annotations.csv',index=False)\n",
    "test_df.to_csv(physio22_path+'test_annotations.csv',index=False)"
   ]
  },
  {
   "cell_type": "code",
   "execution_count": null,
   "id": "da90c2f6",
   "metadata": {},
   "outputs": [],
   "source": [
    "# !impt: murmurs are located in certain valves\n",
    "# ... so, only those valves should be marked as murmurs for CWL\n",
    "# if murmur and in av, mv, pv, tv\n",
    "# # cwl as murmur\n",
    "# else: do nothing"
   ]
  },
  {
   "cell_type": "markdown",
   "id": "8b60520b",
   "metadata": {},
   "source": [
    "### 3. Mapping Recordings to Murmurs"
   ]
  },
  {
   "cell_type": "code",
   "execution_count": 348,
   "id": "ff9341c6",
   "metadata": {},
   "outputs": [],
   "source": [
    "# load csvs\n",
    "val_df = pd.read_csv(physio22_path+'val_annotations.csv')\n",
    "test_df = pd.read_csv(physio22_path+'test_annotations.csv')"
   ]
  },
  {
   "cell_type": "code",
   "execution_count": 252,
   "id": "9060431c",
   "metadata": {},
   "outputs": [],
   "source": [
    "# do all murmurs have corresponding locations?\n",
    "val_murmurs = val_df[find_murmur_rows(val_df)]\n",
    "\n",
    "#val_murmurs[\"Murmur locations\"]\n",
    "# ^these all have murmur locations"
   ]
  },
  {
   "cell_type": "code",
   "execution_count": 350,
   "id": "3c83eb3a",
   "metadata": {},
   "outputs": [
    {
     "name": "stdout",
     "output_type": "stream",
     "text": [
      "# of murmur recordings vs # annotated murmur recordings: \n",
      "      99, 99\n",
      "# of systolic, diastolic strength annotations:\n",
      "99\n",
      "4\n"
     ]
    }
   ],
   "source": [
    "# also check for test\n",
    "test_murmurs = test_df[find_murmur_rows(test_df)]\n",
    "\n",
    "print(f\"\"\"# of murmur recordings vs # annotated murmur recordings: \n",
    "      {len(test_murmurs)}, {sum(test_murmurs['Murmur locations'].notnull())}\"\"\") # nice\n",
    "\n",
    "print(\"# of systolic, diastolic strength annotations:\")\n",
    "print(sum(test_murmurs[\"Systolic murmur grading\"].notnull()))\n",
    "print(sum(test_murmurs[\"Diastolic murmur grading\"].notnull()))"
   ]
  },
  {
   "cell_type": "code",
   "execution_count": 351,
   "id": "64396644",
   "metadata": {},
   "outputs": [
    {
     "data": {
      "text/plain": [
       "5"
      ]
     },
     "execution_count": 351,
     "metadata": {},
     "output_type": "execute_result"
    }
   ],
   "source": [
    "# for training data\n",
    "sum(physio22_murmurs[\"Systolic murmur grading\"].notnull())\n",
    "# ^ 178. there are 179 recordings with murmurs. so nearly all murmurs are systolic\n",
    "sum(physio22_murmurs[\"Diastolic murmur grading\"].notnull())"
   ]
  },
  {
   "cell_type": "code",
   "execution_count": 352,
   "id": "f26b33fe",
   "metadata": {},
   "outputs": [],
   "source": [
    "def find_murmur_strength(pandas_row):\n",
    "  systolic_strength = pandas_row[\"Systolic murmur grading\"]\n",
    "  diastolic_strength = pandas_row[\"Diastolic murmur grading\"]\n",
    "  # i am completely making these up\n",
    "  # 1 ~= weak, 2 ~= moderate, 3~=strong\n",
    "  systolic_map = {\"I/VI\":1, \"II/VI\":1, \"III/VI\":2, \"IV/VI\": 2, \"V/VI\":3, \"VI/VI\": 3}\n",
    "  diastolic_map = {\"I/IV\":1, \"II/IV\":2, \"III/IV\":2, \"IV/IV\":3}\n",
    "  murmur_strengths = [0,0]\n",
    "  \n",
    "  if type(systolic_strength)==str:\n",
    "    murmur_strengths[0]= systolic_map[systolic_strength]\n",
    "  if type(diastolic_strength)==str:\n",
    "    murmur_strengths[1]= diastolic_map[diastolic_strength]\n",
    "  \n",
    "  return max(murmur_strengths)\n",
    "\n",
    "#test_df.apply(find_murmur_strength,axis=1)\n",
    "#train_data.apply(find_murmur_strength,axis=1)\n",
    "# ^ those work"
   ]
  },
  {
   "cell_type": "code",
   "execution_count": null,
   "id": "58c1a9e1",
   "metadata": {},
   "outputs": [],
   "source": [
    "# 1. iterate through ['train','test','val']\n",
    "# # maps to folders\n",
    "# # \n",
    "# for each. \n",
    "# extract ID, and split Recording locations\n",
    "# for each recording location\n",
    "# # search for matches in folder\n",
    "# # if murmur locations is defined and recording locaiton is in it\n",
    "# # run the strength function and assign\n",
    "# # other\n",
    "\n",
    "# wait, it would be soooo much more useful to create another metadata file here!!!! do that next. "
   ]
  },
  {
   "cell_type": "code",
   "execution_count": 373,
   "id": "0e4ddf8f",
   "metadata": {},
   "outputs": [],
   "source": [
    "%%script false --no-raise-error \n",
    "# the below cell is irrelevant \n",
    "\n",
    "# much progress\n",
    "# # got familiar with physionet 22\n",
    "# # created metadata for val/test\n",
    "# # mechanism to identify murmur strength\n",
    "# # data exploration\n",
    "\n",
    "# ok, how to make the metadata files\n",
    "# filename matches\n",
    "# murmur presence (bool)\n",
    "# might as well retain things like outcome, height, weight, age, pregnancy status, murmur\n",
    "# if so, murmur location\n",
    "\n",
    "results = []\n",
    "reduced_train_data = train_data[~find_unknown_rows(train_data)]\n",
    "reduced_val_data = val_df[~find_unknown_rows(val_df)]\n",
    "reduced_test_data = test_df[~find_unknown_rows(test_df)]\n",
    "# simple setup\n",
    "path_maps = {'train':train_path,'val': val_path,'test': test_path}\n",
    "path_dfs = {'train':train_data, 'val': val_df, 'test': test_df}\n",
    "\n",
    "# basically, just find all matches. store as list or something. then, find segmentation file for each. \n",
    "# # ^ actually no, kind of pointless since so deterministic\n",
    "for dset in ['train','val','test']:\n",
    "  dset_path = path_maps[dset]\n",
    "  dset_df = path_dfs[dset]\n",
    "  \n",
    "  files = os.listdir(dset_path)\n",
    "  \n",
    "  # BIG PROBLEM \n",
    "  for _,row in dset_df.iterrows():\n",
    "    pid = str(row[\"Patient ID\"])\n",
    "    \n",
    "    file_matches = list(filter(lambda x: pid==x.split(\"_\")[0], files))\n",
    "    # ok, now what\n",
    "    # want to see if murmurs are present\n",
    "    all_valves = set(row[\"Recording locations\"].split(\"+\"))\n",
    "    murmur_valves = set()\n",
    "\n",
    "    if type(row[\"Murmur locations\"])==str:\n",
    "      murmur_valves = set(row[\"Murmur locations\"].split(\"+\"))\n",
    "      # the things is, you'll want to split train/val/test s.t. no patient occurs in more than one. \n",
    "      # you can do that kind of easily though. \n",
    "    print(file_matches,murmur_valves)\n",
    "    # almost no preprocessing to be done then, tbh. should merge train, val and test metadata though. \n",
    "# want all data sources equally represented in train/val/test\n",
    "# anyway just want to merge data now\n",
    "    \n",
    "  "
   ]
  },
  {
   "cell_type": "code",
   "execution_count": 334,
   "id": "027f9dc8",
   "metadata": {},
   "outputs": [
    {
     "data": {
      "application/vnd.microsoft.datawrangler.viewer.v0+json": {
       "columns": [
        {
         "name": "index",
         "rawType": "int64",
         "type": "integer"
        },
        {
         "name": "Recording locations",
         "rawType": "object",
         "type": "string"
        },
        {
         "name": "Murmur locations",
         "rawType": "object",
         "type": "string"
        },
        {
         "name": "Systolic murmur grading",
         "rawType": "object",
         "type": "string"
        }
       ],
       "ref": "f47acd70-f1fd-455c-bcb5-1c33c3646517",
       "rows": [
        [
         "1",
         "AV+PV+TV+MV",
         "AV+MV+PV+TV",
         "III/VI"
        ],
        [
         "3",
         "AV+PV+TV+MV",
         "TV",
         "I/VI"
        ],
        [
         "4",
         "AV+PV+TV+MV",
         "AV+MV+PV+TV",
         "II/VI"
        ],
        [
         "8",
         "AV+PV+TV+MV",
         "AV+MV+PV+TV",
         "II/VI"
        ],
        [
         "11",
         "AV+PV+TV+MV",
         "MV+TV",
         "I/VI"
        ]
       ],
       "shape": {
        "columns": 3,
        "rows": 5
       }
      },
      "text/html": [
       "<div>\n",
       "<style scoped>\n",
       "    .dataframe tbody tr th:only-of-type {\n",
       "        vertical-align: middle;\n",
       "    }\n",
       "\n",
       "    .dataframe tbody tr th {\n",
       "        vertical-align: top;\n",
       "    }\n",
       "\n",
       "    .dataframe thead th {\n",
       "        text-align: right;\n",
       "    }\n",
       "</style>\n",
       "<table border=\"1\" class=\"dataframe\">\n",
       "  <thead>\n",
       "    <tr style=\"text-align: right;\">\n",
       "      <th></th>\n",
       "      <th>Recording locations</th>\n",
       "      <th>Murmur locations</th>\n",
       "      <th>Systolic murmur grading</th>\n",
       "    </tr>\n",
       "  </thead>\n",
       "  <tbody>\n",
       "    <tr>\n",
       "      <th>1</th>\n",
       "      <td>AV+PV+TV+MV</td>\n",
       "      <td>AV+MV+PV+TV</td>\n",
       "      <td>III/VI</td>\n",
       "    </tr>\n",
       "    <tr>\n",
       "      <th>3</th>\n",
       "      <td>AV+PV+TV+MV</td>\n",
       "      <td>TV</td>\n",
       "      <td>I/VI</td>\n",
       "    </tr>\n",
       "    <tr>\n",
       "      <th>4</th>\n",
       "      <td>AV+PV+TV+MV</td>\n",
       "      <td>AV+MV+PV+TV</td>\n",
       "      <td>II/VI</td>\n",
       "    </tr>\n",
       "    <tr>\n",
       "      <th>8</th>\n",
       "      <td>AV+PV+TV+MV</td>\n",
       "      <td>AV+MV+PV+TV</td>\n",
       "      <td>II/VI</td>\n",
       "    </tr>\n",
       "    <tr>\n",
       "      <th>11</th>\n",
       "      <td>AV+PV+TV+MV</td>\n",
       "      <td>MV+TV</td>\n",
       "      <td>I/VI</td>\n",
       "    </tr>\n",
       "  </tbody>\n",
       "</table>\n",
       "</div>"
      ],
      "text/plain": [
       "   Recording locations Murmur locations Systolic murmur grading\n",
       "1          AV+PV+TV+MV      AV+MV+PV+TV                  III/VI\n",
       "3          AV+PV+TV+MV               TV                    I/VI\n",
       "4          AV+PV+TV+MV      AV+MV+PV+TV                   II/VI\n",
       "8          AV+PV+TV+MV      AV+MV+PV+TV                   II/VI\n",
       "11         AV+PV+TV+MV            MV+TV                    I/VI"
      ]
     },
     "execution_count": 334,
     "metadata": {},
     "output_type": "execute_result"
    }
   ],
   "source": [
    "#!impt: it will be quite hard to maintain on a per-valve level whether theres's a murmur or not\n",
    "# also, doing so would make it much harder to segment train/val/test data.\n",
    "# what i will do, is say that if a murmur is in one valve, that it's in all valves too.\n",
    "# this is theoretically pretty false, although for the physionet data it's mostly the case\n",
    "# implicitly this will also train the model to be wary of deleting murmurs. interesting. \n",
    "train_data[~train_data[\"Murmur locations\"].isna()][[\"Recording locations\",\"Murmur locations\",\"Systolic murmur grading\"]].head()"
   ]
  },
  {
   "cell_type": "code",
   "execution_count": 344,
   "id": "c20cea54",
   "metadata": {},
   "outputs": [
    {
     "name": "stdout",
     "output_type": "stream",
     "text": [
      "{'Recording_Locations_Count', 'Sample_Rate'}\n",
      "set()\n"
     ]
    }
   ],
   "source": [
    "print(set(val_df.columns).difference(set(train_data.columns)))\n",
    "print(set(train_data.columns).difference(val_df.columns))\n",
    "# ok so basically just get rid of recording_locations_count and sample_rate"
   ]
  },
  {
   "cell_type": "code",
   "execution_count": null,
   "id": "71ee00f0",
   "metadata": {},
   "outputs": [
    {
     "name": "stdout",
     "output_type": "stream",
     "text": [
      "{'Sample_Rate', 'Most audible location', 'Recording_Locations_Count', 'Recording locations', 'Diastolic murmur timing', 'Pregnancy status', 'Systolic murmur shape', 'Systolic murmur grading', 'Diastolic murmur pitch', 'Age', 'Sex', 'Diastolic murmur shape', 'Height', 'Systolic murmur pitch', 'Diastolic murmur grading', 'Systolic murmur timing', 'Murmur locations', 'Murmur', 'Systolic murmur quality', 'Weight', 'Patient ID', 'Campaign', 'Diastolic murmur quality', 'Additional ID', 'Outcome'}\n"
     ]
    }
   ],
   "source": []
  },
  {
   "cell_type": "code",
   "execution_count": null,
   "id": "3a53e106",
   "metadata": {},
   "outputs": [
    {
     "name": "stdout",
     "output_type": "stream",
     "text": [
      "1568 1568\n"
     ]
    }
   ],
   "source": [
    "all_data = pd.concat([train_data,val_df,test_df])\n",
    "print(len(all_data['Patient ID'].unique()), len(all_data))\n",
    "# ok great. \n",
    "# now simply save as CSV and leave\n",
    "all_data.to_csv(physio22_path+'all_annotations.csv',index=False)"
   ]
  },
  {
   "cell_type": "code",
   "execution_count": null,
   "id": "ef13c9b1",
   "metadata": {},
   "outputs": [],
   "source": []
  }
 ],
 "metadata": {
  "kernelspec": {
   "display_name": "base",
   "language": "python",
   "name": "python3"
  },
  "language_info": {
   "codemirror_mode": {
    "name": "ipython",
    "version": 3
   },
   "file_extension": ".py",
   "mimetype": "text/x-python",
   "name": "python",
   "nbconvert_exporter": "python",
   "pygments_lexer": "ipython3",
   "version": "3.11.8"
  }
 },
 "nbformat": 4,
 "nbformat_minor": 5
}
