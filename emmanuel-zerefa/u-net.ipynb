{
 "cells": [
  {
   "cell_type": "markdown",
   "metadata": {},
   "source": [
    "# U-net Denoising demo"
   ]
  },
  {
   "cell_type": "code",
   "execution_count": 1,
   "metadata": {},
   "outputs": [],
   "source": [
    "# libs\n",
    "from scipy.io import wavfile\n",
    "from scipy import signal\n",
    "from time import time\n",
    "import random\n",
    "import librosa\n",
    "import numpy as np\n",
    "import pandas as pd\n",
    "import os\n",
    "import re\n",
    "import matplotlib.pyplot as plt"
   ]
  },
  {
   "cell_type": "markdown",
   "metadata": {},
   "source": [
    "## Steps\n",
    "- 1. Load the data\n",
    "- - Have the PASCAL clean data ready, and the ARCA23K synthetic data as well\n",
    "- - Also load the HAN dataset from the Ali paper\n",
    "- 2. Normalization steps for the data\n",
    "- - Apply LPF/BPF and do resampling. All sounds should be at a standard frequency\n",
    "- 3. Create the synthetic noise composites (and keep track of their noiseless counterparts)\n",
    "- - Do visualizations (qualitative analysis here. You'll do this again at the end as PoC)\n",
    "- 4. (Legacy) Run the STFT on both to create your inputs and outputs for the model\n",
    "- 5. Segment the synthetic noise composites to create training and test data\n",
    "- 6. Design the LU-Net\n",
    "- 7. Train the LU-Net\n",
    "- 8. Visualize resutls\n",
    "- 9. Quantify the improvement in terms of SNR or similar\n",
    "- - See if the LU-Net removes murmurs\n"
   ]
  },
  {
   "cell_type": "code",
   "execution_count": 2,
   "metadata": {},
   "outputs": [],
   "source": [
    "## Dirs\n",
    "# the circor digiscope phonocardiogram dataset\n",
    "pcg_datapath = '/Users/donu/Desktop/S25/ELEC 594/datasets/the-circor-digiscope-phonocardiogram-dataset-1.0.3/'\n",
    "# the bentley dataset is the clean PCG dataset from the U-net paper\n",
    "pascal_dset_path = '/Users/donu/Desktop/S25/ELEC 594/datasets/pascal-dset/'"
   ]
  },
  {
   "cell_type": "code",
   "execution_count": 3,
   "metadata": {},
   "outputs": [],
   "source": [
    "arcalabels_path = '/Users/donu/Desktop/S25/ELEC 594/datasets/ARCA23K_ground_truth/'\n",
    "# the arcawavs directory contains the real world noise data from the ARCA23K dataset\n",
    "arcawavs_path = '/Users/donu/Desktop/S25/ELEC 594/datasets/ARCA23K_audio/'\n",
    "# hospital ambient sounds dataset, from the Ali paper\n",
    "han_raw_path = '/Users/donu/Desktop/S25/ELEC 594/datasets/hospital-noise-original/'\n",
    "han_filtered_path = '/Users/donu/Desktop/S25/ELEC 594/datasets/hospital-noise-filtered-resampled/'"
   ]
  },
  {
   "cell_type": "markdown",
   "metadata": {},
   "source": [
    "## 1. Loading the data"
   ]
  },
  {
   "cell_type": "markdown",
   "metadata": {},
   "source": [
    "### 1.a Exploring PCG data"
   ]
  },
  {
   "cell_type": "code",
   "execution_count": 4,
   "metadata": {},
   "outputs": [],
   "source": [
    "# Exploring the PCG data\n",
    "pcg_data = pd.read_csv(pcg_datapath+'training_data.csv')"
   ]
  },
  {
   "cell_type": "code",
   "execution_count": 5,
   "metadata": {},
   "outputs": [
    {
     "data": {
      "text/plain": [
       "(942, 23)"
      ]
     },
     "execution_count": 5,
     "metadata": {},
     "output_type": "execute_result"
    }
   ],
   "source": [
    "pcg_data.shape"
   ]
  },
  {
   "cell_type": "code",
   "execution_count": 6,
   "metadata": {},
   "outputs": [
    {
     "data": {
      "text/plain": [
       "Index(['Patient ID', 'Recording locations:', 'Age', 'Sex', 'Height', 'Weight',\n",
       "       'Pregnancy status', 'Murmur', 'Murmur locations',\n",
       "       'Most audible location', 'Systolic murmur timing',\n",
       "       'Systolic murmur shape', 'Systolic murmur grading',\n",
       "       'Systolic murmur pitch', 'Systolic murmur quality',\n",
       "       'Diastolic murmur timing', 'Diastolic murmur shape',\n",
       "       'Diastolic murmur grading', 'Diastolic murmur pitch',\n",
       "       'Diastolic murmur quality', 'Outcome', 'Campaign', 'Additional ID'],\n",
       "      dtype='object')"
      ]
     },
     "execution_count": 6,
     "metadata": {},
     "output_type": "execute_result"
    }
   ],
   "source": [
    "pcg_data.columns"
   ]
  },
  {
   "cell_type": "code",
   "execution_count": 7,
   "metadata": {},
   "outputs": [
    {
     "data": {
      "text/plain": [
       "Murmur\n",
       "Absent     695\n",
       "Present    179\n",
       "Unknown     68\n",
       "Name: count, dtype: int64"
      ]
     },
     "execution_count": 7,
     "metadata": {},
     "output_type": "execute_result"
    }
   ],
   "source": [
    "pcg_data['Murmur'].value_counts()"
   ]
  },
  {
   "cell_type": "code",
   "execution_count": 8,
   "metadata": {},
   "outputs": [
    {
     "data": {
      "application/vnd.microsoft.datawrangler.viewer.v0+json": {
       "columns": [
        {
         "name": "index",
         "rawType": "int64",
         "type": "integer"
        },
        {
         "name": "Patient ID",
         "rawType": "int64",
         "type": "integer"
        },
        {
         "name": "Recording locations:",
         "rawType": "object",
         "type": "string"
        },
        {
         "name": "Age",
         "rawType": "object",
         "type": "unknown"
        },
        {
         "name": "Sex",
         "rawType": "object",
         "type": "string"
        },
        {
         "name": "Height",
         "rawType": "float64",
         "type": "float"
        },
        {
         "name": "Weight",
         "rawType": "float64",
         "type": "float"
        },
        {
         "name": "Pregnancy status",
         "rawType": "bool",
         "type": "boolean"
        },
        {
         "name": "Murmur",
         "rawType": "object",
         "type": "string"
        },
        {
         "name": "Murmur locations",
         "rawType": "object",
         "type": "unknown"
        },
        {
         "name": "Most audible location",
         "rawType": "object",
         "type": "unknown"
        },
        {
         "name": "Systolic murmur timing",
         "rawType": "object",
         "type": "unknown"
        },
        {
         "name": "Systolic murmur shape",
         "rawType": "object",
         "type": "unknown"
        },
        {
         "name": "Systolic murmur grading",
         "rawType": "object",
         "type": "unknown"
        },
        {
         "name": "Systolic murmur pitch",
         "rawType": "object",
         "type": "unknown"
        },
        {
         "name": "Systolic murmur quality",
         "rawType": "object",
         "type": "unknown"
        },
        {
         "name": "Diastolic murmur timing",
         "rawType": "object",
         "type": "unknown"
        },
        {
         "name": "Diastolic murmur shape",
         "rawType": "object",
         "type": "unknown"
        },
        {
         "name": "Diastolic murmur grading",
         "rawType": "object",
         "type": "unknown"
        },
        {
         "name": "Diastolic murmur pitch",
         "rawType": "object",
         "type": "unknown"
        },
        {
         "name": "Diastolic murmur quality",
         "rawType": "object",
         "type": "unknown"
        },
        {
         "name": "Outcome",
         "rawType": "object",
         "type": "string"
        },
        {
         "name": "Campaign",
         "rawType": "object",
         "type": "string"
        },
        {
         "name": "Additional ID",
         "rawType": "float64",
         "type": "float"
        }
       ],
       "conversionMethod": "pd.DataFrame",
       "ref": "40fecc01-54fc-4a3a-9c79-4720fc2cac1d",
       "rows": [
        [
         "0",
         "2530",
         "AV+PV+TV+MV",
         "Child",
         "Female",
         "98.0",
         "15.9",
         "False",
         "Absent",
         null,
         null,
         null,
         null,
         null,
         null,
         null,
         null,
         null,
         null,
         null,
         null,
         "Abnormal",
         "CC2015",
         null
        ],
        [
         "1",
         "9979",
         "AV+PV+TV+MV",
         "Child",
         "Female",
         "103.0",
         "13.1",
         "False",
         "Present",
         "AV+MV+PV+TV",
         "TV",
         "Holosystolic",
         "Diamond",
         "III/VI",
         "High",
         "Harsh",
         null,
         null,
         null,
         null,
         null,
         "Abnormal",
         "CC2015",
         null
        ],
        [
         "3",
         "13918",
         "AV+PV+TV+MV",
         "Child",
         "Male",
         "98.0",
         "15.9",
         "False",
         "Present",
         "TV",
         "TV",
         "Holosystolic",
         "Plateau",
         "I/VI",
         "Low",
         "Blowing",
         null,
         null,
         null,
         null,
         null,
         "Abnormal",
         "CC2015",
         null
        ],
        [
         "4",
         "14241",
         "AV+PV+TV+MV",
         "Child",
         "Male",
         "87.0",
         "11.2",
         "False",
         "Present",
         "AV+MV+PV+TV",
         "PV",
         "Early-systolic",
         "Plateau",
         "II/VI",
         "Low",
         "Harsh",
         null,
         null,
         null,
         null,
         null,
         "Abnormal",
         "CC2015",
         null
        ],
        [
         "5",
         "14998",
         "AV+PV+TV+MV",
         "Child",
         "Male",
         null,
         null,
         "False",
         "Absent",
         null,
         null,
         null,
         null,
         null,
         null,
         null,
         null,
         null,
         null,
         null,
         null,
         "Abnormal",
         "CC2015",
         null
        ],
        [
         "6",
         "23625",
         "AV+PV+TV+MV",
         "Child",
         "Female",
         "92.0",
         "14.0",
         "False",
         "Absent",
         null,
         null,
         null,
         null,
         null,
         null,
         null,
         null,
         null,
         null,
         null,
         null,
         "Abnormal",
         "CC2015",
         "50379.0"
        ],
        [
         "7",
         "24160",
         "AV+PV+TV+MV",
         "Child",
         "Female",
         "98.0",
         "17.66",
         "False",
         "Absent",
         null,
         null,
         null,
         null,
         null,
         null,
         null,
         null,
         null,
         null,
         null,
         null,
         "Abnormal",
         "CC2015",
         null
        ],
        [
         "8",
         "29045",
         "AV+PV+TV+MV",
         "Child",
         "Female",
         "88.0",
         "12.5",
         "False",
         "Present",
         "AV+MV+PV+TV",
         "TV",
         "Holosystolic",
         "Plateau",
         "II/VI",
         "Low",
         "Blowing",
         null,
         null,
         null,
         null,
         null,
         "Abnormal",
         "CC2015",
         null
        ],
        [
         "10",
         "31737",
         "AV+PV+TV+MV",
         "Child",
         "Female",
         "90.0",
         "14.4",
         "False",
         "Absent",
         null,
         null,
         null,
         null,
         null,
         null,
         null,
         null,
         null,
         null,
         null,
         null,
         "Abnormal",
         "CC2015",
         null
        ],
        [
         "11",
         "33151",
         "AV+PV+TV+MV",
         "Child",
         "Female",
         "141.0",
         "30.9",
         "False",
         "Present",
         "MV+TV",
         "TV",
         "Holosystolic",
         "Plateau",
         "I/VI",
         "Low",
         "Harsh",
         null,
         null,
         null,
         null,
         null,
         "Abnormal",
         "CC2015",
         null
        ],
        [
         "12",
         "36327",
         "AV+PV+TV+MV",
         "Adolescent",
         "Male",
         "174.0",
         "108.6",
         "False",
         "Present",
         "MV+PV+TV",
         "TV",
         "Holosystolic",
         "Plateau",
         "I/VI",
         "Low",
         "Blowing",
         null,
         null,
         null,
         null,
         null,
         "Abnormal",
         "CC2015",
         "49630.0"
        ],
        [
         "13",
         "38337",
         "AV+MV",
         "Child",
         "Female",
         "76.0",
         "10.5",
         "False",
         "Absent",
         null,
         null,
         null,
         null,
         null,
         null,
         null,
         null,
         null,
         null,
         null,
         null,
         "Abnormal",
         "CC2015",
         "49622.0"
        ],
        [
         "14",
         "39043",
         "AV+PV+TV+MV",
         "Child",
         "Female",
         "108.0",
         "17.2",
         "False",
         "Absent",
         null,
         null,
         null,
         null,
         null,
         null,
         null,
         null,
         null,
         null,
         null,
         null,
         "Abnormal",
         "CC2015",
         null
        ],
        [
         "15",
         "39403",
         "AV+PV+TV+MV",
         "Child",
         "Female",
         "76.0",
         "9.05",
         "False",
         "Absent",
         null,
         null,
         null,
         null,
         null,
         null,
         null,
         null,
         null,
         null,
         null,
         null,
         "Abnormal",
         "CC2015",
         null
        ],
        [
         "17",
         "40058",
         "AV+PV+TV+MV",
         "Child",
         "Female",
         "125.0",
         "23.0",
         "False",
         "Absent",
         null,
         null,
         null,
         null,
         null,
         null,
         null,
         null,
         null,
         null,
         null,
         null,
         "Abnormal",
         "CC2015",
         null
        ],
        [
         "18",
         "40798",
         "AV+PV+TV+MV",
         "Child",
         "Male",
         "116.0",
         "22.5",
         "False",
         "Absent",
         null,
         null,
         null,
         null,
         null,
         null,
         null,
         null,
         null,
         null,
         null,
         null,
         "Abnormal",
         "CC2015",
         null
        ],
        [
         "19",
         "40840",
         "AV+PV+TV+MV",
         "Adolescent",
         "Female",
         "147.0",
         "36.1",
         "False",
         "Present",
         "AV+MV+PV+TV",
         "PV",
         "Mid-systolic",
         "Diamond",
         "III/VI",
         "High",
         "Harsh",
         null,
         null,
         null,
         null,
         null,
         "Abnormal",
         "CC2015",
         null
        ],
        [
         "20",
         "43852",
         "AV+PV+TV+MV",
         "Child",
         "Female",
         "69.0",
         "9.0",
         "False",
         "Absent",
         null,
         null,
         null,
         null,
         null,
         null,
         null,
         null,
         null,
         null,
         null,
         null,
         "Normal",
         "CC2015",
         null
        ],
        [
         "21",
         "44514",
         "AV+PV+TV+MV",
         "Adolescent",
         "Male",
         "152.0",
         "39.5",
         "False",
         "Present",
         "AV+MV+PV+TV",
         "PV",
         "Holosystolic",
         "Plateau",
         "III/VI",
         "High",
         "Harsh",
         null,
         null,
         null,
         null,
         null,
         "Abnormal",
         "CC2015",
         null
        ],
        [
         "22",
         "45843",
         "AV+PV+TV+MV",
         "Adolescent",
         "Female",
         "141.0",
         "34.4",
         "False",
         "Present",
         "MV+TV",
         "MV",
         "Holosystolic",
         "Decrescendo",
         "I/VI",
         "Medium",
         "Blowing",
         null,
         null,
         null,
         null,
         null,
         "Abnormal",
         "CC2015",
         "49821.0"
        ],
        [
         "23",
         "46065",
         "AV+PV+TV+MV",
         "Child",
         "Male",
         "111.0",
         "18.3",
         "False",
         "Present",
         "AV+MV+PV+TV",
         "TV",
         "Mid-systolic",
         "Diamond",
         "III/VI",
         "Medium",
         "Harsh",
         null,
         null,
         null,
         null,
         null,
         "Abnormal",
         "CC2015",
         null
        ],
        [
         "24",
         "46532",
         "AV",
         "Child",
         "Female",
         "70.0",
         "9.0",
         "False",
         "Absent",
         null,
         null,
         null,
         null,
         null,
         null,
         null,
         null,
         null,
         null,
         null,
         null,
         "Normal",
         "CC2015",
         null
        ],
        [
         "25",
         "46579",
         "AV+PV+TV+MV",
         "Child",
         "Male",
         "79.0",
         "9.79",
         "False",
         "Present",
         "MV+PV+TV",
         "TV",
         "Holosystolic",
         "Plateau",
         "I/VI",
         "Low",
         "Harsh",
         null,
         null,
         null,
         null,
         null,
         "Abnormal",
         "CC2015",
         "49761.0"
        ],
        [
         "26",
         "46778",
         "MV",
         "Adolescent",
         "Female",
         "150.0",
         "54.7",
         "False",
         "Present",
         "MV",
         "MV",
         "Holosystolic",
         "Plateau",
         "I/VI",
         "Low",
         "Harsh",
         "Early-diastolic",
         "Decrescendo",
         "I/IV",
         "Low",
         "Blowing",
         "Abnormal",
         "CC2015",
         "49754.0"
        ],
        [
         "27",
         "47002",
         "AV+MV",
         "Child",
         "Female",
         "74.0",
         "8.5",
         "False",
         "Present",
         "MV",
         "MV",
         "Holosystolic",
         "Plateau",
         "I/VI",
         "Low",
         "Blowing",
         null,
         null,
         null,
         null,
         null,
         "Abnormal",
         "CC2015",
         null
        ],
        [
         "29",
         "49561",
         "AV+PV+TV+MV",
         "Child",
         "Female",
         "124.0",
         "25.1",
         "False",
         "Absent",
         null,
         null,
         null,
         null,
         null,
         null,
         null,
         null,
         null,
         null,
         null,
         null,
         "Abnormal",
         "CC2014",
         null
        ],
        [
         "30",
         "49562",
         "AV+PV+TV+MV",
         "Child",
         "Male",
         "122.0",
         "24.2",
         "False",
         "Absent",
         null,
         null,
         null,
         null,
         null,
         null,
         null,
         null,
         null,
         null,
         null,
         null,
         "Abnormal",
         "CC2014",
         null
        ],
        [
         "31",
         "49568",
         "AV+PV+TV+MV",
         "Child",
         "Male",
         "141.0",
         "37.5",
         "False",
         "Absent",
         null,
         null,
         null,
         null,
         null,
         null,
         null,
         null,
         null,
         null,
         null,
         null,
         "Normal",
         "CC2014",
         null
        ],
        [
         "32",
         "49572",
         "PV+TV+MV",
         "Child",
         "Female",
         "95.0",
         "15.4",
         "False",
         "Present",
         "MV+PV",
         "MV",
         "Early-systolic",
         "Plateau",
         "I/VI",
         "Low",
         "Blowing",
         null,
         null,
         null,
         null,
         null,
         "Normal",
         "CC2014",
         null
        ],
        [
         "33",
         "49574",
         "AV+PV+TV+MV",
         "Child",
         "Male",
         "129.0",
         "20.0",
         "False",
         "Present",
         "AV+MV+PV+TV",
         "TV",
         "Holosystolic",
         "Plateau",
         "III/VI",
         "High",
         "Harsh",
         null,
         null,
         null,
         null,
         null,
         "Abnormal",
         "CC2014",
         "69068.0"
        ],
        [
         "34",
         "49577",
         "AV+PV+TV+MV",
         "Child",
         "Female",
         "130.0",
         "36.7",
         "False",
         "Absent",
         null,
         null,
         null,
         null,
         null,
         null,
         null,
         null,
         null,
         null,
         null,
         null,
         "Normal",
         "CC2014",
         null
        ],
        [
         "35",
         "49585",
         "AV+PV+TV+MV",
         "Child",
         "Female",
         "114.0",
         "16.5",
         "False",
         "Absent",
         null,
         null,
         null,
         null,
         null,
         null,
         null,
         null,
         null,
         null,
         null,
         null,
         "Abnormal",
         "CC2014",
         null
        ],
        [
         "36",
         "49595",
         "AV+MV",
         "Child",
         "Female",
         "89.0",
         "13.8",
         "False",
         "Present",
         "AV+MV",
         "AV",
         "Holosystolic",
         "Diamond",
         "I/VI",
         "Medium",
         "Blowing",
         null,
         null,
         null,
         null,
         null,
         "Abnormal",
         "CC2014",
         "69079.0"
        ],
        [
         "37",
         "49598",
         "AV+MV",
         "Child",
         "Male",
         "83.0",
         "13.8",
         "False",
         "Absent",
         null,
         null,
         null,
         null,
         null,
         null,
         null,
         null,
         null,
         null,
         null,
         null,
         "Normal",
         "CC2014",
         null
        ],
        [
         "39",
         "49610",
         "AV+PV+TV+MV",
         "Child",
         "Female",
         "133.0",
         "25.0",
         "False",
         "Absent",
         null,
         null,
         null,
         null,
         null,
         null,
         null,
         null,
         null,
         null,
         null,
         null,
         "Abnormal",
         "CC2014",
         null
        ],
        [
         "41",
         "49622",
         "AV+MV",
         "Infant",
         "Female",
         "62.0",
         "5.96",
         "False",
         "Absent",
         null,
         null,
         null,
         null,
         null,
         null,
         null,
         null,
         null,
         null,
         null,
         null,
         "Abnormal",
         "CC2014",
         "38337.0"
        ],
        [
         "42",
         "49627",
         "AV+PV+TV+MV",
         "Child",
         "Female",
         "136.0",
         "26.3",
         "False",
         "Present",
         "AV+MV+PV+TV",
         "MV",
         "Mid-systolic",
         "Diamond",
         "III/VI",
         "High",
         "Harsh",
         null,
         null,
         null,
         null,
         null,
         "Abnormal",
         "CC2014",
         null
        ],
        [
         "43",
         "49628",
         "AV+PV+TV+MV",
         "Child",
         "Male",
         "92.0",
         "10.9",
         "False",
         "Present",
         "AV+MV+PV+TV",
         "TV",
         "Holosystolic",
         "Diamond",
         "III/VI",
         "High",
         "Harsh",
         null,
         null,
         null,
         null,
         null,
         "Abnormal",
         "CC2014",
         null
        ],
        [
         "44",
         "49630",
         "AV+PV+TV+MV",
         "Adolescent",
         "Male",
         "180.0",
         "103.3",
         "False",
         "Present",
         "MV+PV+TV",
         "TV",
         "Holosystolic",
         "Plateau",
         "I/VI",
         "Low",
         "Blowing",
         null,
         null,
         null,
         null,
         null,
         "Abnormal",
         "CC2014",
         "36327.0"
        ],
        [
         "45",
         "49631",
         "AV+MV",
         "Child",
         "Male",
         "101.0",
         "16.1",
         "False",
         "Absent",
         null,
         null,
         null,
         null,
         null,
         null,
         null,
         null,
         null,
         null,
         null,
         null,
         "Normal",
         "CC2014",
         null
        ],
        [
         "47",
         "49641",
         "AV+PV+TV+MV",
         "Child",
         "Female",
         "121.0",
         "19.3",
         "False",
         "Absent",
         null,
         null,
         null,
         null,
         null,
         null,
         null,
         null,
         null,
         null,
         null,
         null,
         "Abnormal",
         "CC2014",
         "69095.0"
        ],
        [
         "48",
         "49653",
         "AV+PV+TV+MV",
         "Adolescent",
         "Female",
         "151.0",
         "36.1",
         "False",
         "Absent",
         null,
         null,
         null,
         null,
         null,
         null,
         null,
         null,
         null,
         null,
         null,
         null,
         "Normal",
         "CC2014",
         null
        ],
        [
         "49",
         "49659",
         "AV+PV+TV+MV",
         "Child",
         "Male",
         "122.0",
         "26.1",
         "False",
         "Absent",
         null,
         null,
         null,
         null,
         null,
         null,
         null,
         null,
         null,
         null,
         null,
         null,
         "Abnormal",
         "CC2014",
         null
        ],
        [
         "50",
         "49661",
         "AV+MV",
         "Child",
         "Male",
         "95.0",
         "14.5",
         "False",
         "Absent",
         null,
         null,
         null,
         null,
         null,
         null,
         null,
         null,
         null,
         null,
         null,
         null,
         "Normal",
         "CC2014",
         null
        ],
        [
         "52",
         "49678",
         "AV+PV+TV+MV",
         "Child",
         "Female",
         "134.0",
         "29.4",
         "False",
         "Absent",
         null,
         null,
         null,
         null,
         null,
         null,
         null,
         null,
         null,
         null,
         null,
         null,
         "Normal",
         "CC2014",
         null
        ],
        [
         "53",
         "49683",
         "AV+PV+TV+MV",
         "Child",
         "Female",
         "103.0",
         "14.0",
         "False",
         "Absent",
         null,
         null,
         null,
         null,
         null,
         null,
         null,
         null,
         null,
         null,
         null,
         null,
         "Abnormal",
         "CC2014",
         null
        ],
        [
         "54",
         "49687",
         "AV+PV+TV+MV",
         "Child",
         "Male",
         "148.0",
         "54.7",
         "False",
         "Absent",
         null,
         null,
         null,
         null,
         null,
         null,
         null,
         null,
         null,
         null,
         null,
         null,
         "Abnormal",
         "CC2014",
         null
        ],
        [
         "55",
         "49691",
         "AV+PV+TV+MV",
         "Child",
         "Male",
         "133.0",
         "24.8",
         "False",
         "Present",
         "AV+MV+PV+TV",
         "PV",
         "Early-systolic",
         "Decrescendo",
         "II/VI",
         "Medium",
         "Harsh",
         null,
         null,
         null,
         null,
         null,
         "Abnormal",
         "CC2014",
         null
        ],
        [
         "56",
         "49704",
         "AV+MV",
         "Infant",
         "Male",
         "52.0",
         null,
         "False",
         "Absent",
         null,
         null,
         null,
         null,
         null,
         null,
         null,
         null,
         null,
         null,
         null,
         null,
         "Abnormal",
         "CC2014",
         null
        ],
        [
         "57",
         "49712",
         "AV+PV+TV+MV",
         "Child",
         "Male",
         "133.0",
         "24.8",
         "False",
         "Present",
         "AV+MV+PV+TV",
         "PV",
         "Mid-systolic",
         "Diamond",
         "III/VI",
         "High",
         "Harsh",
         null,
         null,
         null,
         null,
         null,
         "Abnormal",
         "CC2014",
         "69120.0"
        ]
       ],
       "shape": {
        "columns": 23,
        "rows": 874
       }
      },
      "text/html": [
       "<div>\n",
       "<style scoped>\n",
       "    .dataframe tbody tr th:only-of-type {\n",
       "        vertical-align: middle;\n",
       "    }\n",
       "\n",
       "    .dataframe tbody tr th {\n",
       "        vertical-align: top;\n",
       "    }\n",
       "\n",
       "    .dataframe thead th {\n",
       "        text-align: right;\n",
       "    }\n",
       "</style>\n",
       "<table border=\"1\" class=\"dataframe\">\n",
       "  <thead>\n",
       "    <tr style=\"text-align: right;\">\n",
       "      <th></th>\n",
       "      <th>Patient ID</th>\n",
       "      <th>Recording locations:</th>\n",
       "      <th>Age</th>\n",
       "      <th>Sex</th>\n",
       "      <th>Height</th>\n",
       "      <th>Weight</th>\n",
       "      <th>Pregnancy status</th>\n",
       "      <th>Murmur</th>\n",
       "      <th>Murmur locations</th>\n",
       "      <th>Most audible location</th>\n",
       "      <th>...</th>\n",
       "      <th>Systolic murmur pitch</th>\n",
       "      <th>Systolic murmur quality</th>\n",
       "      <th>Diastolic murmur timing</th>\n",
       "      <th>Diastolic murmur shape</th>\n",
       "      <th>Diastolic murmur grading</th>\n",
       "      <th>Diastolic murmur pitch</th>\n",
       "      <th>Diastolic murmur quality</th>\n",
       "      <th>Outcome</th>\n",
       "      <th>Campaign</th>\n",
       "      <th>Additional ID</th>\n",
       "    </tr>\n",
       "  </thead>\n",
       "  <tbody>\n",
       "    <tr>\n",
       "      <th>0</th>\n",
       "      <td>2530</td>\n",
       "      <td>AV+PV+TV+MV</td>\n",
       "      <td>Child</td>\n",
       "      <td>Female</td>\n",
       "      <td>98.0</td>\n",
       "      <td>15.9</td>\n",
       "      <td>False</td>\n",
       "      <td>Absent</td>\n",
       "      <td>NaN</td>\n",
       "      <td>NaN</td>\n",
       "      <td>...</td>\n",
       "      <td>NaN</td>\n",
       "      <td>NaN</td>\n",
       "      <td>NaN</td>\n",
       "      <td>NaN</td>\n",
       "      <td>NaN</td>\n",
       "      <td>NaN</td>\n",
       "      <td>NaN</td>\n",
       "      <td>Abnormal</td>\n",
       "      <td>CC2015</td>\n",
       "      <td>NaN</td>\n",
       "    </tr>\n",
       "    <tr>\n",
       "      <th>1</th>\n",
       "      <td>9979</td>\n",
       "      <td>AV+PV+TV+MV</td>\n",
       "      <td>Child</td>\n",
       "      <td>Female</td>\n",
       "      <td>103.0</td>\n",
       "      <td>13.1</td>\n",
       "      <td>False</td>\n",
       "      <td>Present</td>\n",
       "      <td>AV+MV+PV+TV</td>\n",
       "      <td>TV</td>\n",
       "      <td>...</td>\n",
       "      <td>High</td>\n",
       "      <td>Harsh</td>\n",
       "      <td>NaN</td>\n",
       "      <td>NaN</td>\n",
       "      <td>NaN</td>\n",
       "      <td>NaN</td>\n",
       "      <td>NaN</td>\n",
       "      <td>Abnormal</td>\n",
       "      <td>CC2015</td>\n",
       "      <td>NaN</td>\n",
       "    </tr>\n",
       "    <tr>\n",
       "      <th>3</th>\n",
       "      <td>13918</td>\n",
       "      <td>AV+PV+TV+MV</td>\n",
       "      <td>Child</td>\n",
       "      <td>Male</td>\n",
       "      <td>98.0</td>\n",
       "      <td>15.9</td>\n",
       "      <td>False</td>\n",
       "      <td>Present</td>\n",
       "      <td>TV</td>\n",
       "      <td>TV</td>\n",
       "      <td>...</td>\n",
       "      <td>Low</td>\n",
       "      <td>Blowing</td>\n",
       "      <td>NaN</td>\n",
       "      <td>NaN</td>\n",
       "      <td>NaN</td>\n",
       "      <td>NaN</td>\n",
       "      <td>NaN</td>\n",
       "      <td>Abnormal</td>\n",
       "      <td>CC2015</td>\n",
       "      <td>NaN</td>\n",
       "    </tr>\n",
       "    <tr>\n",
       "      <th>4</th>\n",
       "      <td>14241</td>\n",
       "      <td>AV+PV+TV+MV</td>\n",
       "      <td>Child</td>\n",
       "      <td>Male</td>\n",
       "      <td>87.0</td>\n",
       "      <td>11.2</td>\n",
       "      <td>False</td>\n",
       "      <td>Present</td>\n",
       "      <td>AV+MV+PV+TV</td>\n",
       "      <td>PV</td>\n",
       "      <td>...</td>\n",
       "      <td>Low</td>\n",
       "      <td>Harsh</td>\n",
       "      <td>NaN</td>\n",
       "      <td>NaN</td>\n",
       "      <td>NaN</td>\n",
       "      <td>NaN</td>\n",
       "      <td>NaN</td>\n",
       "      <td>Abnormal</td>\n",
       "      <td>CC2015</td>\n",
       "      <td>NaN</td>\n",
       "    </tr>\n",
       "    <tr>\n",
       "      <th>5</th>\n",
       "      <td>14998</td>\n",
       "      <td>AV+PV+TV+MV</td>\n",
       "      <td>Child</td>\n",
       "      <td>Male</td>\n",
       "      <td>NaN</td>\n",
       "      <td>NaN</td>\n",
       "      <td>False</td>\n",
       "      <td>Absent</td>\n",
       "      <td>NaN</td>\n",
       "      <td>NaN</td>\n",
       "      <td>...</td>\n",
       "      <td>NaN</td>\n",
       "      <td>NaN</td>\n",
       "      <td>NaN</td>\n",
       "      <td>NaN</td>\n",
       "      <td>NaN</td>\n",
       "      <td>NaN</td>\n",
       "      <td>NaN</td>\n",
       "      <td>Abnormal</td>\n",
       "      <td>CC2015</td>\n",
       "      <td>NaN</td>\n",
       "    </tr>\n",
       "    <tr>\n",
       "      <th>...</th>\n",
       "      <td>...</td>\n",
       "      <td>...</td>\n",
       "      <td>...</td>\n",
       "      <td>...</td>\n",
       "      <td>...</td>\n",
       "      <td>...</td>\n",
       "      <td>...</td>\n",
       "      <td>...</td>\n",
       "      <td>...</td>\n",
       "      <td>...</td>\n",
       "      <td>...</td>\n",
       "      <td>...</td>\n",
       "      <td>...</td>\n",
       "      <td>...</td>\n",
       "      <td>...</td>\n",
       "      <td>...</td>\n",
       "      <td>...</td>\n",
       "      <td>...</td>\n",
       "      <td>...</td>\n",
       "      <td>...</td>\n",
       "      <td>...</td>\n",
       "    </tr>\n",
       "    <tr>\n",
       "      <th>937</th>\n",
       "      <td>85340</td>\n",
       "      <td>AV+PV+TV+MV</td>\n",
       "      <td>Child</td>\n",
       "      <td>Male</td>\n",
       "      <td>105.0</td>\n",
       "      <td>16.6</td>\n",
       "      <td>False</td>\n",
       "      <td>Absent</td>\n",
       "      <td>NaN</td>\n",
       "      <td>NaN</td>\n",
       "      <td>...</td>\n",
       "      <td>NaN</td>\n",
       "      <td>NaN</td>\n",
       "      <td>NaN</td>\n",
       "      <td>NaN</td>\n",
       "      <td>NaN</td>\n",
       "      <td>NaN</td>\n",
       "      <td>NaN</td>\n",
       "      <td>Normal</td>\n",
       "      <td>CC2015</td>\n",
       "      <td>NaN</td>\n",
       "    </tr>\n",
       "    <tr>\n",
       "      <th>938</th>\n",
       "      <td>85341</td>\n",
       "      <td>AV+PV+TV+MV</td>\n",
       "      <td>Child</td>\n",
       "      <td>Male</td>\n",
       "      <td>92.0</td>\n",
       "      <td>15.2</td>\n",
       "      <td>False</td>\n",
       "      <td>Absent</td>\n",
       "      <td>NaN</td>\n",
       "      <td>NaN</td>\n",
       "      <td>...</td>\n",
       "      <td>NaN</td>\n",
       "      <td>NaN</td>\n",
       "      <td>NaN</td>\n",
       "      <td>NaN</td>\n",
       "      <td>NaN</td>\n",
       "      <td>NaN</td>\n",
       "      <td>NaN</td>\n",
       "      <td>Normal</td>\n",
       "      <td>CC2015</td>\n",
       "      <td>NaN</td>\n",
       "    </tr>\n",
       "    <tr>\n",
       "      <th>939</th>\n",
       "      <td>85343</td>\n",
       "      <td>AV+PV+TV+MV</td>\n",
       "      <td>Child</td>\n",
       "      <td>Female</td>\n",
       "      <td>97.0</td>\n",
       "      <td>13.5</td>\n",
       "      <td>False</td>\n",
       "      <td>Present</td>\n",
       "      <td>MV+TV</td>\n",
       "      <td>TV</td>\n",
       "      <td>...</td>\n",
       "      <td>Low</td>\n",
       "      <td>Blowing</td>\n",
       "      <td>NaN</td>\n",
       "      <td>NaN</td>\n",
       "      <td>NaN</td>\n",
       "      <td>NaN</td>\n",
       "      <td>NaN</td>\n",
       "      <td>Abnormal</td>\n",
       "      <td>CC2015</td>\n",
       "      <td>NaN</td>\n",
       "    </tr>\n",
       "    <tr>\n",
       "      <th>940</th>\n",
       "      <td>85345</td>\n",
       "      <td>AV+PV</td>\n",
       "      <td>Child</td>\n",
       "      <td>Female</td>\n",
       "      <td>132.0</td>\n",
       "      <td>38.1</td>\n",
       "      <td>False</td>\n",
       "      <td>Absent</td>\n",
       "      <td>NaN</td>\n",
       "      <td>NaN</td>\n",
       "      <td>...</td>\n",
       "      <td>NaN</td>\n",
       "      <td>NaN</td>\n",
       "      <td>NaN</td>\n",
       "      <td>NaN</td>\n",
       "      <td>NaN</td>\n",
       "      <td>NaN</td>\n",
       "      <td>NaN</td>\n",
       "      <td>Normal</td>\n",
       "      <td>CC2015</td>\n",
       "      <td>NaN</td>\n",
       "    </tr>\n",
       "    <tr>\n",
       "      <th>941</th>\n",
       "      <td>85349</td>\n",
       "      <td>AV+PV+TV</td>\n",
       "      <td>NaN</td>\n",
       "      <td>Female</td>\n",
       "      <td>NaN</td>\n",
       "      <td>NaN</td>\n",
       "      <td>True</td>\n",
       "      <td>Absent</td>\n",
       "      <td>NaN</td>\n",
       "      <td>NaN</td>\n",
       "      <td>...</td>\n",
       "      <td>NaN</td>\n",
       "      <td>NaN</td>\n",
       "      <td>NaN</td>\n",
       "      <td>NaN</td>\n",
       "      <td>NaN</td>\n",
       "      <td>NaN</td>\n",
       "      <td>NaN</td>\n",
       "      <td>Normal</td>\n",
       "      <td>CC2015</td>\n",
       "      <td>NaN</td>\n",
       "    </tr>\n",
       "  </tbody>\n",
       "</table>\n",
       "<p>874 rows × 23 columns</p>\n",
       "</div>"
      ],
      "text/plain": [
       "     Patient ID Recording locations:    Age     Sex  Height  Weight  \\\n",
       "0          2530          AV+PV+TV+MV  Child  Female    98.0    15.9   \n",
       "1          9979          AV+PV+TV+MV  Child  Female   103.0    13.1   \n",
       "3         13918          AV+PV+TV+MV  Child    Male    98.0    15.9   \n",
       "4         14241          AV+PV+TV+MV  Child    Male    87.0    11.2   \n",
       "5         14998          AV+PV+TV+MV  Child    Male     NaN     NaN   \n",
       "..          ...                  ...    ...     ...     ...     ...   \n",
       "937       85340          AV+PV+TV+MV  Child    Male   105.0    16.6   \n",
       "938       85341          AV+PV+TV+MV  Child    Male    92.0    15.2   \n",
       "939       85343          AV+PV+TV+MV  Child  Female    97.0    13.5   \n",
       "940       85345                AV+PV  Child  Female   132.0    38.1   \n",
       "941       85349             AV+PV+TV    NaN  Female     NaN     NaN   \n",
       "\n",
       "     Pregnancy status   Murmur Murmur locations Most audible location  ...  \\\n",
       "0               False   Absent              NaN                   NaN  ...   \n",
       "1               False  Present      AV+MV+PV+TV                    TV  ...   \n",
       "3               False  Present               TV                    TV  ...   \n",
       "4               False  Present      AV+MV+PV+TV                    PV  ...   \n",
       "5               False   Absent              NaN                   NaN  ...   \n",
       "..                ...      ...              ...                   ...  ...   \n",
       "937             False   Absent              NaN                   NaN  ...   \n",
       "938             False   Absent              NaN                   NaN  ...   \n",
       "939             False  Present            MV+TV                    TV  ...   \n",
       "940             False   Absent              NaN                   NaN  ...   \n",
       "941              True   Absent              NaN                   NaN  ...   \n",
       "\n",
       "    Systolic murmur pitch Systolic murmur quality Diastolic murmur timing  \\\n",
       "0                     NaN                     NaN                     NaN   \n",
       "1                    High                   Harsh                     NaN   \n",
       "3                     Low                 Blowing                     NaN   \n",
       "4                     Low                   Harsh                     NaN   \n",
       "5                     NaN                     NaN                     NaN   \n",
       "..                    ...                     ...                     ...   \n",
       "937                   NaN                     NaN                     NaN   \n",
       "938                   NaN                     NaN                     NaN   \n",
       "939                   Low                 Blowing                     NaN   \n",
       "940                   NaN                     NaN                     NaN   \n",
       "941                   NaN                     NaN                     NaN   \n",
       "\n",
       "    Diastolic murmur shape Diastolic murmur grading Diastolic murmur pitch  \\\n",
       "0                      NaN                      NaN                    NaN   \n",
       "1                      NaN                      NaN                    NaN   \n",
       "3                      NaN                      NaN                    NaN   \n",
       "4                      NaN                      NaN                    NaN   \n",
       "5                      NaN                      NaN                    NaN   \n",
       "..                     ...                      ...                    ...   \n",
       "937                    NaN                      NaN                    NaN   \n",
       "938                    NaN                      NaN                    NaN   \n",
       "939                    NaN                      NaN                    NaN   \n",
       "940                    NaN                      NaN                    NaN   \n",
       "941                    NaN                      NaN                    NaN   \n",
       "\n",
       "    Diastolic murmur quality   Outcome Campaign Additional ID  \n",
       "0                        NaN  Abnormal   CC2015           NaN  \n",
       "1                        NaN  Abnormal   CC2015           NaN  \n",
       "3                        NaN  Abnormal   CC2015           NaN  \n",
       "4                        NaN  Abnormal   CC2015           NaN  \n",
       "5                        NaN  Abnormal   CC2015           NaN  \n",
       "..                       ...       ...      ...           ...  \n",
       "937                      NaN    Normal   CC2015           NaN  \n",
       "938                      NaN    Normal   CC2015           NaN  \n",
       "939                      NaN  Abnormal   CC2015           NaN  \n",
       "940                      NaN    Normal   CC2015           NaN  \n",
       "941                      NaN    Normal   CC2015           NaN  \n",
       "\n",
       "[874 rows x 23 columns]"
      ]
     },
     "execution_count": 8,
     "metadata": {},
     "output_type": "execute_result"
    }
   ],
   "source": [
    "pcg_data.loc[pcg_data['Murmur'].eq('Absent') | pcg_data['Murmur'].eq('Present')]"
   ]
  },
  {
   "cell_type": "markdown",
   "metadata": {},
   "source": [
    "### 1.b Loading the PASCAL dataset"
   ]
  },
  {
   "cell_type": "code",
   "execution_count": 9,
   "metadata": {},
   "outputs": [],
   "source": [
    "pcg_data = pd.read_csv(pascal_dset_path+'set_b.csv')"
   ]
  },
  {
   "cell_type": "code",
   "execution_count": 10,
   "metadata": {},
   "outputs": [
    {
     "data": {
      "text/plain": [
       "label\n",
       "normal        320\n",
       "murmur         95\n",
       "extrastole     46\n",
       "Name: count, dtype: int64"
      ]
     },
     "execution_count": 10,
     "metadata": {},
     "output_type": "execute_result"
    }
   ],
   "source": [
    "pcg_data['label'].value_counts()"
   ]
  },
  {
   "cell_type": "code",
   "execution_count": 11,
   "metadata": {},
   "outputs": [],
   "source": [
    "# set aside extrastole for now\n",
    "##cg_data = pcg_data.loc[pcg_data['label'].eq('normal') | pcg_data['label'].eq('murmur')]"
   ]
  },
  {
   "cell_type": "markdown",
   "metadata": {},
   "source": [
    "### 1.b.1 - Clean up horrible data formatting (only run this once)"
   ]
  },
  {
   "cell_type": "code",
   "execution_count": 12,
   "metadata": {},
   "outputs": [],
   "source": [
    "#for i in range(pcg_data.shape[0]):\n",
    "##  # delete \"Btraining\"\n",
    "##  #pcg_data.loc[i,'fname'] = 'setb/'+pcg_data.iloc[i,:]['fname'].split('/')[-1][10:]\n",
    "#  filename = pcg_data.iloc[i,:]['fname'].split('/')[-1]\n",
    "#  cut_idx = re.search(r'\\d',filename).start()\n",
    "#  pcg_data.loc[i,'fname'] = pcg_data.loc[i,'fname'].replace('setb','set_b')\n",
    "#  pcg_data.loc[i,'fname'] = 'set_b/'+filename[cut_idx:]\n",
    "#  "
   ]
  },
  {
   "cell_type": "code",
   "execution_count": 13,
   "metadata": {},
   "outputs": [],
   "source": [
    "#pcg_data.to_csv(pascal_dset_path+'set_b.csv',index=False)"
   ]
  },
  {
   "cell_type": "code",
   "execution_count": 14,
   "metadata": {},
   "outputs": [
    {
     "data": {
      "text/plain": [
       "sublabel\n",
       "noisynormal    120\n",
       "noisymurmur     29\n",
       "Name: count, dtype: int64"
      ]
     },
     "execution_count": 14,
     "metadata": {},
     "output_type": "execute_result"
    }
   ],
   "source": [
    "pcg_data['sublabel'].value_counts()"
   ]
  },
  {
   "cell_type": "code",
   "execution_count": 15,
   "metadata": {},
   "outputs": [],
   "source": [
    "pcg_data = pcg_data.loc[(pcg_data['label'].eq('normal') |\n",
    "                        pcg_data['label'].eq('murmur')) & \n",
    "                        pcg_data['sublabel'].ne('noisynormal') & \n",
    "                        pcg_data['sublabel'].ne('noisymurmur')]"
   ]
  },
  {
   "cell_type": "code",
   "execution_count": 16,
   "metadata": {},
   "outputs": [
    {
     "data": {
      "application/vnd.microsoft.datawrangler.viewer.v0+json": {
       "columns": [
        {
         "name": "index",
         "rawType": "int64",
         "type": "integer"
        },
        {
         "name": "dataset",
         "rawType": "object",
         "type": "string"
        },
        {
         "name": "fname",
         "rawType": "object",
         "type": "string"
        },
        {
         "name": "label",
         "rawType": "object",
         "type": "string"
        },
        {
         "name": "sublabel",
         "rawType": "object",
         "type": "unknown"
        }
       ],
       "conversionMethod": "pd.DataFrame",
       "ref": "adf02045-974e-4407-b5ce-2ec492fb9f3a",
       "rows": [
        [
         "46",
         "b",
         "set_b/112_1306243000964_A.wav",
         "murmur",
         null
        ],
        [
         "47",
         "b",
         "set_b/112_1306243000964_B.wav",
         "murmur",
         null
        ],
        [
         "48",
         "b",
         "set_b/112_1306243000964_D.wav",
         "murmur",
         null
        ],
        [
         "49",
         "b",
         "set_b/116_1306258689913_A.wav",
         "murmur",
         null
        ],
        [
         "50",
         "b",
         "set_b/116_1306258689913_C.wav",
         "murmur",
         null
        ],
        [
         "51",
         "b",
         "set_b/116_1306258689913_D.wav",
         "murmur",
         null
        ],
        [
         "52",
         "b",
         "set_b/122_1306325762831_C.wav",
         "murmur",
         null
        ],
        [
         "53",
         "b",
         "set_b/122_1306325762831_D.wav",
         "murmur",
         null
        ],
        [
         "54",
         "b",
         "set_b/156_1306936373241_B.wav",
         "murmur",
         null
        ],
        [
         "55",
         "b",
         "set_b/160_1307100683334_A.wav",
         "murmur",
         null
        ],
        [
         "56",
         "b",
         "set_b/160_1307100683334_B.wav",
         "murmur",
         null
        ],
        [
         "57",
         "b",
         "set_b/161_1307101199321_A.wav",
         "murmur",
         null
        ],
        [
         "58",
         "b",
         "set_b/162_1307101835989_A.wav",
         "murmur",
         null
        ],
        [
         "59",
         "b",
         "set_b/162_1307101835989_B.wav",
         "murmur",
         null
        ],
        [
         "60",
         "b",
         "set_b/164_1307106095995_B.wav",
         "murmur",
         null
        ],
        [
         "61",
         "b",
         "set_b/164_1307106095995_C.wav",
         "murmur",
         null
        ],
        [
         "62",
         "b",
         "set_b/165_1307109069581_C.wav",
         "murmur",
         null
        ],
        [
         "63",
         "b",
         "set_b/165_1307109069581_C2.wav",
         "murmur",
         null
        ],
        [
         "64",
         "b",
         "set_b/171_1307971016233_D.wav",
         "murmur",
         null
        ],
        [
         "65",
         "b",
         "set_b/171_1307971016233_D1.wav",
         "murmur",
         null
        ],
        [
         "66",
         "b",
         "set_b/171_1307971016233_E.wav",
         "murmur",
         null
        ],
        [
         "67",
         "b",
         "set_b/185_1308073325396_B.wav",
         "murmur",
         null
        ],
        [
         "68",
         "b",
         "set_b/185_1308073325396_C.wav",
         "murmur",
         null
        ],
        [
         "69",
         "b",
         "set_b/193_1308078104592_B.wav",
         "murmur",
         null
        ],
        [
         "70",
         "b",
         "set_b/193_1308078104592_C.wav",
         "murmur",
         null
        ],
        [
         "71",
         "b",
         "set_b/193_1308078104592_C1.wav",
         "murmur",
         null
        ],
        [
         "72",
         "b",
         "set_b/195_1308140095331_A.wav",
         "murmur",
         null
        ],
        [
         "73",
         "b",
         "set_b/195_1308140095331_C.wav",
         "murmur",
         null
        ],
        [
         "74",
         "b",
         "set_b/195_1308140095331_C1.wav",
         "murmur",
         null
        ],
        [
         "75",
         "b",
         "set_b/196_1308141034858_B.wav",
         "murmur",
         null
        ],
        [
         "76",
         "b",
         "set_b/196_1308141034858_C.wav",
         "murmur",
         null
        ],
        [
         "77",
         "b",
         "set_b/197_1308141235553_A.wav",
         "murmur",
         null
        ],
        [
         "78",
         "b",
         "set_b/197_1308141235553_C.wav",
         "murmur",
         null
        ],
        [
         "79",
         "b",
         "set_b/197_1308141235553_D.wav",
         "murmur",
         null
        ],
        [
         "80",
         "b",
         "set_b/200_1308144251434_C.wav",
         "murmur",
         null
        ],
        [
         "81",
         "b",
         "set_b/200_1308144251434_D.wav",
         "murmur",
         null
        ],
        [
         "82",
         "b",
         "set_b/203_1308162026258_B.wav",
         "murmur",
         null
        ],
        [
         "83",
         "b",
         "set_b/203_1308162026258_C1.wav",
         "murmur",
         null
        ],
        [
         "84",
         "b",
         "set_b/203_1308162026258_D.wav",
         "murmur",
         null
        ],
        [
         "85",
         "b",
         "set_b/204_1308159229275_B.wav",
         "murmur",
         null
        ],
        [
         "86",
         "b",
         "set_b/211_1308163238707_C.wav",
         "murmur",
         null
        ],
        [
         "87",
         "b",
         "set_b/223_1308337062581_D.wav",
         "murmur",
         null
        ],
        [
         "88",
         "b",
         "set_b/239_1309195730333_B.wav",
         "murmur",
         null
        ],
        [
         "89",
         "b",
         "set_b/239_1309195730333_C.wav",
         "murmur",
         null
        ],
        [
         "90",
         "b",
         "set_b/240_1309196119795_B.wav",
         "murmur",
         null
        ],
        [
         "91",
         "b",
         "set_b/240_1309196119795_C.wav",
         "murmur",
         null
        ],
        [
         "92",
         "b",
         "set_b/240_1309201366049_B.wav",
         "murmur",
         null
        ],
        [
         "93",
         "b",
         "set_b/242_1309197394064_B.wav",
         "murmur",
         null
        ],
        [
         "94",
         "b",
         "set_b/242_1309197394064_D.wav",
         "murmur",
         null
        ],
        [
         "95",
         "b",
         "set_b/244_1309198148498_B.wav",
         "murmur",
         null
        ]
       ],
       "shape": {
        "columns": 4,
        "rows": 266
       }
      },
      "text/html": [
       "<div>\n",
       "<style scoped>\n",
       "    .dataframe tbody tr th:only-of-type {\n",
       "        vertical-align: middle;\n",
       "    }\n",
       "\n",
       "    .dataframe tbody tr th {\n",
       "        vertical-align: top;\n",
       "    }\n",
       "\n",
       "    .dataframe thead th {\n",
       "        text-align: right;\n",
       "    }\n",
       "</style>\n",
       "<table border=\"1\" class=\"dataframe\">\n",
       "  <thead>\n",
       "    <tr style=\"text-align: right;\">\n",
       "      <th></th>\n",
       "      <th>dataset</th>\n",
       "      <th>fname</th>\n",
       "      <th>label</th>\n",
       "      <th>sublabel</th>\n",
       "    </tr>\n",
       "  </thead>\n",
       "  <tbody>\n",
       "    <tr>\n",
       "      <th>46</th>\n",
       "      <td>b</td>\n",
       "      <td>set_b/112_1306243000964_A.wav</td>\n",
       "      <td>murmur</td>\n",
       "      <td>NaN</td>\n",
       "    </tr>\n",
       "    <tr>\n",
       "      <th>47</th>\n",
       "      <td>b</td>\n",
       "      <td>set_b/112_1306243000964_B.wav</td>\n",
       "      <td>murmur</td>\n",
       "      <td>NaN</td>\n",
       "    </tr>\n",
       "    <tr>\n",
       "      <th>48</th>\n",
       "      <td>b</td>\n",
       "      <td>set_b/112_1306243000964_D.wav</td>\n",
       "      <td>murmur</td>\n",
       "      <td>NaN</td>\n",
       "    </tr>\n",
       "    <tr>\n",
       "      <th>49</th>\n",
       "      <td>b</td>\n",
       "      <td>set_b/116_1306258689913_A.wav</td>\n",
       "      <td>murmur</td>\n",
       "      <td>NaN</td>\n",
       "    </tr>\n",
       "    <tr>\n",
       "      <th>50</th>\n",
       "      <td>b</td>\n",
       "      <td>set_b/116_1306258689913_C.wav</td>\n",
       "      <td>murmur</td>\n",
       "      <td>NaN</td>\n",
       "    </tr>\n",
       "    <tr>\n",
       "      <th>...</th>\n",
       "      <td>...</td>\n",
       "      <td>...</td>\n",
       "      <td>...</td>\n",
       "      <td>...</td>\n",
       "    </tr>\n",
       "    <tr>\n",
       "      <th>307</th>\n",
       "      <td>b</td>\n",
       "      <td>set_b/296_1311682952647_A1.wav</td>\n",
       "      <td>normal</td>\n",
       "      <td>NaN</td>\n",
       "    </tr>\n",
       "    <tr>\n",
       "      <th>308</th>\n",
       "      <td>b</td>\n",
       "      <td>set_b/296_1311682952647_A2.wav</td>\n",
       "      <td>normal</td>\n",
       "      <td>NaN</td>\n",
       "    </tr>\n",
       "    <tr>\n",
       "      <th>309</th>\n",
       "      <td>b</td>\n",
       "      <td>set_b/298_1311685888900_B.wav</td>\n",
       "      <td>normal</td>\n",
       "      <td>NaN</td>\n",
       "    </tr>\n",
       "    <tr>\n",
       "      <th>310</th>\n",
       "      <td>b</td>\n",
       "      <td>set_b/299_1311770522820_C.wav</td>\n",
       "      <td>normal</td>\n",
       "      <td>NaN</td>\n",
       "    </tr>\n",
       "    <tr>\n",
       "      <th>311</th>\n",
       "      <td>b</td>\n",
       "      <td>set_b/300_1311772096120_C1.wav</td>\n",
       "      <td>normal</td>\n",
       "      <td>NaN</td>\n",
       "    </tr>\n",
       "  </tbody>\n",
       "</table>\n",
       "<p>266 rows × 4 columns</p>\n",
       "</div>"
      ],
      "text/plain": [
       "    dataset                           fname   label sublabel\n",
       "46        b   set_b/112_1306243000964_A.wav  murmur      NaN\n",
       "47        b   set_b/112_1306243000964_B.wav  murmur      NaN\n",
       "48        b   set_b/112_1306243000964_D.wav  murmur      NaN\n",
       "49        b   set_b/116_1306258689913_A.wav  murmur      NaN\n",
       "50        b   set_b/116_1306258689913_C.wav  murmur      NaN\n",
       "..      ...                             ...     ...      ...\n",
       "307       b  set_b/296_1311682952647_A1.wav  normal      NaN\n",
       "308       b  set_b/296_1311682952647_A2.wav  normal      NaN\n",
       "309       b   set_b/298_1311685888900_B.wav  normal      NaN\n",
       "310       b   set_b/299_1311770522820_C.wav  normal      NaN\n",
       "311       b  set_b/300_1311772096120_C1.wav  normal      NaN\n",
       "\n",
       "[266 rows x 4 columns]"
      ]
     },
     "execution_count": 16,
     "metadata": {},
     "output_type": "execute_result"
    }
   ],
   "source": [
    "pcg_data"
   ]
  },
  {
   "cell_type": "code",
   "execution_count": 17,
   "metadata": {},
   "outputs": [
    {
     "data": {
      "text/plain": [
       "(266, 4)"
      ]
     },
     "execution_count": 17,
     "metadata": {},
     "output_type": "execute_result"
    }
   ],
   "source": [
    "pcg_data.shape # this does not contain noisy data\n",
    "# it does not contain murmurs either. this may be hugely importnat\n",
    "# !IMPT: does not contain unlabelled data (which is like 1/3rd of dataset)"
   ]
  },
  {
   "cell_type": "code",
   "execution_count": 18,
   "metadata": {},
   "outputs": [],
   "source": [
    "# write to csv\n",
    "##pcg_data.to_csv(bentley_dset+'set_b.csv',index=False)"
   ]
  },
  {
   "cell_type": "code",
   "execution_count": 19,
   "metadata": {},
   "outputs": [],
   "source": [
    "#for fname in os.listdir(bentley_dset+'set_b/'):\n",
    "#  # renaming\n",
    "#  cutidx = re.search(r'\\d',fname).start()\n",
    "#  os.rename(bentley_dset+'set_b/'+fname,bentley_dset+'set_b/'+fname[cutidx:])"
   ]
  },
  {
   "cell_type": "markdown",
   "metadata": {},
   "source": [
    "### 1.b.2 - Find Corresponding wav for each label"
   ]
  },
  {
   "cell_type": "code",
   "execution_count": 20,
   "metadata": {},
   "outputs": [
    {
     "name": "stdout",
     "output_type": "stream",
     "text": [
      "5.159780744377952 0.763265306122449 24.16\n",
      "22050.0 22050 22050\n",
      "2.0630385487528344\n"
     ]
    }
   ],
   "source": [
    "times = []\n",
    "sample_rates = []\n",
    "wav_lengths = dict()\n",
    "for idx, row in pcg_data.iterrows():\n",
    "  filepath_local = row['fname']\n",
    "  label = row['label']\n",
    "  #wavfile.read(pascal_dset_path+filepath_local)[1]\n",
    "  arr,sr = librosa.load(pascal_dset_path+filepath_local)\n",
    "  length = len(arr)/sr\n",
    "  \n",
    "  wav_lengths[filepath_local] = length\n",
    "  times.append(length) #time\n",
    "  sample_rates.append(sr)\n",
    "  \n",
    "print(np.mean(times),np.min(times),np.max(times))\n",
    "print(np.mean(sample_rates),np.min(sample_rates),np.max(sample_rates))\n",
    "times.sort()\n",
    "PCG_SAMPLE_RATE = np.min(sample_rates) # everything is 22050\n",
    "print(times[len(times)//5]) # ~20th percentile is 2.06 seconds\n",
    "\n",
    "CUTOFF_SECONDS = 2\n",
    "CUTOFF = CUTOFF_SECONDS*PCG_SAMPLE_RATE # 2 seconds\n",
    "# ok, i think for now we can toss out times below 2 seconds"
   ]
  },
  {
   "cell_type": "code",
   "execution_count": 21,
   "metadata": {},
   "outputs": [
    {
     "data": {
      "text/plain": [
       "266"
      ]
     },
     "execution_count": 21,
     "metadata": {},
     "output_type": "execute_result"
    }
   ],
   "source": [
    "len(wav_lengths)"
   ]
  },
  {
   "cell_type": "code",
   "execution_count": 22,
   "metadata": {},
   "outputs": [],
   "source": [
    "# checkpoint 1. done so far:\n",
    "## downlaoded the datasets (synthetic noise, circor, and bentley - the U-net one)\n",
    "## renamed the horribly named files and .csv column values in the bentley dataset\n",
    "# able to read the corresponding wavfile for each row in the bentley dataset (i.e. map murmurs to wav!)"
   ]
  },
  {
   "cell_type": "code",
   "execution_count": 23,
   "metadata": {},
   "outputs": [],
   "source": [
    "#next\n",
    "## add noise to each, remove noise. see if that's possible\n",
    "# ok, let's only resample ambient noise."
   ]
  },
  {
   "cell_type": "markdown",
   "metadata": {},
   "source": [
    "### 1.c - Loading the ARCA23K real world noises"
   ]
  },
  {
   "cell_type": "code",
   "execution_count": 24,
   "metadata": {},
   "outputs": [],
   "source": [
    "#os.listdir(arcawavs)\n",
    "noise_data = pd.read_csv(arcalabels_path+'train.csv')"
   ]
  },
  {
   "cell_type": "code",
   "execution_count": 25,
   "metadata": {},
   "outputs": [
    {
     "name": "stdout",
     "output_type": "stream",
     "text": [
      "Wind_instrument_and_woodwind_instrument 2458\n",
      "Bowed_string_instrument 1841\n",
      "Piano 677\n",
      "Snare_drum 631\n",
      "Trumpet 504\n",
      "Fart 464\n",
      "Electric_guitar 399\n",
      "Acoustic_guitar 355\n",
      "Bark 340\n",
      "Coin_(dropping) 333\n",
      "Female_speech_and_woman_speaking 313\n",
      "Male_speech_and_man_speaking 302\n",
      "Clapping 289\n",
      "Gunshot_and_gunfire 283\n",
      "Walk_and_footsteps 275\n",
      "Organ 266\n",
      "Bass_guitar 259\n",
      "Camera 254\n",
      "Squeak 253\n",
      "Train 245\n",
      "Zipper_(clothing) 244\n",
      "Thump_and_thud 239\n",
      "Livestock_and_farm_animals_and_working_animals 238\n",
      "Whoosh_and_swoosh_and_swish 225\n",
      "Tearing 214\n",
      "Writing 211\n",
      "Cough 208\n",
      "Wind 206\n",
      "Slam 201\n",
      "Scratching_(performance_technique) 199\n",
      "Rattle_(instrument) 196\n",
      "Run 192\n",
      "Dishes_and_pots_and_pans 191\n",
      "Splash_and_splatter 186\n",
      "Burping_and_eructation 181\n",
      "Gong 175\n",
      "Screaming 173\n",
      "Crash_cymbal 171\n",
      "Crackle 170\n",
      "Crumpling_and_crinkling 165\n",
      "Knock 150\n",
      "Harp 149\n",
      "Chewing_and_mastication 146\n",
      "Stream 138\n",
      "Tap 138\n",
      "Toilet_flush 137\n",
      "Keys_jangling 131\n",
      "Meow 130\n",
      "Waves_and_surf 126\n",
      "Child_speech_and_kid_speaking 124\n",
      "Boom 122\n",
      "Drill 117\n",
      "Cricket 115\n",
      "Finger_snapping 110\n",
      "Hammer 109\n",
      "Computer_keyboard 109\n",
      "Drawer_open_or_close 105\n",
      "Microwave_oven 103\n",
      "Female_singing 103\n",
      "Crushing 102\n",
      "Rattle 93\n",
      "Scissors 89\n",
      "Crack 86\n",
      "Sawing 85\n",
      "Giggle 83\n",
      "Printer 81\n",
      "Crying_and_sobbing 79\n",
      "Skateboard 72\n",
      "Water_tap_and_faucet 71\n",
      "Wind_chime 50\n"
     ]
    }
   ],
   "source": [
    "label_amnts = dict(noise_data['label'].value_counts())\n",
    "\n",
    "for key in label_amnts.keys():\n",
    "  print(key,label_amnts[key])"
   ]
  },
  {
   "cell_type": "code",
   "execution_count": 26,
   "metadata": {},
   "outputs": [],
   "source": [
    "# things to look at:\n",
    "## Child_speech_and_kid_speaking\n",
    "## Male_speech_and_man_speaking\n",
    "## Crumpling_and_crinkling\n",
    "# Just do crumpling and crinkling for now. This is a demo"
   ]
  },
  {
   "cell_type": "code",
   "execution_count": 27,
   "metadata": {},
   "outputs": [],
   "source": [
    "# this is now legacy, since all non-relevant labels have been removed\n",
    "relevant_labels = noise_data.loc[noise_data['label'].eq('Crumpling_and_crinkling') \n",
    "                                | noise_data['label'].eq('Child_speech_and_kid_speaking') \n",
    "                                | noise_data['label'].eq('Male_speech_and_man_speaking')\n",
    "                                | noise_data['label'].eq('Female_speech_and_woman_speaking')\n",
    "                                | noise_data['label'].eq('Cough')\n",
    "                                | noise_data['label'].eq('Squeak')\n",
    "                                | noise_data['label'].eq('Walk_and_footsteps')\n",
    "                                | noise_data['label'].eq('Rattle')\n",
    "                                | noise_data['label'].eq('Crack')]\n",
    "\n",
    "important_wavs = set(relevant_labels['fname'].unique())\n",
    "wav_to_type = dict(zip(relevant_labels['fname'],relevant_labels['label']))"
   ]
  },
  {
   "cell_type": "code",
   "execution_count": 28,
   "metadata": {},
   "outputs": [],
   "source": [
    "# here is where audio files get selected and loaded in\n",
    "# # start with just child speech, crumpling and cough  # !impt\n",
    "\n",
    "select_for = set(['Child_speech_and_kid_speaking','Crumpling_and_crinkling','Cough', 'Male_speech_and_man_speaking','Female_speech_and_woman_speaking','Squeak','Crack','Walk_and_footsteps','Rattle'])\n",
    "list_of_wavs = [] # array of ints, since in the csv file, the wav files are named as numbers\n",
    "for wavf in os.listdir(arcawavs_path):\n",
    "  wavname = int(wavf.split('.')[0])\n",
    "  if wav_to_type[wavname] in select_for:\n",
    "    list_of_wavs.append(wavname)"
   ]
  },
  {
   "cell_type": "code",
   "execution_count": 29,
   "metadata": {},
   "outputs": [
    {
     "data": {
      "text/plain": [
       "494"
      ]
     },
     "execution_count": 29,
     "metadata": {},
     "output_type": "execute_result"
    }
   ],
   "source": [
    "len(list_of_wavs) # this isn't large because most of the ARCA23K dataset I deleted (it was huge)"
   ]
  },
  {
   "cell_type": "code",
   "execution_count": 30,
   "metadata": {},
   "outputs": [],
   "source": [
    "## For removing irrelevant audio files. only need to run once\n",
    "\n",
    "#for wavf in os.listdir(arcawavs):\n",
    "#  wavname = wavf.split('.')[0]\n",
    "#  if int(wavname) not in important_wavs:\n",
    "#    os.remove(arcawavs+wavf)"
   ]
  },
  {
   "cell_type": "code",
   "execution_count": 31,
   "metadata": {},
   "outputs": [],
   "source": [
    "def normalize_pm_1(x,maxval,minval):\n",
    "  \"\"\"\n",
    "  min-max normalize an ndarray x to [-1,1]\n",
    "  \"\"\"\n",
    "  return 2*(x-minval)/(maxval-minval)-1"
   ]
  },
  {
   "cell_type": "code",
   "execution_count": 32,
   "metadata": {},
   "outputs": [
    {
     "name": "stdout",
     "output_type": "stream",
     "text": [
      "0.48880005 -0.42004395 -4.2659335e-06\n"
     ]
    }
   ],
   "source": [
    "# now, load in the wavs\n",
    "## resampling them to 4kHz since the clean PCG data is at 4kHz too\n",
    "for wav_int in list_of_wavs[3:]:\n",
    "  data, sr = librosa.load(arcawavs_path+str(wav_int)+'.wav',sr=None)\n",
    "  print(np.max(data),np.min(data),np.mean(data))\n",
    "  resampled = librosa.resample(data,orig_sr = sr,target_sr = 4000)\n",
    "  resampled_zeromean = resampled - np.mean(resampled)\n",
    "  normalized = normalize_pm_1(resampled_zeromean,np.max(resampled_zeromean),np.min(resampled_zeromean))\n",
    "  normalized = normalized - np.mean(normalized)\n",
    "  break\n",
    "  \n",
    "  "
   ]
  },
  {
   "cell_type": "code",
   "execution_count": 33,
   "metadata": {},
   "outputs": [
    {
     "data": {
      "text/plain": [
       "-2.2052493e-09"
      ]
     },
     "execution_count": 33,
     "metadata": {},
     "output_type": "execute_result"
    }
   ],
   "source": [
    "np.mean(normalized)"
   ]
  },
  {
   "cell_type": "code",
   "execution_count": 34,
   "metadata": {},
   "outputs": [
    {
     "data": {
      "text/plain": [
       "(array([1.000e+00, 0.000e+00, 0.000e+00, 0.000e+00, 0.000e+00, 0.000e+00,\n",
       "        3.000e+00, 3.000e+00, 2.000e+00, 7.000e+00, 4.000e+00, 6.000e+00,\n",
       "        7.000e+00, 9.000e+00, 1.600e+01, 1.900e+01, 4.000e+01, 5.200e+01,\n",
       "        6.900e+01, 6.200e+01, 1.250e+02, 1.100e+02, 1.620e+02, 2.090e+02,\n",
       "        2.710e+02, 5.490e+02, 5.883e+03, 4.810e+02, 2.440e+02, 1.980e+02,\n",
       "        1.620e+02, 1.340e+02, 1.150e+02, 7.700e+01, 6.000e+01, 3.900e+01,\n",
       "        3.300e+01, 2.700e+01, 1.900e+01, 1.200e+01, 1.100e+01, 2.000e+00,\n",
       "        8.000e+00, 1.000e+00, 2.000e+00, 1.000e+00, 1.000e+00, 0.000e+00,\n",
       "        0.000e+00, 1.000e+00]),\n",
       " array([-1.058164  , -1.01816404, -0.97816402, -0.938164  , -0.89816397,\n",
       "        -0.85816401, -0.81816399, -0.77816403, -0.73816401, -0.69816399,\n",
       "        -0.65816402, -0.618164  , -0.57816398, -0.53816402, -0.498164  ,\n",
       "        -0.45816401, -0.41816401, -0.37816399, -0.338164  , -0.29816401,\n",
       "        -0.25816399, -0.218164  , -0.17816401, -0.138164  , -0.098164  ,\n",
       "        -0.058164  , -0.018164  ,  0.021836  ,  0.061836  ,  0.101836  ,\n",
       "         0.141836  ,  0.18183599,  0.221836  ,  0.26183599,  0.30183601,\n",
       "         0.34183601,  0.381836  ,  0.42183599,  0.46183601,  0.501836  ,\n",
       "         0.54183602,  0.58183599,  0.62183601,  0.66183603,  0.70183599,\n",
       "         0.74183601,  0.78183597,  0.82183599,  0.86183602,  0.90183598,\n",
       "         0.941836  ]),\n",
       " <BarContainer object of 50 artists>)"
      ]
     },
     "execution_count": 34,
     "metadata": {},
     "output_type": "execute_result"
    },
    {
     "data": {
      "image/png": "[encoded data removed]",
      "text/plain": [
       "<Figure size 640x480 with 1 Axes>"
      ]
     },
     "metadata": {},
     "output_type": "display_data"
    }
   ],
   "source": [
    "plt.hist(normalized,bins=50)"
   ]
  },
  {
   "cell_type": "code",
   "execution_count": 35,
   "metadata": {},
   "outputs": [],
   "source": [
    "# i would expect the sound to have 0 mean? this is a Q for JoYo\n",
    "# next step:\n",
    "# # filter data? passband the PCG data to 1kHz and resample\n",
    "# # add the noise to the PCG data (normalize noise first)\n",
    "# # start to build classifier...\n",
    "# # can create a stereo track and then combine it to mono?\n"
   ]
  },
  {
   "cell_type": "markdown",
   "metadata": {},
   "source": [
    "### 2 - Normalization steps for the data"
   ]
  },
  {
   "cell_type": "code",
   "execution_count": 36,
   "metadata": {},
   "outputs": [],
   "source": [
    "def lowpass_filter(signal_data, sampling_rate, cutoff_freq=400, order=4):\n",
    "    nyquist = 0.5 * sampling_rate  # Nyquist frequency\n",
    "    normal_cutoff = cutoff_freq / nyquist  # Normalize cutoff frequency\n",
    "    \n",
    "    b, a = signal.butter(order, normal_cutoff, btype='low', analog=False)\n",
    "    filtered_signal = signal.filtfilt(b, a, signal_data)\n",
    "    \n",
    "    return filtered_signal"
   ]
  },
  {
   "cell_type": "code",
   "execution_count": 37,
   "metadata": {},
   "outputs": [],
   "source": [
    "def plot_fourier_spectrum(audio_signal, sample_rate,step_size=10,title='Fourier Spectrum Magnitude'):\n",
    "    # Compute the FFT\n",
    "    fft_values = np.fft.fft(audio_signal)\n",
    "    magnitude = np.abs(fft_values)  # Get magnitude spectrum\n",
    "    freq = np.fft.fftfreq(len(audio_signal), d=1/sample_rate)  # Frequency axis\n",
    "\n",
    "    # Keep only the positive frequencies (since this is real valued data)\n",
    "    half_idx = len(freq) // 2\n",
    "    freq = freq[:half_idx:step_size] # adding these steps \n",
    "    magnitude = magnitude[:half_idx:step_size]\n",
    "\n",
    "    # Plot\n",
    "    plt.figure(figsize=(10, 5))\n",
    "    plt.plot(freq, magnitude)\n",
    "    plt.xlabel(\"Frequency (Hz)\")\n",
    "    plt.ylabel(\"Magnitude\")\n",
    "    plt.title(title)\n",
    "    plt.grid()\n",
    "    plt.show()"
   ]
  },
  {
   "cell_type": "code",
   "execution_count": 38,
   "metadata": {},
   "outputs": [],
   "source": [
    "# huge Q at this point. What gets resampled to what frequency? \n",
    "# # i suppose we are strictly interested in low-ish frequency noise (everything else\n",
    "# ... would get nuked. )"
   ]
  },
  {
   "cell_type": "code",
   "execution_count": 39,
   "metadata": {},
   "outputs": [
    {
     "name": "stdout",
     "output_type": "stream",
     "text": [
      "Original shape: (278959,), Filtered shape: (278959,), Resampled shape: (12652,)\n"
     ]
    },
    {
     "data": {
      "image/png": "[encoded data removed]",
      "text/plain": [
       "<Figure size 1000x500 with 1 Axes>"
      ]
     },
     "metadata": {},
     "output_type": "display_data"
    },
    {
     "data": {
      "image/png": "[encoded data removed]",
      "text/plain": [
       "<Figure size 1000x500 with 1 Axes>"
      ]
     },
     "metadata": {},
     "output_type": "display_data"
    },
    {
     "data": {
      "image/png": "[encoded data removed]",
      "text/plain": [
       "<Figure size 1000x500 with 1 Axes>"
      ]
     },
     "metadata": {},
     "output_type": "display_data"
    },
    {
     "name": "stdout",
     "output_type": "stream",
     "text": [
      "/Users/donu/Desktop/S25/ELEC 594/datasets/ARCA23K_audio/407722.wav\n"
     ]
    }
   ],
   "source": [
    "# Test \n",
    "cutoff_freq = 500\n",
    "target_freq = cutoff_freq * 2\n",
    "\n",
    "for wav in list_of_wavs:\n",
    "    path_to_wav = arcawavs_path + str(wav) + '.wav'\n",
    "    audiodata, sr = librosa.load(path_to_wav)\n",
    "\n",
    "    # Apply low-pass filter\n",
    "    audio_data_new = lowpass_filter(audiodata, sr, cutoff_freq)\n",
    "\n",
    "    # Resample the filtered signal\n",
    "    new = librosa.resample(audio_data_new, orig_sr=sr, target_sr=target_freq)\n",
    "\n",
    "    # Debugging info\n",
    "    print(f\"Original shape: {audiodata.shape}, Filtered shape: {audio_data_new.shape}, Resampled shape: {new.shape}\")\n",
    "\n",
    "    # Plot frequency content at each step\n",
    "    plot_fourier_spectrum(audiodata, sr,step_size=50)  # Original\n",
    "    plot_fourier_spectrum(audio_data_new, sr,step_size=50)  # After filtering\n",
    "    plot_fourier_spectrum(new, target_freq,step_size=10)  # After resampling\n",
    "\n",
    "    print(path_to_wav)\n",
    "    break  # Stops after first file (as intended)\n"
   ]
  },
  {
   "cell_type": "code",
   "execution_count": 40,
   "metadata": {},
   "outputs": [],
   "source": [
    "def load_from_filepath(filepath):\n",
    "    \"\"\"\n",
    "    Load an audio file from a given file path and return the audio data and sample rate.\n",
    "    \"\"\"\n",
    "    audio_data, sample_rate = librosa.load(filepath)\n",
    "    return audio_data, sample_rate"
   ]
  },
  {
   "cell_type": "code",
   "execution_count": 41,
   "metadata": {},
   "outputs": [],
   "source": [
    "def downsample(audiodata, sr, target_freq):\n",
    "  \"\"\"\n",
    "  Given a filepath for a wav, downsamples the audio to a target frequency\n",
    "  (applies an LPF beforehand accordingly)\n",
    "  \"\"\"\n",
    "  audio_data_new = lowpass_filter(audiodata, sr, target_freq//2)\n",
    "  new = librosa.resample(audio_data_new, orig_sr=sr, target_sr=target_freq)\n",
    "  return new"
   ]
  },
  {
   "cell_type": "code",
   "execution_count": 42,
   "metadata": {},
   "outputs": [],
   "source": [
    "for wav in list_of_wavs:\n",
    "  path_to_wav = arcawavs_path + str(wav) + '.wav'\n",
    "  arca_data, arca_sr = load_from_filepath(path_to_wav)\n",
    "  downsample(arca_data, arca_sr, 2000)"
   ]
  },
  {
   "cell_type": "markdown",
   "metadata": {},
   "source": [
    "#### Comments\n",
    "- I think a good enough idea is to LPF everything at 1kHz, then resample to 2kHz "
   ]
  },
  {
   "cell_type": "markdown",
   "metadata": {},
   "source": [
    "## 3 - Add noise to the recordings"
   ]
  },
  {
   "cell_type": "code",
   "execution_count": 43,
   "metadata": {},
   "outputs": [],
   "source": [
    "def get_random_noise_path():\n",
    "  random_wav = random.choice(list_of_wavs)\n",
    "  label = noise_data[noise_data['fname'] == random_wav]['label'].values[0]\n",
    "  print(f'ARCA23K file: {random_wav}. Noise Type: {label}')\n",
    "  # !impt: there seems to be an enormous rate of mislabelling. terrible dset...\n",
    "  return arcawavs_path + str(random_wav) + '.wav'"
   ]
  },
  {
   "cell_type": "code",
   "execution_count": 44,
   "metadata": {},
   "outputs": [],
   "source": [
    "def get_n_random_noise_paths_arca(n):\n",
    "  return [arcawavs_path + str(x) + '.wav' for x in random.sample(list_of_wavs, n)]"
   ]
  },
  {
   "cell_type": "code",
   "execution_count": 45,
   "metadata": {},
   "outputs": [],
   "source": [
    "def get_n_random_noise_paths_han(n):\n",
    "  return [han_raw_path + x for x in random.sample(os.listdir(han_raw_path), n)]"
   ]
  },
  {
   "cell_type": "code",
   "execution_count": 46,
   "metadata": {},
   "outputs": [
    {
     "data": {
      "text/plain": [
       "['/Users/donu/Desktop/S25/ELEC 594/datasets/ARCA23K_audio/107741.wav',\n",
       " '/Users/donu/Desktop/S25/ELEC 594/datasets/ARCA23K_audio/503749.wav',\n",
       " '/Users/donu/Desktop/S25/ELEC 594/datasets/ARCA23K_audio/551104.wav',\n",
       " '/Users/donu/Desktop/S25/ELEC 594/datasets/ARCA23K_audio/207195.wav',\n",
       " '/Users/donu/Desktop/S25/ELEC 594/datasets/ARCA23K_audio/445921.wav']"
      ]
     },
     "execution_count": 46,
     "metadata": {},
     "output_type": "execute_result"
    }
   ],
   "source": [
    "get_n_random_noise_paths_arca(5)"
   ]
  },
  {
   "cell_type": "code",
   "execution_count": 47,
   "metadata": {},
   "outputs": [
    {
     "data": {
      "text/plain": [
       "['/Users/donu/Desktop/S25/ELEC 594/datasets/hospital-noise-original/seg_66.wav',\n",
       " '/Users/donu/Desktop/S25/ELEC 594/datasets/hospital-noise-original/seg_432.wav',\n",
       " '/Users/donu/Desktop/S25/ELEC 594/datasets/hospital-noise-original/seg_543.wav',\n",
       " '/Users/donu/Desktop/S25/ELEC 594/datasets/hospital-noise-original/seg_400.wav',\n",
       " '/Users/donu/Desktop/S25/ELEC 594/datasets/hospital-noise-original/seg_324.wav']"
      ]
     },
     "execution_count": 47,
     "metadata": {},
     "output_type": "execute_result"
    }
   ],
   "source": [
    "get_n_random_noise_paths_han(5)"
   ]
  },
  {
   "cell_type": "code",
   "execution_count": 48,
   "metadata": {},
   "outputs": [
    {
     "data": {
      "application/vnd.microsoft.datawrangler.viewer.v0+json": {
       "columns": [
        {
         "name": "index",
         "rawType": "int64",
         "type": "integer"
        },
        {
         "name": "fname",
         "rawType": "int64",
         "type": "integer"
        },
        {
         "name": "label",
         "rawType": "object",
         "type": "string"
        },
        {
         "name": "mid",
         "rawType": "object",
         "type": "string"
        }
       ],
       "conversionMethod": "pd.DataFrame",
       "ref": "0f9f6893-2a7e-4850-b686-9904f6f9dc18",
       "rows": [
        [
         "0",
         "507",
         "Acoustic_guitar",
         "/m/042v_gx"
        ],
        [
         "1",
         "251090",
         "Acoustic_guitar",
         "/m/042v_gx"
        ],
        [
         "2",
         "161470",
         "Acoustic_guitar",
         "/m/042v_gx"
        ],
        [
         "3",
         "18489",
         "Acoustic_guitar",
         "/m/042v_gx"
        ],
        [
         "4",
         "251185",
         "Acoustic_guitar",
         "/m/042v_gx"
        ],
        [
         "5",
         "8465",
         "Acoustic_guitar",
         "/m/042v_gx"
        ],
        [
         "6",
         "329337",
         "Acoustic_guitar",
         "/m/042v_gx"
        ],
        [
         "7",
         "59683",
         "Acoustic_guitar",
         "/m/042v_gx"
        ],
        [
         "8",
         "528640",
         "Acoustic_guitar",
         "/m/042v_gx"
        ],
        [
         "9",
         "47845",
         "Acoustic_guitar",
         "/m/042v_gx"
        ],
        [
         "10",
         "251138",
         "Acoustic_guitar",
         "/m/042v_gx"
        ],
        [
         "11",
         "171350",
         "Acoustic_guitar",
         "/m/042v_gx"
        ],
        [
         "12",
         "15019",
         "Acoustic_guitar",
         "/m/042v_gx"
        ],
        [
         "13",
         "173040",
         "Acoustic_guitar",
         "/m/042v_gx"
        ],
        [
         "14",
         "149280",
         "Acoustic_guitar",
         "/m/042v_gx"
        ],
        [
         "15",
         "23731",
         "Acoustic_guitar",
         "/m/042v_gx"
        ],
        [
         "16",
         "222401",
         "Acoustic_guitar",
         "/m/042v_gx"
        ],
        [
         "17",
         "542283",
         "Acoustic_guitar",
         "/m/042v_gx"
        ],
        [
         "18",
         "8578",
         "Acoustic_guitar",
         "/m/042v_gx"
        ],
        [
         "19",
         "70790",
         "Acoustic_guitar",
         "/m/042v_gx"
        ],
        [
         "20",
         "90066",
         "Acoustic_guitar",
         "/m/042v_gx"
        ],
        [
         "21",
         "171291",
         "Acoustic_guitar",
         "/m/042v_gx"
        ],
        [
         "22",
         "173037",
         "Acoustic_guitar",
         "/m/042v_gx"
        ],
        [
         "23",
         "345271",
         "Acoustic_guitar",
         "/m/042v_gx"
        ],
        [
         "24",
         "467660",
         "Acoustic_guitar",
         "/m/042v_gx"
        ],
        [
         "25",
         "30412",
         "Acoustic_guitar",
         "/m/042v_gx"
        ],
        [
         "26",
         "344084",
         "Acoustic_guitar",
         "/m/042v_gx"
        ],
        [
         "27",
         "14333",
         "Acoustic_guitar",
         "/m/042v_gx"
        ],
        [
         "28",
         "165553",
         "Acoustic_guitar",
         "/m/042v_gx"
        ],
        [
         "29",
         "216554",
         "Acoustic_guitar",
         "/m/042v_gx"
        ],
        [
         "30",
         "29382",
         "Acoustic_guitar",
         "/m/042v_gx"
        ],
        [
         "31",
         "425303",
         "Acoustic_guitar",
         "/m/042v_gx"
        ],
        [
         "32",
         "529644",
         "Acoustic_guitar",
         "/m/042v_gx"
        ],
        [
         "33",
         "175197",
         "Acoustic_guitar",
         "/m/042v_gx"
        ],
        [
         "34",
         "30969",
         "Acoustic_guitar",
         "/m/042v_gx"
        ],
        [
         "35",
         "743",
         "Acoustic_guitar",
         "/m/042v_gx"
        ],
        [
         "36",
         "168289",
         "Acoustic_guitar",
         "/m/042v_gx"
        ],
        [
         "37",
         "270942",
         "Acoustic_guitar",
         "/m/042v_gx"
        ],
        [
         "38",
         "353491",
         "Acoustic_guitar",
         "/m/042v_gx"
        ],
        [
         "39",
         "506315",
         "Acoustic_guitar",
         "/m/042v_gx"
        ],
        [
         "40",
         "42375",
         "Acoustic_guitar",
         "/m/042v_gx"
        ],
        [
         "41",
         "69797",
         "Acoustic_guitar",
         "/m/042v_gx"
        ],
        [
         "42",
         "207642",
         "Acoustic_guitar",
         "/m/042v_gx"
        ],
        [
         "43",
         "181518",
         "Acoustic_guitar",
         "/m/042v_gx"
        ],
        [
         "44",
         "246280",
         "Acoustic_guitar",
         "/m/042v_gx"
        ],
        [
         "45",
         "556349",
         "Acoustic_guitar",
         "/m/042v_gx"
        ],
        [
         "46",
         "85203",
         "Acoustic_guitar",
         "/m/042v_gx"
        ],
        [
         "47",
         "7731",
         "Acoustic_guitar",
         "/m/042v_gx"
        ],
        [
         "48",
         "46508",
         "Acoustic_guitar",
         "/m/042v_gx"
        ],
        [
         "49",
         "72557",
         "Acoustic_guitar",
         "/m/042v_gx"
        ]
       ],
       "shape": {
        "columns": 3,
        "rows": 17979
       }
      },
      "text/html": [
       "<div>\n",
       "<style scoped>\n",
       "    .dataframe tbody tr th:only-of-type {\n",
       "        vertical-align: middle;\n",
       "    }\n",
       "\n",
       "    .dataframe tbody tr th {\n",
       "        vertical-align: top;\n",
       "    }\n",
       "\n",
       "    .dataframe thead th {\n",
       "        text-align: right;\n",
       "    }\n",
       "</style>\n",
       "<table border=\"1\" class=\"dataframe\">\n",
       "  <thead>\n",
       "    <tr style=\"text-align: right;\">\n",
       "      <th></th>\n",
       "      <th>fname</th>\n",
       "      <th>label</th>\n",
       "      <th>mid</th>\n",
       "    </tr>\n",
       "  </thead>\n",
       "  <tbody>\n",
       "    <tr>\n",
       "      <th>0</th>\n",
       "      <td>507</td>\n",
       "      <td>Acoustic_guitar</td>\n",
       "      <td>/m/042v_gx</td>\n",
       "    </tr>\n",
       "    <tr>\n",
       "      <th>1</th>\n",
       "      <td>251090</td>\n",
       "      <td>Acoustic_guitar</td>\n",
       "      <td>/m/042v_gx</td>\n",
       "    </tr>\n",
       "    <tr>\n",
       "      <th>2</th>\n",
       "      <td>161470</td>\n",
       "      <td>Acoustic_guitar</td>\n",
       "      <td>/m/042v_gx</td>\n",
       "    </tr>\n",
       "    <tr>\n",
       "      <th>3</th>\n",
       "      <td>18489</td>\n",
       "      <td>Acoustic_guitar</td>\n",
       "      <td>/m/042v_gx</td>\n",
       "    </tr>\n",
       "    <tr>\n",
       "      <th>4</th>\n",
       "      <td>251185</td>\n",
       "      <td>Acoustic_guitar</td>\n",
       "      <td>/m/042v_gx</td>\n",
       "    </tr>\n",
       "    <tr>\n",
       "      <th>...</th>\n",
       "      <td>...</td>\n",
       "      <td>...</td>\n",
       "      <td>...</td>\n",
       "    </tr>\n",
       "    <tr>\n",
       "      <th>17974</th>\n",
       "      <td>463104</td>\n",
       "      <td>Zipper_(clothing)</td>\n",
       "      <td>/m/01s0vc</td>\n",
       "    </tr>\n",
       "    <tr>\n",
       "      <th>17975</th>\n",
       "      <td>575516</td>\n",
       "      <td>Zipper_(clothing)</td>\n",
       "      <td>/m/01s0vc</td>\n",
       "    </tr>\n",
       "    <tr>\n",
       "      <th>17976</th>\n",
       "      <td>403656</td>\n",
       "      <td>Zipper_(clothing)</td>\n",
       "      <td>/m/01s0vc</td>\n",
       "    </tr>\n",
       "    <tr>\n",
       "      <th>17977</th>\n",
       "      <td>562333</td>\n",
       "      <td>Zipper_(clothing)</td>\n",
       "      <td>/m/01s0vc</td>\n",
       "    </tr>\n",
       "    <tr>\n",
       "      <th>17978</th>\n",
       "      <td>217938</td>\n",
       "      <td>Zipper_(clothing)</td>\n",
       "      <td>/m/01s0vc</td>\n",
       "    </tr>\n",
       "  </tbody>\n",
       "</table>\n",
       "<p>17979 rows × 3 columns</p>\n",
       "</div>"
      ],
      "text/plain": [
       "        fname              label         mid\n",
       "0         507    Acoustic_guitar  /m/042v_gx\n",
       "1      251090    Acoustic_guitar  /m/042v_gx\n",
       "2      161470    Acoustic_guitar  /m/042v_gx\n",
       "3       18489    Acoustic_guitar  /m/042v_gx\n",
       "4      251185    Acoustic_guitar  /m/042v_gx\n",
       "...       ...                ...         ...\n",
       "17974  463104  Zipper_(clothing)   /m/01s0vc\n",
       "17975  575516  Zipper_(clothing)   /m/01s0vc\n",
       "17976  403656  Zipper_(clothing)   /m/01s0vc\n",
       "17977  562333  Zipper_(clothing)   /m/01s0vc\n",
       "17978  217938  Zipper_(clothing)   /m/01s0vc\n",
       "\n",
       "[17979 rows x 3 columns]"
      ]
     },
     "execution_count": 48,
     "metadata": {},
     "output_type": "execute_result"
    }
   ],
   "source": [
    "noise_data"
   ]
  },
  {
   "cell_type": "code",
   "execution_count": 49,
   "metadata": {},
   "outputs": [
    {
     "name": "stdout",
     "output_type": "stream",
     "text": [
      "ARCA23K file: 269477. Noise Type: Female_speech_and_woman_speaking\n"
     ]
    },
    {
     "data": {
      "text/plain": [
       "'/Users/donu/Desktop/S25/ELEC 594/datasets/ARCA23K_audio/269477.wav'"
      ]
     },
     "execution_count": 49,
     "metadata": {},
     "output_type": "execute_result"
    }
   ],
   "source": [
    "get_random_noise_path() # this does get a random noise"
   ]
  },
  {
   "cell_type": "code",
   "execution_count": 50,
   "metadata": {},
   "outputs": [],
   "source": [
    "def match_signal_and_noise_lengths(signal, noise):\n",
    "  \"\"\"\n",
    "  Given a signal and noise, makes the noise the same length as signal\n",
    "  through duplicating, then truncating\n",
    "  - truncating the noise\n",
    "  \"\"\"\n",
    "  signal_len = len(signal)\n",
    "  noise_len = len(noise)\n",
    "  \n",
    "  if signal_len > noise_len:\n",
    "    # Repeat the noise to match the signal length\n",
    "    noise = np.tile(noise, signal_len // noise_len + 1)\n",
    "  noise = noise[:signal_len]\n",
    "  return noise"
   ]
  },
  {
   "cell_type": "code",
   "execution_count": 51,
   "metadata": {},
   "outputs": [
    {
     "data": {
      "text/plain": [
       "array([1, 2, 3, 1, 2, 3, 1])"
      ]
     },
     "execution_count": 51,
     "metadata": {},
     "output_type": "execute_result"
    }
   ],
   "source": [
    "match_signal_and_noise_lengths(np.array([1,2,3,4,5,6,7]),np.array([1,2,3]))"
   ]
  },
  {
   "cell_type": "code",
   "execution_count": 52,
   "metadata": {},
   "outputs": [
    {
     "data": {
      "text/plain": [
       "array([3, 2])"
      ]
     },
     "execution_count": 52,
     "metadata": {},
     "output_type": "execute_result"
    }
   ],
   "source": [
    "match_signal_and_noise_lengths(np.array([1,2]),np.array([3,2,1]))"
   ]
  },
  {
   "cell_type": "code",
   "execution_count": 53,
   "metadata": {},
   "outputs": [],
   "source": [
    "def create_composite_at_snr(signal,noise, snr_db):\n",
    "  \"\"\"\n",
    "  Function to combile two audio arrays, one signal one noise, at a given SNR\n",
    "  \n",
    "  SNR is in dB\n",
    "  \"\"\"\n",
    "  signal_power = np.sum(signal**2)\n",
    "  noise_power = np.sum(noise**2)\n",
    "  if np.round(noise_power,3) == 0:\n",
    "    print('Noise power is 0. Returning signal only')\n",
    "    return signal\n",
    "  ratio = np.sqrt((signal_power / noise_power) / (10 ** (snr_db / 10)))\n",
    "  noise *= ratio\n",
    "  return signal + noise"
   ]
  },
  {
   "cell_type": "code",
   "execution_count": 54,
   "metadata": {},
   "outputs": [],
   "source": [
    "def create_composite(pcg_raw, pcg_sr, noise_raw, noise_sr, target_freq, snr):\n",
    "  \"\"\"\n",
    "  A top-level function that combines the above functions to create a composite sound.\n",
    "  \n",
    "  Given a PCG filepath and a noise filepath, creates a composite sound by adding the two together.\n",
    "  Both files are downsampled to the target frequency.\n",
    "  \n",
    "  \n",
    "  Inputs:\n",
    "  - pcg_filepath\n",
    "  - noise_filepath\n",
    "  - target_freq: the frequency to downsample the pcg data and noise data to\n",
    "  - snr: desired SNR in dB of the combined sounds\n",
    "  \n",
    "  Returns the (downsampled) ground truth PCG data and the composite sound\n",
    "  \"\"\"\n",
    "  pcg = downsample(pcg_raw, pcg_sr, target_freq) # downsample the PCG data\n",
    "  noise = downsample(noise_raw, noise_sr, target_freq)\n",
    "  noise = match_signal_and_noise_lengths(pcg, noise) # they are now the same size\n",
    "  composite = create_composite_at_snr(pcg, noise, snr) # combine the two\n",
    "  composite = normalize_pm_1(composite, np.max(composite), np.min(composite)) # normalize. I think this is good...\n",
    "  \n",
    "  return pcg, composite #composite"
   ]
  },
  {
   "cell_type": "code",
   "execution_count": 55,
   "metadata": {},
   "outputs": [
    {
     "name": "stdout",
     "output_type": "stream",
     "text": [
      "ARCA23K file: 56759. Noise Type: Cough\n"
     ]
    },
    {
     "data": {
      "image/png": "[encoded data removed]",
      "text/plain": [
       "<Figure size 1000x500 with 1 Axes>"
      ]
     },
     "metadata": {},
     "output_type": "display_data"
    },
    {
     "data": {
      "image/png": "[encoded data removed]",
      "text/plain": [
       "<Figure size 1000x500 with 1 Axes>"
      ]
     },
     "metadata": {},
     "output_type": "display_data"
    },
    {
     "data": {
      "image/png": "[encoded data removed]",
      "text/plain": [
       "<Figure size 1000x800 with 2 Axes>"
      ]
     },
     "metadata": {},
     "output_type": "display_data"
    }
   ],
   "source": [
    "# proof of concept: see the spectrum of a clean PCG and a composite sound\n",
    "target_freq = 2000 # downsample to this\n",
    "snr_db = 3\n",
    "for clean_pcg in pcg_data['fname']:\n",
    "  if not clean_pcg.endswith('.wav'): # avoid .DS_Store among other things\n",
    "    continue\n",
    "  pcg_filepath = pascal_dset_path + clean_pcg\n",
    "  random_noise = get_random_noise_path()\n",
    "  \n",
    "  pcg_raw, pcg_sr = load_from_filepath(pcg_filepath)\n",
    "  noise_raw, noise_sr = load_from_filepath(random_noise)\n",
    "  \n",
    "  clean, composite = create_composite(pcg_raw, pcg_sr, noise_raw, noise_sr, target_freq,snr_db)\n",
    "  # here is where el magico happenso. \n",
    "  # look at all the functions you wrote and find a use for them \n",
    "  # # e.g. downsample_from_filepath\n",
    "  \n",
    "  clean -= np.mean(clean) # DC components shouldn't be useful...?\n",
    "  composite -= np.mean(composite)\n",
    "  # now visualize. in frequency:\n",
    "  plot_fourier_spectrum(clean,target_freq,step_size=10,title = 'Clean PCG Spectrum')\n",
    "  plot_fourier_spectrum(composite,target_freq,step_size=10,title = 'Noisy PCG Spectrum')\n",
    "  # in time\n",
    "  fig, ax = plt.subplots(nrows=2, sharex=True, figsize=(10, 8))\n",
    "  ax[0].set(title='Clean PCG')\n",
    "  ax[1].set(title='PCG+Noise')\n",
    "  librosa.display.waveshow(clean,sr=target_freq,ax=ax[0])\n",
    "  librosa.display.waveshow(composite,sr=target_freq,ax=ax[1])\n",
    "  break\n",
    "\n",
    "  \n"
   ]
  },
  {
   "cell_type": "code",
   "execution_count": 56,
   "metadata": {},
   "outputs": [],
   "source": [
    "#!impt: so, there is often a huge DC component introduced. i am not sure why this is.\n",
    "# perhaps the NN will learn to discard it, which would be fine. \n",
    "# but, it's also a pretty simple thing to discard\n",
    "\n",
    "# for now i'll get rid of it, but i have some reservations here...\n",
    "\n",
    "# !impt: this is a pretty naive mechanism of adding noise to the PCG data. if the PCG\n",
    "# ... is (blessedly) long, then the noise will only occupy a small part of it."
   ]
  },
  {
   "cell_type": "markdown",
   "metadata": {},
   "source": [
    "## 4 - Making the STFT features"
   ]
  },
  {
   "cell_type": "code",
   "execution_count": 57,
   "metadata": {},
   "outputs": [],
   "source": [
    "from scipy.signal import ShortTimeFFT"
   ]
  },
  {
   "cell_type": "code",
   "execution_count": 58,
   "metadata": {},
   "outputs": [],
   "source": [
    "#ShortTimeFFT()\n",
    "nperseg = 1024\n",
    "hann = signal.windows.hann(nperseg)"
   ]
  },
  {
   "cell_type": "code",
   "execution_count": 59,
   "metadata": {},
   "outputs": [],
   "source": [
    "SFT = ShortTimeFFT(hann, hop=nperseg//4, fs = target_freq)"
   ]
  },
  {
   "cell_type": "markdown",
   "metadata": {},
   "source": [
    "### 4.a - Creating Inputs and outputs for the model"
   ]
  },
  {
   "cell_type": "code",
   "execution_count": 60,
   "metadata": {},
   "outputs": [
    {
     "name": "stdout",
     "output_type": "stream",
     "text": [
      "ARCA23K file: 566453. Noise Type: Crack\n",
      "ARCA23K file: 558302. Noise Type: Child_speech_and_kid_speaking\n",
      "ARCA23K file: 42940. Noise Type: Squeak\n",
      "ARCA23K file: 504050. Noise Type: Walk_and_footsteps\n",
      "Noise power is 0. Returning signal only\n",
      "ARCA23K file: 255694. Noise Type: Squeak\n",
      "ARCA23K file: 109837. Noise Type: Female_speech_and_woman_speaking\n",
      "ARCA23K file: 86397. Noise Type: Female_speech_and_woman_speaking\n",
      "ARCA23K file: 241490. Noise Type: Female_speech_and_woman_speaking\n",
      "ARCA23K file: 504065. Noise Type: Walk_and_footsteps\n",
      "ARCA23K file: 67626. Noise Type: Male_speech_and_man_speaking\n",
      "ARCA23K file: 337615. Noise Type: Male_speech_and_man_speaking\n",
      "ARCA23K file: 469056. Noise Type: Crumpling_and_crinkling\n",
      "ARCA23K file: 447523. Noise Type: Male_speech_and_man_speaking\n",
      "ARCA23K file: 562086. Noise Type: Crumpling_and_crinkling\n",
      "ARCA23K file: 6545. Noise Type: Rattle\n",
      "ARCA23K file: 565780. Noise Type: Female_speech_and_woman_speaking\n",
      "ARCA23K file: 454829. Noise Type: Male_speech_and_man_speaking\n",
      "ARCA23K file: 264729. Noise Type: Walk_and_footsteps\n",
      "ARCA23K file: 421137. Noise Type: Walk_and_footsteps\n",
      "ARCA23K file: 575731. Noise Type: Male_speech_and_man_speaking\n",
      "ARCA23K file: 539278. Noise Type: Female_speech_and_woman_speaking\n",
      "ARCA23K file: 99881. Noise Type: Female_speech_and_woman_speaking\n",
      "ARCA23K file: 559735. Noise Type: Female_speech_and_woman_speaking\n",
      "ARCA23K file: 239367. Noise Type: Rattle\n",
      "Noise power is 0. Returning signal only\n",
      "ARCA23K file: 235556. Noise Type: Crumpling_and_crinkling\n",
      "ARCA23K file: 107461. Noise Type: Rattle\n",
      "ARCA23K file: 214888. Noise Type: Squeak\n",
      "ARCA23K file: 558291. Noise Type: Child_speech_and_kid_speaking\n",
      "ARCA23K file: 455152. Noise Type: Male_speech_and_man_speaking\n",
      "ARCA23K file: 574718. Noise Type: Squeak\n",
      "ARCA23K file: 400717. Noise Type: Male_speech_and_man_speaking\n",
      "ARCA23K file: 504235. Noise Type: Walk_and_footsteps\n",
      "ARCA23K file: 571999. Noise Type: Female_speech_and_woman_speaking\n",
      "ARCA23K file: 96544. Noise Type: Female_speech_and_woman_speaking\n",
      "ARCA23K file: 108417. Noise Type: Female_speech_and_woman_speaking\n",
      "ARCA23K file: 96544. Noise Type: Female_speech_and_woman_speaking\n",
      "ARCA23K file: 107536. Noise Type: Female_speech_and_woman_speaking\n",
      "ARCA23K file: 445042. Noise Type: Crack\n",
      "Noise power is 0. Returning signal only\n",
      "ARCA23K file: 371400. Noise Type: Male_speech_and_man_speaking\n",
      "ARCA23K file: 458372. Noise Type: Crumpling_and_crinkling\n",
      "ARCA23K file: 150213. Noise Type: Male_speech_and_man_speaking\n",
      "ARCA23K file: 503893. Noise Type: Walk_and_footsteps\n",
      "Noise power is 0. Returning signal only\n",
      "ARCA23K file: 3177. Noise Type: Squeak\n",
      "ARCA23K file: 116669. Noise Type: Male_speech_and_man_speaking\n",
      "ARCA23K file: 320258. Noise Type: Male_speech_and_man_speaking\n",
      "Noise power is 0. Returning signal only\n",
      "ARCA23K file: 190803. Noise Type: Squeak\n",
      "ARCA23K file: 475857. Noise Type: Walk_and_footsteps\n",
      "ARCA23K file: 106081. Noise Type: Walk_and_footsteps\n",
      "ARCA23K file: 6951. Noise Type: Rattle\n",
      "ARCA23K file: 566934. Noise Type: Cough\n",
      "ARCA23K file: 491399. Noise Type: Cough\n",
      "ARCA23K file: 519374. Noise Type: Female_speech_and_woman_speaking\n",
      "ARCA23K file: 6951. Noise Type: Rattle\n",
      "ARCA23K file: 468088. Noise Type: Female_speech_and_woman_speaking\n",
      "ARCA23K file: 164502. Noise Type: Walk_and_footsteps\n",
      "ARCA23K file: 214888. Noise Type: Squeak\n",
      "ARCA23K file: 83484. Noise Type: Female_speech_and_woman_speaking\n",
      "ARCA23K file: 124836. Noise Type: Male_speech_and_man_speaking\n",
      "ARCA23K file: 561355. Noise Type: Cough\n",
      "ARCA23K file: 276046. Noise Type: Cough\n",
      "ARCA23K file: 445479. Noise Type: Cough\n",
      "ARCA23K file: 193684. Noise Type: Male_speech_and_man_speaking\n",
      "ARCA23K file: 184600. Noise Type: Cough\n",
      "ARCA23K file: 241490. Noise Type: Female_speech_and_woman_speaking\n",
      "ARCA23K file: 252712. Noise Type: Male_speech_and_man_speaking\n",
      "ARCA23K file: 377014. Noise Type: Crack\n",
      "ARCA23K file: 7989. Noise Type: Crack\n",
      "ARCA23K file: 169813. Noise Type: Cough\n",
      "ARCA23K file: 50506. Noise Type: Squeak\n",
      "ARCA23K file: 318638. Noise Type: Cough\n",
      "ARCA23K file: 89315. Noise Type: Female_speech_and_woman_speaking\n",
      "ARCA23K file: 531475. Noise Type: Child_speech_and_kid_speaking\n",
      "ARCA23K file: 443443. Noise Type: Male_speech_and_man_speaking\n",
      "ARCA23K file: 143982. Noise Type: Squeak\n",
      "ARCA23K file: 464690. Noise Type: Walk_and_footsteps\n",
      "ARCA23K file: 492798. Noise Type: Squeak\n",
      "ARCA23K file: 524836. Noise Type: Cough\n",
      "ARCA23K file: 57454. Noise Type: Squeak\n",
      "ARCA23K file: 6545. Noise Type: Rattle\n",
      "ARCA23K file: 376293. Noise Type: Child_speech_and_kid_speaking\n",
      "ARCA23K file: 195021. Noise Type: Walk_and_footsteps\n",
      "ARCA23K file: 94326. Noise Type: Walk_and_footsteps\n",
      "ARCA23K file: 530127. Noise Type: Cough\n",
      "ARCA23K file: 205965. Noise Type: Female_speech_and_woman_speaking\n",
      "ARCA23K file: 112556. Noise Type: Female_speech_and_woman_speaking\n",
      "ARCA23K file: 352397. Noise Type: Cough\n",
      "ARCA23K file: 378135. Noise Type: Walk_and_footsteps\n",
      "ARCA23K file: 323697. Noise Type: Cough\n",
      "ARCA23K file: 6951. Noise Type: Rattle\n",
      "ARCA23K file: 104747. Noise Type: Female_speech_and_woman_speaking\n",
      "ARCA23K file: 542705. Noise Type: Squeak\n",
      "ARCA23K file: 473867. Noise Type: Cough\n",
      "ARCA23K file: 262945. Noise Type: Male_speech_and_man_speaking\n",
      "ARCA23K file: 362507. Noise Type: Male_speech_and_man_speaking\n",
      "ARCA23K file: 431981. Noise Type: Child_speech_and_kid_speaking\n",
      "ARCA23K file: 484026. Noise Type: Cough\n",
      "ARCA23K file: 444064. Noise Type: Cough\n",
      "ARCA23K file: 562086. Noise Type: Crumpling_and_crinkling\n",
      "ARCA23K file: 458375. Noise Type: Crumpling_and_crinkling\n",
      "ARCA23K file: 207195. Noise Type: Walk_and_footsteps\n",
      "ARCA23K file: 246359. Noise Type: Female_speech_and_woman_speaking\n",
      "ARCA23K file: 404426. Noise Type: Male_speech_and_man_speaking\n",
      "ARCA23K file: 377813. Noise Type: Crack\n",
      "ARCA23K file: 504114. Noise Type: Walk_and_footsteps\n",
      "ARCA23K file: 84458. Noise Type: Squeak\n",
      "ARCA23K file: 493050. Noise Type: Crumpling_and_crinkling\n",
      "ARCA23K file: 446511. Noise Type: Rattle\n",
      "ARCA23K file: 447932. Noise Type: Crumpling_and_crinkling\n",
      "ARCA23K file: 114418. Noise Type: Child_speech_and_kid_speaking\n",
      "ARCA23K file: 68829. Noise Type: Rattle\n",
      "ARCA23K file: 109402. Noise Type: Male_speech_and_man_speaking\n",
      "ARCA23K file: 362507. Noise Type: Male_speech_and_man_speaking\n",
      "ARCA23K file: 559703. Noise Type: Crumpling_and_crinkling\n",
      "ARCA23K file: 577320. Noise Type: Squeak\n",
      "ARCA23K file: 966. Noise Type: Squeak\n",
      "ARCA23K file: 264158. Noise Type: Squeak\n",
      "ARCA23K file: 175941. Noise Type: Squeak\n",
      "ARCA23K file: 352397. Noise Type: Cough\n",
      "ARCA23K file: 238500. Noise Type: Female_speech_and_woman_speaking\n",
      "ARCA23K file: 57510. Noise Type: Squeak\n",
      "ARCA23K file: 316432. Noise Type: Male_speech_and_man_speaking\n",
      "ARCA23K file: 558556. Noise Type: Male_speech_and_man_speaking\n",
      "ARCA23K file: 86390. Noise Type: Female_speech_and_woman_speaking\n",
      "ARCA23K file: 81921. Noise Type: Female_speech_and_woman_speaking\n",
      "ARCA23K file: 428418. Noise Type: Male_speech_and_man_speaking\n",
      "ARCA23K file: 108421. Noise Type: Crumpling_and_crinkling\n",
      "ARCA23K file: 50506. Noise Type: Squeak\n",
      "ARCA23K file: 421137. Noise Type: Walk_and_footsteps\n",
      "ARCA23K file: 438477. Noise Type: Rattle\n",
      "ARCA23K file: 534528. Noise Type: Squeak\n",
      "ARCA23K file: 553389. Noise Type: Male_speech_and_man_speaking\n",
      "ARCA23K file: 554229. Noise Type: Cough\n",
      "ARCA23K file: 26153. Noise Type: Squeak\n",
      "ARCA23K file: 316332. Noise Type: Male_speech_and_man_speaking\n",
      "ARCA23K file: 177193. Noise Type: Squeak\n",
      "ARCA23K file: 535932. Noise Type: Female_speech_and_woman_speaking\n",
      "ARCA23K file: 327140. Noise Type: Male_speech_and_man_speaking\n",
      "ARCA23K file: 568673. Noise Type: Male_speech_and_man_speaking\n",
      "ARCA23K file: 520329. Noise Type: Male_speech_and_man_speaking\n",
      "ARCA23K file: 124433. Noise Type: Squeak\n",
      "ARCA23K file: 492798. Noise Type: Squeak\n",
      "ARCA23K file: 443387. Noise Type: Walk_and_footsteps\n",
      "ARCA23K file: 403645. Noise Type: Crack\n",
      "ARCA23K file: 519529. Noise Type: Male_speech_and_man_speaking\n",
      "ARCA23K file: 566933. Noise Type: Cough\n",
      "ARCA23K file: 368995. Noise Type: Rattle\n",
      "ARCA23K file: 444064. Noise Type: Cough\n",
      "ARCA23K file: 2159. Noise Type: Squeak\n",
      "ARCA23K file: 190803. Noise Type: Squeak\n",
      "ARCA23K file: 93405. Noise Type: Female_speech_and_woman_speaking\n",
      "ARCA23K file: 437656. Noise Type: Male_speech_and_man_speaking\n",
      "ARCA23K file: 190803. Noise Type: Squeak\n",
      "ARCA23K file: 87778. Noise Type: Male_speech_and_man_speaking\n",
      "ARCA23K file: 535932. Noise Type: Female_speech_and_woman_speaking\n",
      "ARCA23K file: 378135. Noise Type: Walk_and_footsteps\n",
      "ARCA23K file: 558556. Noise Type: Male_speech_and_man_speaking\n",
      "ARCA23K file: 412935. Noise Type: Cough\n",
      "ARCA23K file: 486956. Noise Type: Squeak\n",
      "Noise power is 0. Returning signal only\n",
      "ARCA23K file: 89309. Noise Type: Female_speech_and_woman_speaking\n",
      "ARCA23K file: 109404. Noise Type: Male_speech_and_man_speaking\n",
      "ARCA23K file: 400717. Noise Type: Male_speech_and_man_speaking\n",
      "ARCA23K file: 177193. Noise Type: Squeak\n",
      "ARCA23K file: 273928. Noise Type: Female_speech_and_woman_speaking\n",
      "ARCA23K file: 529475. Noise Type: Female_speech_and_woman_speaking\n",
      "ARCA23K file: 554229. Noise Type: Cough\n",
      "ARCA23K file: 485956. Noise Type: Squeak\n",
      "ARCA23K file: 483327. Noise Type: Crumpling_and_crinkling\n",
      "ARCA23K file: 262418. Noise Type: Male_speech_and_man_speaking\n",
      "ARCA23K file: 183214. Noise Type: Male_speech_and_man_speaking\n",
      "ARCA23K file: 454834. Noise Type: Walk_and_footsteps\n",
      "ARCA23K file: 342546. Noise Type: Crack\n",
      "ARCA23K file: 141246. Noise Type: Squeak\n",
      "ARCA23K file: 536863. Noise Type: Male_speech_and_man_speaking\n",
      "ARCA23K file: 31912. Noise Type: Female_speech_and_woman_speaking\n",
      "ARCA23K file: 503886. Noise Type: Walk_and_footsteps\n",
      "Noise power is 0. Returning signal only\n",
      "ARCA23K file: 56759. Noise Type: Cough\n",
      "ARCA23K file: 264729. Noise Type: Walk_and_footsteps\n",
      "ARCA23K file: 389182. Noise Type: Male_speech_and_man_speaking\n",
      "ARCA23K file: 444902. Noise Type: Crumpling_and_crinkling\n",
      "ARCA23K file: 489903. Noise Type: Crack\n",
      "ARCA23K file: 124836. Noise Type: Male_speech_and_man_speaking\n",
      "ARCA23K file: 459633. Noise Type: Squeak\n",
      "ARCA23K file: 360850. Noise Type: Female_speech_and_woman_speaking\n",
      "ARCA23K file: 464677. Noise Type: Male_speech_and_man_speaking\n",
      "ARCA23K file: 328783. Noise Type: Squeak\n",
      "ARCA23K file: 558598. Noise Type: Male_speech_and_man_speaking\n",
      "ARCA23K file: 175941. Noise Type: Squeak\n",
      "ARCA23K file: 405271. Noise Type: Female_speech_and_woman_speaking\n",
      "ARCA23K file: 566934. Noise Type: Cough\n",
      "ARCA23K file: 235013. Noise Type: Female_speech_and_woman_speaking\n",
      "ARCA23K file: 384639. Noise Type: Walk_and_footsteps\n",
      "ARCA23K file: 107461. Noise Type: Rattle\n",
      "ARCA23K file: 384639. Noise Type: Walk_and_footsteps\n",
      "ARCA23K file: 536465. Noise Type: Crumpling_and_crinkling\n",
      "Noise power is 0. Returning signal only\n",
      "ARCA23K file: 147680. Noise Type: Male_speech_and_man_speaking\n",
      "ARCA23K file: 214888. Noise Type: Squeak\n",
      "ARCA23K file: 262945. Noise Type: Male_speech_and_man_speaking\n",
      "ARCA23K file: 513685. Noise Type: Squeak\n",
      "ARCA23K file: 99882. Noise Type: Female_speech_and_woman_speaking\n",
      "ARCA23K file: 68283. Noise Type: Squeak\n",
      "ARCA23K file: 565780. Noise Type: Female_speech_and_woman_speaking\n",
      "ARCA23K file: 245083. Noise Type: Squeak\n",
      "ARCA23K file: 390691. Noise Type: Walk_and_footsteps\n",
      "ARCA23K file: 3177. Noise Type: Squeak\n",
      "ARCA23K file: 520329. Noise Type: Male_speech_and_man_speaking\n",
      "ARCA23K file: 175941. Noise Type: Squeak\n",
      "ARCA23K file: 57454. Noise Type: Squeak\n",
      "ARCA23K file: 275797. Noise Type: Male_speech_and_man_speaking\n",
      "ARCA23K file: 445459. Noise Type: Walk_and_footsteps\n",
      "ARCA23K file: 146419. Noise Type: Crack\n",
      "ARCA23K file: 439055. Noise Type: Child_speech_and_kid_speaking\n",
      "ARCA23K file: 428982. Noise Type: Walk_and_footsteps\n",
      "ARCA23K file: 367135. Noise Type: Crumpling_and_crinkling\n",
      "ARCA23K file: 485956. Noise Type: Squeak\n",
      "ARCA23K file: 492363. Noise Type: Crumpling_and_crinkling\n",
      "ARCA23K file: 150213. Noise Type: Male_speech_and_man_speaking\n",
      "ARCA23K file: 341963. Noise Type: Male_speech_and_man_speaking\n",
      "{(513, 19)} {(513, 19)}\n"
     ]
    }
   ],
   "source": [
    "unique_shapes, unique_shapes_2 = set(), set()\n",
    "\n",
    "input_stft_data = []\n",
    "output_stft_data = []\n",
    "\n",
    "for pcg_local_path in pcg_data['fname']:\n",
    "  if not pcg_local_path.endswith('.wav'): # avoid .DS_Store among other things\n",
    "    continue\n",
    "  if not wav_lengths[pcg_local_path] > CUTOFF_SECONDS:\n",
    "    continue\n",
    "  # here we have a problem with the function about \"create composite from filepaths\"\n",
    "  pcg_filepath = pascal_dset_path + clean_pcg\n",
    "  random_noise = get_random_noise_path()\n",
    "  \n",
    "  pcg_raw, pcg_sr = load_from_filepath(pcg_filepath)\n",
    "  noise_raw, noise_sr = load_from_filepath(random_noise)\n",
    "  pcg_raw = pcg_raw[:CUTOFF] # truncate the PCG data, to 2 seconds. \n",
    "\n",
    "  clean, composite = create_composite(pcg_raw, pcg_sr, noise_raw, noise_sr, target_freq,snr_db)\n",
    "  clean -= np.mean(clean)\n",
    "  composite -= np.mean(composite)\n",
    "\n",
    "  # now, stft:\n",
    "  stft_clean = SFT.stft(clean)\n",
    "  unique_shapes.add(tuple(stft_clean.shape)) # everything is 513x18\n",
    "  stft_noisy = SFT.stft(composite)\n",
    "  unique_shapes_2.add(tuple(stft_noisy.shape)) # everything is 513x18\n",
    "  \n",
    "  input_stft_data.append(stft_noisy[2])\n",
    "  output_stft_data.append(stft_clean[2])\n",
    "print(unique_shapes,unique_shapes_2)"
   ]
  },
  {
   "cell_type": "code",
   "execution_count": 61,
   "metadata": {},
   "outputs": [
    {
     "data": {
      "image/png": "[encoded data removed]",
      "text/plain": [
       "<Figure size 1000x500 with 1 Axes>"
      ]
     },
     "metadata": {},
     "output_type": "display_data"
    },
    {
     "data": {
      "image/png": "[encoded data removed]",
      "text/plain": [
       "<Figure size 1000x500 with 1 Axes>"
      ]
     },
     "metadata": {},
     "output_type": "display_data"
    }
   ],
   "source": [
    "plot_fourier_spectrum(clean,target_freq,step_size=10,title = 'Clean PCG Spectrum')\n",
    "plot_fourier_spectrum(composite,target_freq,step_size=10,title = 'Noisy PCG Spectrum')"
   ]
  },
  {
   "cell_type": "code",
   "execution_count": 62,
   "metadata": {},
   "outputs": [
    {
     "data": {
      "image/png": "[encoded data removed]",
      "text/plain": [
       "<Figure size 600x400 with 1 Axes>"
      ]
     },
     "metadata": {},
     "output_type": "display_data"
    }
   ],
   "source": [
    "fig1, ax1 = plt.subplots(figsize=(6., 4.))\n",
    "N = len(clean)\n",
    "t_lo, t_hi = SFT.extent(N)[:2]\n",
    "ax1.set_title(rf\"STFT of clean signal ({SFT.m_num*SFT.T:g}$\\,s$. Hann window).\")\n",
    "ax1.set(xlabel=f\"Time $t$ in seconds ({SFT.p_num(N)} slices, \" +\n",
    "               rf\"$\\Delta t = {SFT.delta_t:g}\\,$s)\",\n",
    "        ylabel=f\"Freq. $f$ in Hz ({SFT.f_pts} bins, \" +\n",
    "               rf\"$\\Delta f = {SFT.delta_f:g}\\,$Hz)\",\n",
    "        xlim=(t_lo, t_hi))\n",
    "\n",
    "im1 = ax1.imshow(abs(stft_clean), origin='lower', aspect='auto',\n",
    "                 extent=SFT.extent(N), cmap='viridis')"
   ]
  },
  {
   "cell_type": "code",
   "execution_count": 63,
   "metadata": {},
   "outputs": [
    {
     "data": {
      "image/png": "[encoded data removed]",
      "text/plain": [
       "<Figure size 600x400 with 1 Axes>"
      ]
     },
     "metadata": {},
     "output_type": "display_data"
    }
   ],
   "source": [
    "fig2, ax2 = plt.subplots(figsize=(6., 4.))\n",
    "N = len(clean)\n",
    "t_lo, t_hi = SFT.extent(N)[:2]\n",
    "ax2.set_title(rf\"STFT of noisy signal ({SFT.m_num*SFT.T:g}$\\,s$. Hann window).\")\n",
    "ax2.set(xlabel=f\"Time $t$ in seconds ({SFT.p_num(N)} slices, \" +\n",
    "               rf\"$\\Delta t = {SFT.delta_t:g}\\,$s)\",\n",
    "        ylabel=f\"Freq. $f$ in Hz ({SFT.f_pts} bins, \" +\n",
    "               rf\"$\\Delta f = {SFT.delta_f:g}\\,$Hz)\",\n",
    "        xlim=(t_lo, t_hi))\n",
    "\n",
    "im2 = ax2.imshow(abs(stft_noisy), origin='lower', aspect='auto',\n",
    "                 extent=SFT.extent(N), cmap='viridis')"
   ]
  },
  {
   "cell_type": "code",
   "execution_count": 64,
   "metadata": {},
   "outputs": [
    {
     "data": {
      "text/plain": [
       "array([[ 6.33397537e-01+0.00000000e+00j,  8.70848658e-01+0.00000000e+00j,\n",
       "         9.41249601e-01+0.00000000e+00j, ...,\n",
       "        -1.46991298e+00+0.00000000e+00j, -8.51033028e-01+0.00000000e+00j,\n",
       "        -5.59280610e-02+0.00000000e+00j],\n",
       "       [-2.72034948e-02-6.58884345e-01j,  8.67470209e-01+5.02913506e-01j,\n",
       "        -1.10871116e-01-5.95896066e-01j, ...,\n",
       "        -1.19844056e+00+1.27382477e-01j, -3.05113999e-01-7.31472466e-01j,\n",
       "         3.36231413e-02-4.00797545e-02j],\n",
       "       [-6.87803090e-01+1.14196237e-01j,  2.19496941e+00+8.44300759e-01j,\n",
       "        -1.14920834e+00-2.03632869e+00j, ...,\n",
       "        -6.25997688e-01+3.72941020e-01j,  4.87941112e-01-5.15236601e-01j,\n",
       "         1.17027847e-02+4.15301154e-02j],\n",
       "       ...,\n",
       "       [ 4.53546273e-03+1.60087965e-04j, -9.25901487e-03-2.81057361e-04j,\n",
       "         4.71378829e-03+1.17856435e-04j, ...,\n",
       "        -5.61343114e-03+1.33778701e-02j,  6.62734748e-03-1.58260515e-02j,\n",
       "        -1.61498466e-03+3.85642566e-03j],\n",
       "       [ 8.45723297e-05-4.52529725e-03j, -9.25149306e-03-1.40318531e-04j,\n",
       "        -6.07536985e-05+4.69404766e-03j, ...,\n",
       "         8.03127416e-03+1.20743360e-02j,  1.42823297e-02-9.50046123e-03j,\n",
       "        -2.31343878e-03-3.47812391e-03j],\n",
       "       [-4.52524654e-03+0.00000000e+00j, -9.21740441e-03+0.00000000e+00j,\n",
       "        -4.68858992e-03+0.00000000e+00j, ...,\n",
       "         1.44953449e-02+0.00000000e+00j,  1.71477299e-02+0.00000000e+00j,\n",
       "         4.17585011e-03+0.00000000e+00j]])"
      ]
     },
     "execution_count": 64,
     "metadata": {},
     "output_type": "execute_result"
    }
   ],
   "source": [
    "stft_noisy # this is complex. should the real and imag parts be split?"
   ]
  },
  {
   "cell_type": "code",
   "execution_count": 65,
   "metadata": {},
   "outputs": [],
   "source": [
    "# !impt: do i have enough data? So far, 200-some noisy samples...\n",
    "# ways to get more data:\n",
    "# # add multiple noise copies to each PCG sample"
   ]
  },
  {
   "cell_type": "markdown",
   "metadata": {},
   "source": [
    "## 5 - Making Training and Test Data"
   ]
  },
  {
   "cell_type": "markdown",
   "metadata": {},
   "source": [
    "### 5.a - Adding arbitrary noise "
   ]
  },
  {
   "cell_type": "code",
   "execution_count": 66,
   "metadata": {},
   "outputs": [],
   "source": [
    "# Some things to do:\n",
    "# # From the ~250 clean recordings, add like 10 pairs of noise each\n",
    "# # The noise can be from the ARCA23K dataset, but also the HAN dataset"
   ]
  },
  {
   "cell_type": "code",
   "execution_count": 67,
   "metadata": {},
   "outputs": [
    {
     "data": {
      "text/plain": [
       "7448"
      ]
     },
     "execution_count": 67,
     "metadata": {},
     "output_type": "execute_result"
    }
   ],
   "source": [
    "len(pcg_data['fname'])*4*7"
   ]
  },
  {
   "cell_type": "code",
   "execution_count": 68,
   "metadata": {},
   "outputs": [],
   "source": [
    "#target_freq = 2000 # downsample to this\n",
    "#snr_db = [-3,0,3,6]\n",
    "#seconds_per_segment = 0.8\n",
    "#segment_length = int(target_freq*seconds_per_segment)\n",
    "#\n",
    "## inputs and outputs for the model. Inputs are noisy, outputs are ground truth \n",
    "## takes a minute by the way\n",
    "#input_pcg_data = []\n",
    "#output_pcg_data = []\n",
    "#for clean_pcg in pcg_data['fname']: # contains murmurs and normal PCG data\n",
    "#  if not clean_pcg.endswith('.wav'): # avoid .DS_Store among other things\n",
    "#    continue\n",
    "#  signal_filepath = pascal_dset_path + clean_pcg\n",
    "#  signal_raw, signal_sr = load_from_filepath(signal_filepath)\n",
    "#  # do not truncate yet.\n",
    "#  for snr in snr_db:\n",
    "#    for noise_path in get_n_random_noise_paths_han(4):\n",
    "#      noise_raw, noise_sr = load_from_filepath(noise_path)\n",
    "#      clean, composite = create_composite(signal_raw, signal_sr, noise_raw, noise_sr, target_freq, snr)\n",
    "#\n",
    "#      for i in range(0,len(clean)//segment_length):\n",
    "#        clean_subsection = clean[i*segment_length:(i+1)*segment_length]\n",
    "#        composite_subsection = composite[i*segment_length:(i+1)*segment_length]\n",
    "#        # remove DC component (should this be done at subsection level though?)\n",
    "#        #clean_subsection -= np.mean(clean_subsection)\n",
    "#        #composite_subsection -= np.mean(composite_subsection)\n",
    "#        \n",
    "#        input_pcg_data.append(composite_subsection)\n",
    "#        output_pcg_data.append(clean_subsection)\n",
    "#\n",
    "#    for noise_path in get_n_random_noise_paths_arca(3):\n",
    "#      noise_raw, noise_sr = load_from_filepath(noise_path)\n",
    "#      clean, composite = create_composite(signal_raw, signal_sr, noise_raw, noise_sr, target_freq, snr)\n",
    "#      \n",
    "#      for i in range(0,len(clean)//segment_length):\n",
    "#        clean_subsection = clean[i*segment_length:(i+1)*segment_length]\n",
    "#        composite_subsection = composite[i*segment_length:(i+1)*segment_length]\n",
    "#        # remove DC component (should this be done at subsection level though?)\n",
    "#        #clean_subsection -= np.mean(clean_subsection)\n",
    "#        #composite_subsection -= np.mean(composite_subsection)\n",
    "#        \n",
    "#        input_pcg_data.append(composite_subsection)\n",
    "#        output_pcg_data.append(clean_subsection)"
   ]
  },
  {
   "cell_type": "code",
   "execution_count": 69,
   "metadata": {},
   "outputs": [],
   "source": [
    "#set(list(len(x) for x in output_pcg_data)) # good. the U-Net + LSTM will work with 1D, 1600 len data"
   ]
  },
  {
   "cell_type": "code",
   "execution_count": 70,
   "metadata": {},
   "outputs": [
    {
     "data": {
      "text/plain": [
       "200"
      ]
     },
     "execution_count": 70,
     "metadata": {},
     "output_type": "execute_result"
    }
   ],
   "source": [
    "len(pcg_data[pcg_data['label']=='normal'])\n",
    "#len(output_pcg_data)"
   ]
  },
  {
   "cell_type": "code",
   "execution_count": 71,
   "metadata": {},
   "outputs": [],
   "source": [
    "from sklearn.utils import shuffle\n",
    "#unet_inputs, unet_outputs = shuffle(input_pcg_data,output_pcg_data, random_state=0)"
   ]
  },
  {
   "cell_type": "markdown",
   "metadata": {},
   "source": [
    "### 5.b - Saving and loading the data"
   ]
  },
  {
   "cell_type": "code",
   "execution_count": 72,
   "metadata": {},
   "outputs": [],
   "source": [
    "#fname = 'storage/unet_inputs.npy'\n",
    "#np.save(fname, unet_inputs)\n",
    "#fname = 'storage/unet_outputs.npy'\n",
    "#np.save(fname, unet_outputs)"
   ]
  },
  {
   "cell_type": "code",
   "execution_count": 73,
   "metadata": {},
   "outputs": [],
   "source": [
    "# loading the dataset\n",
    "# 0.8 second segments at 2kHz, 4 SNRs, 4 HAN noises and 3 ARCA23K noises per PCG sample\n",
    "unet_inputs = np.load('storage/unet_inputs.npy')\n",
    "unet_outputs = np.load('storage/unet_outputs.npy')"
   ]
  },
  {
   "cell_type": "code",
   "execution_count": 74,
   "metadata": {},
   "outputs": [
    {
     "data": {
      "text/plain": [
       "[[1, 6, 5, 4, 2, 3], [1, 6, 5, 4, 2, 3]]"
      ]
     },
     "execution_count": 74,
     "metadata": {},
     "output_type": "execute_result"
    }
   ],
   "source": [
    "shuffle([1,2,3,4,5,6],[1,2,3,4,5,6],random_state=3221)"
   ]
  },
  {
   "cell_type": "code",
   "execution_count": 75,
   "metadata": {},
   "outputs": [],
   "source": [
    "# 190/7448 = 2.55% of noise data had no power. \n",
    "# a lot of inputs to the model will be the same as the outputs\n",
    "# this is good for robustness, i guess...\n",
    "# there's this broad question of what inputs the model should be given\n",
    "# ... i guess the answer is \"everything: clean data, slightly noisy data, very noisy data\"\n",
    "# ... but check in with the team about this later"
   ]
  },
  {
   "cell_type": "markdown",
   "metadata": {},
   "source": [
    "## 6 - U-Net Architecture"
   ]
  },
  {
   "cell_type": "code",
   "execution_count": 76,
   "metadata": {},
   "outputs": [],
   "source": [
    "import torch\n",
    "import torch.nn as nn\n",
    "import torch.nn.functional as F\n",
    "from torch.utils.data import Dataset, DataLoader"
   ]
  },
  {
   "cell_type": "code",
   "execution_count": 77,
   "metadata": {},
   "outputs": [
    {
     "name": "stdout",
     "output_type": "stream",
     "text": [
      "Using mps device\n"
     ]
    }
   ],
   "source": [
    "device = torch.accelerator.current_accelerator().type if torch.accelerator.is_available() else \"cpu\"\n",
    "print(f\"Using {device} device\")"
   ]
  },
  {
   "cell_type": "markdown",
   "metadata": {},
   "source": [
    "### 6.a - Create Batches with DataLoader"
   ]
  },
  {
   "cell_type": "code",
   "execution_count": 78,
   "metadata": {},
   "outputs": [],
   "source": [
    "class PCG_Dataset(Dataset):\n",
    "    def __init__(self, inputs, outputs):\n",
    "        inputs = np.array(inputs) # inputs is expected to be a list of np vectors\n",
    "        outputs = np.array(outputs) # outputs is expected to be a list of np vectors\n",
    "        # making them an np.array speeds up the conversion process to tensor\n",
    "        self.inputs = torch.tensor(inputs[:, np.newaxis, :], dtype=torch.float32).to(device)  # Ensure tensor format\n",
    "        self.outputs = torch.tensor(outputs[:, np.newaxis, :], dtype=torch.float32).to(device)\n",
    "        \n",
    "        \n",
    "\n",
    "    def __len__(self):\n",
    "        return len(self.inputs)\n",
    "\n",
    "    def __getitem__(self, idx):\n",
    "        return self.inputs[idx], self.outputs[idx]"
   ]
  },
  {
   "cell_type": "code",
   "execution_count": 79,
   "metadata": {},
   "outputs": [],
   "source": [
    "dataset = PCG_Dataset(unet_inputs,unet_outputs)"
   ]
  },
  {
   "cell_type": "code",
   "execution_count": 80,
   "metadata": {},
   "outputs": [],
   "source": [
    "def make_batch(dataset,batchsize):\n",
    "  \"\"\"\n",
    "  Creating batches\n",
    "  \"\"\"\n",
    "  dataloader = DataLoader(\n",
    "  \tdataset,\n",
    "    batch_size=batchsize, shuffle=True\n",
    ")\n",
    "  return dataloader"
   ]
  },
  {
   "cell_type": "markdown",
   "metadata": {},
   "source": [
    "### 6.b - Design Model"
   ]
  },
  {
   "cell_type": "code",
   "execution_count": 81,
   "metadata": {},
   "outputs": [],
   "source": [
    "class LU_Net(nn.Module):\n",
    "  def __init__(self,input_shape,output_shape):\n",
    "    super().__init__()\n",
    "    self.i_s = input_shape\n",
    "    self.o_s = output_shape\n",
    "    # model architecture\n",
    "    # encoder, lvl 1\n",
    "    self.conv_1 = nn.Conv1d(1,16,31,padding = 'same')\n",
    "    self.relu_1 = nn.ReLU()\n",
    "    \n",
    "    # encoder, lvl 2\n",
    "    self.conv_2 = nn.Conv1d(16,32,31,stride = 2,padding = 15)\n",
    "    self.relu_2 = nn.ReLU()\n",
    "\n",
    "    # encoder, lvl 3\n",
    "    self.conv_3 = nn.Conv1d(32,32,31,stride = 2,padding = 15)\n",
    "    self.relu_3 = nn.ReLU()\n",
    "\n",
    "    # encoder, lvl 4\n",
    "    self.conv_4 = nn.Conv1d(32,64,31,stride = 2,padding = 15)\n",
    "    self.relu_4 = nn.ReLU()\n",
    "\n",
    "    # encoder, lvl 5\n",
    "    self.conv_5 = nn.Conv1d(64,64,31,stride = 2,padding = 15)\n",
    "    self.relu_5 = nn.ReLU()\n",
    "\n",
    "    # bottleneck\n",
    "    self.bottleneck = nn.Conv1d(64,128,31,stride = 2,padding = 15)\n",
    "    self.relu_bottleneck = nn.ReLU()\n",
    "    # decoder, lvl 5\n",
    "    self.conv_6 = nn.Conv1d(128,64,31,padding = 'same')\n",
    "    self.relu_6 = nn.ReLU()\n",
    "    self.upsample_1 = nn.Upsample(scale_factor = 2)\n",
    "    # decoder, lvl 4\n",
    "    self.conv_7 = nn.Conv1d(64,64,31,padding = 'same')\n",
    "    self.relu_7 = nn.ReLU()\n",
    "    self.upsample_2 = nn.Upsample(scale_factor = 2)\n",
    "    # decoder, lvl 3\n",
    "    self.conv_8 = nn.Conv1d(64,32,31,padding = 'same')\n",
    "    self.relu_8 = nn.ReLU()\n",
    "    self.upsample_3 = nn.Upsample(scale_factor = 2)\n",
    "    # decoder, lvl 2\n",
    "    self.conv_9 = nn.Conv1d(32,32,31,padding = 'same')\n",
    "    self.relu_9 = nn.ReLU()\n",
    "    self.upsample_4 = nn.Upsample(scale_factor = 2)\n",
    "    # decoder, lvl 1\n",
    "    self.conv_10 = nn.Conv1d(32,16,31,padding = 'same')\n",
    "    self.relu_10 = nn.ReLU()\n",
    "    self.upsample_5 = nn.Upsample(scale_factor = 2) \n",
    "    \n",
    "    self.conv_final = nn.Conv1d(16,1,31,padding = 'same')\n",
    "    self.tanh_final = nn.Tanh() # makes sense, since input is in [-1,1]\n",
    "    # should there be a final activation function?\n",
    "    \n",
    "  # possible improvements: batch norm, gelu\n",
    "  def forward(self,x): # i believe there is no activation function between lstm cells\n",
    "    res = self.conv_1(x)\n",
    "    res = self.relu_1(res)\n",
    "\n",
    "    res = self.conv_2(res)\n",
    "    res = self.relu_2(res)\n",
    "\n",
    "    res = self.conv_3(res)\n",
    "    res = self.relu_3(res)\n",
    "\n",
    "    res = self.conv_4(res)\n",
    "    res = self.relu_4(res)\n",
    "\n",
    "    res = self.conv_5(res)\n",
    "    res = self.relu_5(res)\n",
    "   \n",
    "    res = self.bottleneck(res)\n",
    "    res = self.relu_bottleneck(res)\n",
    "    \n",
    "    res = self.conv_6(res)\n",
    "    res = self.relu_6(res)\n",
    "    res = self.upsample_1(res)\n",
    "    \n",
    "    res = self.conv_7(res)\n",
    "    res = self.relu_7(res) \n",
    "    res = self.upsample_2(res)\n",
    "\n",
    "    res = self.conv_8(res)\n",
    "    res = self.upsample_3(res)\n",
    "    \n",
    "    res = self.conv_9(res)\n",
    "    res = self.relu_9(res) \n",
    "    res = self.upsample_4(res)\n",
    "    \n",
    "    res = self.conv_10(res)\n",
    "    res = self.relu_10(res)\n",
    "    res = self.upsample_5(res)\n",
    "    \n",
    "    res = self.conv_final(res)\n",
    "    res = self.tanh_final(res)\n",
    "    \n",
    "    return res"
   ]
  },
  {
   "cell_type": "code",
   "execution_count": 82,
   "metadata": {},
   "outputs": [],
   "source": [
    "in_shape = unet_inputs[0].shape[0]\n",
    "model = LU_Net(in_shape,in_shape).to(device)\n",
    "lossfunc = nn.MSELoss()\n",
    "optimizer = torch.optim.Adam(model.parameters())"
   ]
  },
  {
   "cell_type": "markdown",
   "metadata": {},
   "source": [
    "## 7 - Train Model"
   ]
  },
  {
   "cell_type": "markdown",
   "metadata": {},
   "source": [
    "### 7.a - Train/Validation/Test split"
   ]
  },
  {
   "cell_type": "code",
   "execution_count": 83,
   "metadata": {},
   "outputs": [
    {
     "data": {
      "text/plain": [
       "44240"
      ]
     },
     "execution_count": 83,
     "metadata": {},
     "output_type": "execute_result"
    }
   ],
   "source": [
    "len(dataset)"
   ]
  },
  {
   "cell_type": "code",
   "execution_count": 84,
   "metadata": {},
   "outputs": [],
   "source": [
    "train_dataset_raw, val_dataset_raw, test_dataset_raw = torch.utils.data.random_split(dataset,[.7,.15,.15])"
   ]
  },
  {
   "cell_type": "code",
   "execution_count": 85,
   "metadata": {},
   "outputs": [],
   "source": [
    "batch_size = 32\n",
    "\n",
    "train_data = make_batch(train_dataset_raw,batch_size) # shuffles them too\n",
    "val_data = make_batch(val_dataset_raw,batch_size)\n",
    "test_data = make_batch(test_dataset_raw,batch_size)"
   ]
  },
  {
   "cell_type": "markdown",
   "metadata": {},
   "source": [
    "### 7.b - Training"
   ]
  },
  {
   "cell_type": "code",
   "execution_count": null,
   "metadata": {},
   "outputs": [],
   "source": [
    "#def validation_acc(model,val_data):\n",
    "#  model.eval()\n",
    "#  with torch.no_grad():\n",
    "#    total_loss = 0\n",
    "#    for i, (inputs, outputs) in enumerate(val_data):\n",
    "#      outputs_pred = model(inputs)\n",
    "#      loss = lossfunc(outputs_pred,outputs)\n",
    "#      total_loss += loss.item()\n",
    "#    return total_loss/(i+1)"
   ]
  },
  {
   "cell_type": "code",
   "execution_count": null,
   "metadata": {},
   "outputs": [
    {
     "name": "stdout",
     "output_type": "stream",
     "text": [
      " Epoch: 0. Training Loss: 0.01564\n",
      " Epoch: 1. Training Loss: 0.01563\n",
      " Epoch: 2. Training Loss: 0.01564\n",
      " Epoch: 3. Training Loss: 0.01563\n"
     ]
    }
   ],
   "source": [
    "num_epochs = 20\n",
    "\n",
    "for epoch in range(num_epochs):\n",
    "  running_loss = 0\n",
    "  \n",
    "  for idx, (inputs, labels) in enumerate(train_data):\n",
    "    \n",
    "    # Reset gradients per batch\n",
    "    optimizer.zero_grad()\n",
    "\n",
    "    # Predict\n",
    "    outputs = model(inputs)\n",
    "\n",
    "    # Compute the loss and its gradients\n",
    "    loss = lossfunc(outputs, labels)\n",
    "    loss.backward()\n",
    "\n",
    "    # Adjust learning weights\n",
    "    optimizer.step()\n",
    "\n",
    "    # Gather data and report\n",
    "    running_loss += loss.item()\n",
    "\n",
    "  loss_this_epoch = running_loss\n",
    "  #val_loss_this_epoch = validation_acc(model,val_data)\n",
    "  # the losses are averages\n",
    "  print(f' Epoch: {epoch}. Training Loss: {np.round(loss_this_epoch,5)}')#Validation Loss: {np.round(val_loss_this_epoch,5)}.')\n",
    "  \n",
    "  # YOU MUST KNOW FOR SURE THAT MODEL INPUTS/OUTPUTS ARE IN [-1,1]. PM NORMALIZE BEHFOREHAND?"
   ]
  }
 ],
 "metadata": {
  "kernelspec": {
   "display_name": "base",
   "language": "python",
   "name": "python3"
  },
  "language_info": {
   "codemirror_mode": {
    "name": "ipython",
    "version": 3
   },
   "file_extension": ".py",
   "mimetype": "text/x-python",
   "name": "python",
   "nbconvert_exporter": "python",
   "pygments_lexer": "ipython3",
   "version": "3.11.8"
  }
 },
 "nbformat": 4,
 "nbformat_minor": 2
}
