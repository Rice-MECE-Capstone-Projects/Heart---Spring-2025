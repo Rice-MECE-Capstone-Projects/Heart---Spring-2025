{
 "cells": [
  {
   "cell_type": "code",
   "id": "initial_id",
   "metadata": {
    "collapsed": true,
    "ExecuteTime": {
     "end_time": "2025-04-21T14:29:02.694338Z",
     "start_time": "2025-04-21T14:29:02.345011Z"
    }
   },
   "source": [
    "import pickle\n",
    "import pandas as pd\n",
    "import numpy as np\n",
    "from matplotlib import pyplot as plt\n",
    "from sklearn.model_selection import train_test_split\n",
    "from sklearn import svm\n",
    "from sklearn import metrics\n",
    "from sklearn.preprocessing import StandardScaler\n",
    "import seaborn as sns\n"
   ],
   "outputs": [],
   "execution_count": 1
  },
  {
   "metadata": {
    "ExecuteTime": {
     "end_time": "2025-04-21T14:29:28.193342Z",
     "start_time": "2025-04-21T14:29:28.160580Z"
    }
   },
   "cell_type": "code",
   "source": [
    "df=pd.read_csv('quality_label.csv')\n",
    "second_col = df.iloc[:, 1]\n",
    "conditions = [\n",
    "    second_col.isin([1, 2, 3]),\n",
    "    second_col == 4,\n",
    "    second_col == 5\n",
    "]\n",
    "\n",
    "choices = [1, 2, 3]\n",
    "\n",
    "label = np.select(conditions, choices, default=0).reshape(-1,1)  # optional default if none match"
   ],
   "id": "f4aed05922474466",
   "outputs": [],
   "execution_count": 2
  },
  {
   "metadata": {
    "ExecuteTime": {
     "end_time": "2025-04-21T14:29:29.447393Z",
     "start_time": "2025-04-21T14:29:29.427118Z"
    }
   },
   "cell_type": "code",
   "source": [
    "dataset=np.load('dataset_bin.npz')\n",
    "\n",
    "feature_names = ['Kurosis(signal)', 'Energy ratio(Low)', 'Energy ratio(Mid)', 'Energy ratio(High)', 'Std(envelope)', 'Sample Entropy(envelope)', 'Kurosis(auto correlation)', 'Max Peak(auto correlation)', 'Sample Entropy(auto correlation)', 'Degree of periodicity']  # <- replace with your actual names\n",
    "full_data = np.hstack((dataset['data'], label))\n",
    "column_names = feature_names + ['label']"
   ],
   "id": "2a17e45c283161e1",
   "outputs": [],
   "execution_count": 3
  },
  {
   "metadata": {
    "ExecuteTime": {
     "end_time": "2025-04-21T14:29:31.160555Z",
     "start_time": "2025-04-21T14:29:31.147465Z"
    }
   },
   "cell_type": "code",
   "source": [
    "df = pd.DataFrame(full_data, columns=column_names)\n",
    "df['label']=df['label'].astype('int')\n",
    "df.to_pickle('dataset_tri.pkl')"
   ],
   "id": "c0666a85e70889f1",
   "outputs": [],
   "execution_count": 4
  },
  {
   "metadata": {
    "ExecuteTime": {
     "end_time": "2025-04-21T14:29:32.413612Z",
     "start_time": "2025-04-21T14:29:32.405712Z"
    }
   },
   "cell_type": "code",
   "source": [
    "X = df.drop(['label'], axis=1)\n",
    "y = df['label']"
   ],
   "id": "61dc47232a5bc533",
   "outputs": [],
   "execution_count": 5
  },
  {
   "metadata": {
    "ExecuteTime": {
     "end_time": "2025-04-21T14:29:33.439216Z",
     "start_time": "2025-04-21T14:29:33.429055Z"
    }
   },
   "cell_type": "code",
   "source": "X_train, X_test, y_train, y_test = train_test_split(X, y, test_size = 0.1, random_state = 21)",
   "id": "8717185298876eab",
   "outputs": [],
   "execution_count": 6
  },
  {
   "metadata": {
    "ExecuteTime": {
     "end_time": "2025-04-21T14:30:03.318798Z",
     "start_time": "2025-04-21T14:29:34.777824Z"
    }
   },
   "cell_type": "code",
   "source": [
    "from scipy.stats import uniform\n",
    "from sklearn.pipeline import make_pipeline\n",
    "from sklearn.model_selection import RandomizedSearchCV\n",
    "pipeline = make_pipeline(StandardScaler(),svm.SVC())\n",
    "param_distributions = {\n",
    "    'svc__C': uniform(0.1, 100),       # Samples C between 0.1 and 100\n",
    "    'svc__gamma': uniform(0.001, 1),   # Samples gamma between 0.001 and 1\n",
    "    'svc__kernel': ['rbf'],\n",
    "    'svc__class_weight':['balanced', None]\n",
    "}\n",
    "\n",
    "search = RandomizedSearchCV(\n",
    "    estimator=pipeline,\n",
    "    param_distributions=param_distributions,\n",
    "    n_iter=50,             # Try 50 different combinations\n",
    "    scoring='accuracy',\n",
    "    cv=5,\n",
    "    random_state=70,\n",
    "    verbose=4,\n",
    "    n_jobs=-1\n",
    ")\n",
    "search.fit(X_train, y_train)\n",
    "print(\"Best Params:\", search.best_params_)\n",
    "print(\"Best CV Score:\", search.best_score_)"
   ],
   "id": "cd062e5090cb66e9",
   "outputs": [
    {
     "name": "stdout",
     "output_type": "stream",
     "text": [
      "Fitting 5 folds for each of 50 candidates, totalling 250 fits\n",
      "Best Params: {'svc__C': np.float64(30.806466166479996), 'svc__class_weight': None, 'svc__gamma': np.float64(0.11678370620105127), 'svc__kernel': 'rbf'}\n",
      "Best CV Score: 0.8369708893756629\n"
     ]
    }
   ],
   "execution_count": 7
  },
  {
   "metadata": {
    "ExecuteTime": {
     "end_time": "2025-04-21T14:41:35.691021Z",
     "start_time": "2025-04-21T14:41:35.398856Z"
    }
   },
   "cell_type": "code",
   "source": [
    "import matplotlib.pyplot as plt\n",
    "best_model = search.best_estimator_\n",
    "y_pred = best_model.predict(X_test)\n",
    "print('Accuracy:',metrics.accuracy_score(y_test, y_pred))\n",
    "from sklearn.metrics import confusion_matrix\n",
    "\n",
    "cm = confusion_matrix(y_test, y_pred)\n",
    "\n",
    "cm_matrix = pd.DataFrame(data=cm,columns=['bad','good','excellent'],index=['bad','good','excellent'])\n",
    "ax=sns.heatmap(cm_matrix, annot=True, fmt='d', cmap='YlGnBu')\n",
    "ax.set_ylabel('Predicted')\n",
    "ax.set_xlabel('True')\n",
    "plt.savefig('confusion_matrix.png')\n",
    "plt.show()"
   ],
   "id": "43bd3eeae904db8a",
   "outputs": [
    {
     "name": "stdout",
     "output_type": "stream",
     "text": [
      "Accuracy: 0.8240506329113924\n"
     ]
    },
    {
     "data": {
      "text/plain": [
       "<Figure size 640x480 with 2 Axes>"
      ],
      "image/png": "[encoded data removed]"
     },
     "metadata": {},
     "output_type": "display_data"
    }
   ],
   "execution_count": 20
  }
 ],
 "metadata": {
  "kernelspec": {
   "display_name": "Python 3",
   "language": "python",
   "name": "python3"
  },
  "language_info": {
   "codemirror_mode": {
    "name": "ipython",
    "version": 2
   },
   "file_extension": ".py",
   "mimetype": "text/x-python",
   "name": "python",
   "nbconvert_exporter": "python",
   "pygments_lexer": "ipython2",
   "version": "2.7.6"
  }
 },
 "nbformat": 4,
 "nbformat_minor": 5
}
