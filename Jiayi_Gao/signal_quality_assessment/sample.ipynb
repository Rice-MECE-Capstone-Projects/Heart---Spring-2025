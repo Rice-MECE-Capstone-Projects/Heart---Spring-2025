{
 "cells": [
  {
   "metadata": {
    "ExecuteTime": {
     "end_time": "2025-04-13T17:45:13.669493Z",
     "start_time": "2025-04-13T17:45:13.660307Z"
    }
   },
   "cell_type": "code",
   "source": [
    "from pre_processing import *\n",
    "import importlib"
   ],
   "id": "fbc121e30a2defb3",
   "outputs": [],
   "execution_count": 3
  },
  {
   "metadata": {
    "ExecuteTime": {
     "end_time": "2025-04-13T17:45:12.506602Z",
     "start_time": "2025-04-13T17:45:12.407821Z"
    }
   },
   "cell_type": "code",
   "source": [
    "from scipy.io import wavfile\n",
    "data_path='./data/13596_AV.wav'\n",
    "def load_wav(wav_path):\n",
    "    sample_rate, data = wavfile.read(wav_path)\n",
    "    return sample_rate, data"
   ],
   "id": "c8fbb588a0ab7d06",
   "outputs": [],
   "execution_count": 2
  },
  {
   "metadata": {
    "ExecuteTime": {
     "end_time": "2025-04-13T17:45:14.424142Z",
     "start_time": "2025-04-13T17:45:14.412734Z"
    }
   },
   "cell_type": "code",
   "source": "fs,ori_data=load_wav(data_path)",
   "id": "5c2f617cdda410cd",
   "outputs": [],
   "execution_count": 4
  },
  {
   "metadata": {
    "ExecuteTime": {
     "end_time": "2025-04-13T17:45:15.429493Z",
     "start_time": "2025-04-13T17:45:15.402083Z"
    }
   },
   "cell_type": "code",
   "source": [
    "data=pre_processing(ori_data, fs)\n",
    "fs=1000"
   ],
   "id": "1891563420624ded",
   "outputs": [],
   "execution_count": 5
  },
  {
   "metadata": {
    "ExecuteTime": {
     "end_time": "2025-04-13T16:23:04.169445Z",
     "start_time": "2025-04-13T16:23:04.158471Z"
    }
   },
   "cell_type": "code",
   "source": [
    "from get_kurtosis import get_kurtosis\n",
    "feature_1=get_kurtosis(data)"
   ],
   "id": "b150fab51d47e939",
   "outputs": [],
   "execution_count": 5
  },
  {
   "metadata": {
    "ExecuteTime": {
     "end_time": "2025-04-13T16:23:05.564483Z",
     "start_time": "2025-04-13T16:23:05.551291Z"
    }
   },
   "cell_type": "code",
   "source": [
    "from get_energy_ratio import get_energy_ratio\n",
    "fre_Low=[24,144]\n",
    "fre_High=[200,500]\n",
    "fre_Mid=[144,200]\n",
    "\n",
    "feature_2=get_energy_ratio(data,fre_Low,fs)\n",
    "feature_3=get_energy_ratio(data,fre_Mid,fs)\n",
    "feature_4=get_energy_ratio(data,fre_High,fs)"
   ],
   "id": "bfc2d7c7c92f1391",
   "outputs": [],
   "execution_count": 6
  },
  {
   "metadata": {
    "ExecuteTime": {
     "end_time": "2025-04-13T16:23:15.012156Z",
     "start_time": "2025-04-13T16:23:06.654531Z"
    }
   },
   "cell_type": "code",
   "source": [
    "from get_envelope_std_entropy import get_envelope_from_stft,get_envelop_sample_entropy\n",
    "\n",
    "envelope=get_envelope_from_stft(data,fs)\n",
    "feature_5=np.std(envelope)/1000\n",
    "feature_6=get_envelop_sample_entropy(envelope,2,0.2)"
   ],
   "id": "8b89678486bc152e",
   "outputs": [],
   "execution_count": 7
  },
  {
   "metadata": {
    "ExecuteTime": {
     "end_time": "2025-04-13T16:23:27.304073Z",
     "start_time": "2025-04-13T16:23:25.006236Z"
    }
   },
   "cell_type": "code",
   "source": [
    "from get_autocorr_envelop import *\n",
    "\n",
    "auto_corr_enve=get_autocorr_envelop(envelope)\n",
    "feature_7=get_kurtosis(auto_corr_enve)\n",
    "feature_8=get_max_autocorr_coeff(auto_corr_enve,fs)\n",
    "feature_9=get_envelop_sample_entropy(auto_corr_enve,2,0.2)"
   ],
   "id": "2a4f0b58af300269",
   "outputs": [],
   "execution_count": 9
  },
  {
   "metadata": {
    "ExecuteTime": {
     "end_time": "2025-04-13T18:01:39.908565Z",
     "start_time": "2025-04-13T18:01:39.848004Z"
    }
   },
   "cell_type": "code",
   "source": [
    "from get_quality_index import *\n",
    "min_cf=0.3\n",
    "max_cf=2.5\n",
    "alphas=np.arange(min_cf,max_cf,0.05)\n",
    "taus=np.arange(-1000,1000)\n",
    "cfsd=get_cfsd_optimized(data,alphas,taus)\n",
    "feature_10=degree_peak(data)"
   ],
   "id": "bbbb7ff533a1a946",
   "outputs": [],
   "execution_count": 12
  },
  {
   "metadata": {},
   "cell_type": "code",
   "outputs": [],
   "execution_count": null,
   "source": "from sklearn import svm\n",
   "id": "e2f00198ab21085b"
  }
 ],
 "metadata": {
  "kernelspec": {
   "display_name": "Python 3",
   "language": "python",
   "name": "python3"
  },
  "language_info": {
   "codemirror_mode": {
    "name": "ipython",
    "version": 2
   },
   "file_extension": ".py",
   "mimetype": "text/x-python",
   "name": "python",
   "nbconvert_exporter": "python",
   "pygments_lexer": "ipython2",
   "version": "2.7.6"
  }
 },
 "nbformat": 4,
 "nbformat_minor": 5
}
