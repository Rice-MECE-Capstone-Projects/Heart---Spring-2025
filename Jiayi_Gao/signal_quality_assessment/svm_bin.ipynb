{
 "cells": [
  {
   "cell_type": "code",
   "id": "initial_id",
   "metadata": {
    "collapsed": true,
    "ExecuteTime": {
     "end_time": "2025-04-21T03:08:50.709202Z",
     "start_time": "2025-04-21T03:08:50.689673Z"
    }
   },
   "source": [
    "import numpy as np\n",
    "import pickle\n",
    "import pandas as pd\n",
    "from matplotlib import pyplot as plt\n",
    "from sklearn.model_selection import train_test_split\n",
    "from sklearn import svm\n",
    "from sklearn import metrics\n",
    "from sklearn.model_selection import KFold\n",
    "from sklearn.preprocessing import StandardScaler\n",
    "from sklearn.model_selection import GridSearchCV\n",
    "from sklearn.model_selection import StratifiedKFold\n",
    "\n"
   ],
   "outputs": [],
   "execution_count": 67
  },
  {
   "metadata": {
    "ExecuteTime": {
     "end_time": "2025-04-21T03:08:51.463836Z",
     "start_time": "2025-04-21T03:08:51.450255Z"
    }
   },
   "cell_type": "code",
   "source": [
    "\n",
    "scaler = StandardScaler()\n",
    "with open(\"dataset_bin.pkl\", \"rb\") as f:\n",
    "    df=pickle.load(f)"
   ],
   "id": "69dc98c854b104e0",
   "outputs": [],
   "execution_count": 68
  },
  {
   "metadata": {
    "ExecuteTime": {
     "end_time": "2025-04-21T04:01:03.982706Z",
     "start_time": "2025-04-21T04:01:03.972264Z"
    }
   },
   "cell_type": "code",
   "source": [
    "X = df.drop(['label'], axis=1)\n",
    "\n",
    "y = df['label']"
   ],
   "id": "cdcd7dde9426fdf4",
   "outputs": [],
   "execution_count": 89
  },
  {
   "metadata": {
    "ExecuteTime": {
     "end_time": "2025-04-21T04:01:05.175793Z",
     "start_time": "2025-04-21T04:01:05.160627Z"
    }
   },
   "cell_type": "code",
   "source": "X_train, X_test, y_train, y_test = train_test_split(X, y, test_size = 0.2, random_state = 21)",
   "id": "377ecbe3ec32eef4",
   "outputs": [],
   "execution_count": 90
  },
  {
   "metadata": {
    "ExecuteTime": {
     "end_time": "2025-04-21T04:01:06.505857Z",
     "start_time": "2025-04-21T04:01:06.477757Z"
    }
   },
   "cell_type": "code",
   "source": [
    "X_train = scaler.fit_transform(X_train)\n",
    "X_test = scaler.transform(X_test)"
   ],
   "id": "dd0c7e8f1c454fea",
   "outputs": [],
   "execution_count": 91
  },
  {
   "metadata": {
    "ExecuteTime": {
     "end_time": "2025-04-21T04:11:11.927436Z",
     "start_time": "2025-04-21T04:10:49.635867Z"
    }
   },
   "cell_type": "code",
   "source": [
    "from scipy.stats import uniform\n",
    "from sklearn.pipeline import make_pipeline\n",
    "from sklearn.model_selection import RandomizedSearchCV\n",
    "pipeline = make_pipeline(svm.SVC())\n",
    "param_distributions = {\n",
    "    'svc__C': uniform(0.1, 100),       # Samples C between 0.1 and 100\n",
    "    'svc__gamma': uniform(0.001, 1),   # Samples gamma between 0.001 and 1\n",
    "    'svc__kernel': ['rbf'],'svc__class_weight':['balanced', None]\n",
    "}\n",
    "\n",
    "search = RandomizedSearchCV(\n",
    "    estimator=pipeline,\n",
    "    param_distributions=param_distributions,\n",
    "    n_iter=50,             # Try 50 different combinations\n",
    "    scoring='accuracy',\n",
    "    cv=5,\n",
    "    random_state=70,\n",
    "    verbose=4,\n",
    "    n_jobs=-1\n",
    ")\n",
    "search.fit(X_train, y_train)\n",
    "print(\"Best Params:\", search.best_params_)\n",
    "print(\"Best CV Score:\", search.best_score_)"
   ],
   "id": "8cbdbbea13f69eaa",
   "outputs": [
    {
     "name": "stdout",
     "output_type": "stream",
     "text": [
      "Fitting 5 folds for each of 50 candidates, totalling 250 fits\n",
      "Best Params: {'svc__C': np.float64(13.86338786942478), 'svc__class_weight': None, 'svc__gamma': np.float64(0.1857480115333836), 'svc__kernel': 'rbf'}\n",
      "Best CV Score: 0.9250876776924111\n"
     ]
    }
   ],
   "execution_count": 94
  },
  {
   "metadata": {
    "ExecuteTime": {
     "end_time": "2025-04-21T03:15:04.997180Z",
     "start_time": "2025-04-21T03:15:04.834794Z"
    }
   },
   "cell_type": "code",
   "source": [
    "best_model = search.best_estimator_\n",
    "y_pred = best_model.predict(X_test)\n"
   ],
   "id": "85ee04491279742d",
   "outputs": [],
   "execution_count": 78
  },
  {
   "metadata": {
    "ExecuteTime": {
     "end_time": "2025-04-21T03:15:06.466473Z",
     "start_time": "2025-04-21T03:15:06.458984Z"
    }
   },
   "cell_type": "code",
   "source": [
    "print('Accuracy:',metrics.accuracy_score(y_test, y_pred))\n",
    "print('Precision:',metrics.precision_score(y_test, y_pred))\n",
    "print('Recall:',metrics.recall_score(y_test, y_pred))"
   ],
   "id": "49d3911fb5ac4ab1",
   "outputs": [
    {
     "name": "stdout",
     "output_type": "stream",
     "text": [
      "Accuracy: 0.9227359088030399\n",
      "Precision: 0.841726618705036\n",
      "Recall: 0.8624078624078624\n"
     ]
    }
   ],
   "execution_count": 79
  }
 ],
 "metadata": {
  "kernelspec": {
   "display_name": "Python 3",
   "language": "python",
   "name": "python3"
  },
  "language_info": {
   "codemirror_mode": {
    "name": "ipython",
    "version": 2
   },
   "file_extension": ".py",
   "mimetype": "text/x-python",
   "name": "python",
   "nbconvert_exporter": "python",
   "pygments_lexer": "ipython2",
   "version": "2.7.6"
  }
 },
 "nbformat": 4,
 "nbformat_minor": 5
}
